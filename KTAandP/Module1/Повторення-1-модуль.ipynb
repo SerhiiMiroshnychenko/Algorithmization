{
 "cells": [
  {
   "cell_type": "markdown",
   "id": "b98f8715-4ceb-4d83-8163-e0fa784cce26",
   "metadata": {},
   "source": [
    "# Лекція-повторення. Змістовий модуль 1\n",
    "## КОМП'ЮТЕРНА ТЕХНІКА, АЛГОРИТМІЗАЦІЯ ТА ПРОГРАМУВАННЯ\n",
    "\n",
    "---\n",
    "\n",
    "## Тема 1. Вступ до курсу «Комп'ютерна техніка, алгоритмізація та програмування»\n",
    "\n",
    "### 1.1 Предмет, мета та задачі курсу\n",
    "\n",
    "**Мета курсу:** Формування навичок алгоритмічного мислення та програмування для розв'язання інженерних задач.\n",
    "\n",
    "**Зв'язок з іншими дисциплінами:**\n",
    "- Інформатика (базові поняття)\n",
    "- Вища математика (обчислення, алгоритми)\n",
    "- Фізика (моделювання процесів)\n",
    "- Інженерні дисципліни (практичне застосування)\n",
    "\n",
    "### 1.2 Архітектура сучасних комп'ютерів\n",
    "\n",
    "**Основні компоненти:**\n",
    "\n",
    "1. **Центральний процесор (CPU)** - виконує інструкції і керує обчислювальним процесом\n",
    "   - Арифметико-логічний пристрій (ALU)\n",
    "   - Блок управління\n",
    "   - Регістри\n",
    "\n",
    "2. **Оперативна пам'ять (RAM)** - тимчасове зберігання даних і програм\n",
    "\n",
    "3. **Постійна пам'ять (ROM)** - зберігання системної інформації\n",
    "\n",
    "4. **Зовнішня пам'ять** - довготривале зберігання (HDD, SSD)\n",
    "\n",
    "5. **Периферійні пристрої** - введення/виведення інформації\n",
    "\n",
    "### 1.3 Узагальнена структура програмного забезпечення\n",
    "\n",
    "**1. Системне ПЗ:**\n",
    "- Операційні системи (Windows, Linux, macOS)\n",
    "- Драйвери пристроїв\n",
    "- Системні утиліти\n",
    "\n",
    "**2. Прикладне ПЗ:**\n",
    "- Офісні програми\n",
    "- Графічні редактори\n",
    "- Браузери\n",
    "\n",
    "**3. Інструментальне ПЗ:**\n",
    "- Компілятори та інтерпретатори\n",
    "- Середовища розробки (IDE)\n",
    "- Системи контролю версій\n",
    "\n",
    "### 1.4 Роль мов програмування високого рівня\n",
    "\n",
    "**Переваги мов високого рівня над машинним кодом:**\n",
    "- Краща читабельність коду\n",
    "- Переносимість між платформами\n",
    "- Підтримка та модифікація коду\n",
    "- Абстракція складних операцій\n",
    "- Швидкість розробки\n",
    "\n",
    "### 1.5 Середовища розробки (IDE)\n",
    "\n",
    "**IDE (Integrated Development Environment)** - інтегровані інструменти для:\n",
    "- Написання коду (редактор з підсвічуванням синтаксису)\n",
    "- Налагодження (debugger)\n",
    "- Тестування\n",
    "- Автодоповнення коду\n",
    "- Інтеграція з системами контролю версій\n",
    "\n",
    "**Приклади:** PyCharm, Visual Studio Code, Jupyter Notebook, Spyder\n",
    "\n",
    "### 1.6 Принципи керування версіями\n",
    "\n",
    "Системи контролю версій (Git) дозволяють:\n",
    "- Відстежувати зміни в коді\n",
    "- Працювати командою\n",
    "- Повертатися до попередніх версій\n",
    "- Зберігати історію розробки\n",
    "\n",
    "---\n",
    "\n",
    "## Тема 2. Алгоритмізація\n",
    "\n",
    "### 2.1 Поняття алгоритму\n",
    "\n",
    "**Алгоритм** - точна послідовність дій, що призводить до розв'язання задачі за скінченну кількість кроків.\n",
    "\n",
    "**Властивості алгоритму:**\n",
    "- **Дискретність** - складається з окремих кроків\n",
    "- **Визначеність** - кожен крок чітко визначений\n",
    "- **Результативність** - призводить до результату за скінченний час\n",
    "- **Масовість** - застосовний для класу задач\n",
    "- **Виконуваність** - кожна дія може бути виконана\n",
    "\n",
    "### 2.2 Блок-схеми алгоритмів\n",
    "\n",
    "**Основні елементи блок-схем:**\n",
    "\n",
    "| Символ | Призначення |\n",
    "|--------|-------------|\n",
    "| **Овал (Термінатор)** | Початок/кінець алгоритму |\n",
    "| **Паралелограм (Дані)** | Введення/виведення даних |\n",
    "| **Прямокутник (Процес)** | Операція обчислення (процес) |\n",
    "| **Ромб (Рішення)** | Умова (розгалуження) - має один вхід і два виходи |\n",
    "| **П'ятикутник (Верхня межа циклу)** | Початок циклу (ініціалізація, умова для входу в цикл) |\n",
    "| **П'ятикутник перевернутий (Нижня межа циклу)** | Кінець циклу (завершення ітерації, перевірка умови продовження) |\n",
    "| **Прямокутник з подвійними лініями (Зумовлений процес)** | Виклик підпрограми або модуля |\n",
    "| **Коло (З'єднувач)** | З'єднання ліній, продовження блок-схеми в іншому місці |\n",
    "| **Стрілки (Сполучні лінії)** | Напрямок виконання алгоритму |\n",
    "\n",
    "### 2.3 Основні типи алгоритмів\n",
    "\n",
    "**1. Лінійний алгоритм** - виконує всі команди послідовно одна за одною\n",
    "\n",
    "**2. Розгалужений алгоритм** - виконання команд залежить від виконання певної умови\n",
    "\n",
    "**3. Циклічний алгоритм** - містить повторення певної послідовності дій\n",
    "\n",
    "---\n",
    "\n",
    "## Тема 3. Основи Python: синтаксис, типи даних, введення і виведення\n",
    "\n",
    "### 3.1 Типова структура програми"
   ]
  },
  {
   "cell_type": "code",
   "execution_count": 1,
   "id": "07eb6c01-93f5-4770-85e3-fedd12f3a8d5",
   "metadata": {},
   "outputs": [],
   "source": [
    "# Comments - коментарі для пояснення коду\n",
    "\n",
    "# Import statements - імпорт бібліотек\n",
    "import math\n",
    "\n",
    "# Constants - константи\n",
    "PI = 3.14159\n",
    "GRAVITY = 9.81  # m/s^2\n",
    "\n",
    "# Main code - основний код\n",
    "def main():\n",
    "    # Variables - змінні\n",
    "    # Processing - обробка\n",
    "    # Output - вивід результатів\n",
    "    pass\n",
    "\n",
    "# Program execution - виконання програми\n",
    "if __name__ == \"__main__\":\n",
    "    main()"
   ]
  },
  {
   "cell_type": "markdown",
   "id": "151597ba-80ec-4cdc-b0c4-e233eb67d5e0",
   "metadata": {},
   "source": [
    "### 3.2 Типи даних в Python\n",
    "\n",
    "#### 3.2.1 Базові типи даних"
   ]
  },
  {
   "cell_type": "code",
   "execution_count": 2,
   "id": "9c4b003f-0b81-4b02-bf5b-318d47bf2ebb",
   "metadata": {},
   "outputs": [],
   "source": [
    "# int - цілі числа\n",
    "age = 25\n",
    "count = -10\n",
    "large_number = 1_000_000  # Підкреслення для читабельності\n",
    "\n",
    "# float - дійсні числа (з плаваючою крапкою)\n",
    "pi = 3.14159\n",
    "temperature = -5.5\n",
    "velocity = 15.75  # m/s\n",
    "\n",
    "# str - рядки (текст)\n",
    "name = \"Taras\"\n",
    "message = 'Hello, World!'\n",
    "multiline = \"\"\"Multiple\n",
    "lines\n",
    "text\"\"\"\n",
    "\n",
    "# bool - логічний тип (True/False)\n",
    "is_active = True\n",
    "is_completed = False"
   ]
  },
  {
   "cell_type": "markdown",
   "id": "b9048ee1-db26-48d9-bfb8-2067c3396021",
   "metadata": {},
   "source": [
    "#### 3.2.2 Перевірка типів"
   ]
  },
  {
   "cell_type": "code",
   "execution_count": 3,
   "id": "44ba632e-3d6c-41f3-8e2c-e259764808d6",
   "metadata": {},
   "outputs": [
    {
     "name": "stdout",
     "output_type": "stream",
     "text": [
      "<class 'int'>\n",
      "<class 'float'>\n",
      "<class 'str'>\n",
      "True\n",
      "False\n"
     ]
    }
   ],
   "source": [
    "# type() - функція для перевірки типу даних\n",
    "x = 5\n",
    "print(type(x))  # <class 'int'>\n",
    "\n",
    "y = 5.0\n",
    "print(type(y))  # <class 'float'>\n",
    "\n",
    "z = \"5\"\n",
    "print(type(z))  # <class 'str'>\n",
    "\n",
    "# isinstance() - перевірка належності до типу\n",
    "value = 3.14\n",
    "print(isinstance(value, float))  # True\n",
    "print(isinstance(value, int))    # False"
   ]
  },
  {
   "cell_type": "markdown",
   "id": "3e15f4a0-02ab-4e32-aded-fa7ceecbc75a",
   "metadata": {},
   "source": [
    "### 3.3 Змінні\n",
    "\n",
    "**Правила іменування змінних:**\n",
    "- Може містити літери, цифри, підкреслення\n",
    "- Не може починатися з цифри\n",
    "- Регістрозалежні (name ≠ Name)\n",
    "- Не можна використовувати зарезервовані слова"
   ]
  },
  {
   "cell_type": "code",
   "execution_count": 4,
   "id": "7c3413fe-4afa-4340-9996-36f94426a1e1",
   "metadata": {},
   "outputs": [],
   "source": [
    "# Правильні назви\n",
    "variable_name = 10\n",
    "_private_var = 20\n",
    "counter1 = 0\n",
    "mass_kg = 50.5\n",
    "\n",
    "# Неправильні назви\n",
    "# 2variable = 10        # Помилка: починається з цифри\n",
    "# variable-name = 20    # Помилка: містить дефіс\n",
    "# variable name = 30    # Помилка: містить пробіл"
   ]
  },
  {
   "cell_type": "markdown",
   "id": "6b448743-d478-4ae1-b262-6a60f49f8b66",
   "metadata": {},
   "source": [
    "### 3.4 Операції\n",
    "\n",
    "#### 3.4.1 Арифметичні операції"
   ]
  },
  {
   "cell_type": "code",
   "execution_count": 5,
   "id": "0db47d19-12f6-4aca-b8ab-8135eb5ddbc9",
   "metadata": {},
   "outputs": [
    {
     "name": "stdout",
     "output_type": "stream",
     "text": [
      "10 / 3 = 3.3333333333333335\n",
      "10 // 3 = 3\n",
      "10 % 3 = 1\n",
      "2 ** 3 = 8\n"
     ]
    }
   ],
   "source": [
    "# Basic arithmetic operations\n",
    "a = 10\n",
    "b = 3\n",
    "\n",
    "# Addition - додавання\n",
    "sum_result = a + b      # 13\n",
    "\n",
    "# Subtraction - віднімання\n",
    "diff = a - b            # 7\n",
    "\n",
    "# Multiplication - множення\n",
    "product = a * b         # 30\n",
    "\n",
    "# Division - ділення (завжди повертає float)\n",
    "quotient = a / b        # 3.3333...\n",
    "\n",
    "# Floor division - цілочисельне ділення\n",
    "floor_div = a // b      # 3\n",
    "\n",
    "# Modulus - залишок від ділення\n",
    "remainder = a % b       # 1\n",
    "\n",
    "# Exponentiation - піднесення до степеня\n",
    "power = a ** b          # 1000\n",
    "\n",
    "print(f\"10 / 3 = {10 / 3}\")      # 3.333...\n",
    "print(f\"10 // 3 = {10 // 3}\")    # 3\n",
    "print(f\"10 % 3 = {10 % 3}\")      # 1\n",
    "print(f\"2 ** 3 = {2 ** 3}\")      # 8"
   ]
  },
  {
   "cell_type": "markdown",
   "id": "30c18568-26b8-48be-8d90-dc1d84007811",
   "metadata": {},
   "source": [
    "#### 3.4.2 Операції порівняння"
   ]
  },
  {
   "cell_type": "code",
   "execution_count": 6,
   "id": "292a4939-8812-46cd-92dc-953eca3e871c",
   "metadata": {},
   "outputs": [
    {
     "name": "stdout",
     "output_type": "stream",
     "text": [
      "False\n",
      "True\n",
      "False\n",
      "True\n",
      "True\n",
      "True\n"
     ]
    }
   ],
   "source": [
    "x = 5\n",
    "y = 10\n",
    "\n",
    "# Equality - рівність\n",
    "print(x == y)   # False - оператор == перевіряє рівність\n",
    "\n",
    "# Inequality - нерівність\n",
    "print(x != y)   # True\n",
    "\n",
    "# Greater than - більше\n",
    "print(x > y)    # False\n",
    "\n",
    "# Less than - менше\n",
    "print(x < y)    # True\n",
    "\n",
    "# Greater or equal - більше або дорівнює\n",
    "print(x >= 5)   # True\n",
    "\n",
    "# Less or equal - менше або дорівнює\n",
    "print(x <= 10)  # True"
   ]
  },
  {
   "cell_type": "markdown",
   "id": "257e8b61-7e57-4991-aa00-f7ad2cfe4b91",
   "metadata": {},
   "source": [
    "#### 3.4.3 Логічні операції"
   ]
  },
  {
   "cell_type": "code",
   "execution_count": 7,
   "id": "4d362bb0-2d63-473c-ac45-3280097e7cb0",
   "metadata": {},
   "outputs": [
    {
     "name": "stdout",
     "output_type": "stream",
     "text": [
      "True\n",
      "True\n",
      "False\n"
     ]
    }
   ],
   "source": [
    "# Логічні оператори: and, or, not\n",
    "\n",
    "age = 20\n",
    "has_license = True\n",
    "\n",
    "# and - логічне \"І\" (обидві умови повинні бути True)\n",
    "can_drive = age >= 18 and has_license\n",
    "print(can_drive)  # True\n",
    "\n",
    "# or - логічне \"АБО\" (хоча б одна умова True)\n",
    "is_weekend = True\n",
    "is_holiday = False\n",
    "can_rest = is_weekend or is_holiday\n",
    "print(can_rest)  # True\n",
    "\n",
    "# not - логічне заперечення\n",
    "is_working_day = not is_weekend\n",
    "print(is_working_day)  # False\n",
    "\n",
    "# Складні умови\n",
    "temperature = 25\n",
    "is_sunny = True\n",
    "go_outside = temperature > 20 and is_sunny and not is_working_day"
   ]
  },
  {
   "cell_type": "markdown",
   "id": "8f53f85f-03a6-4ce7-80e9-f658c7526e34",
   "metadata": {},
   "source": [
    "### 3.5 Операції перетворення типів"
   ]
  },
  {
   "cell_type": "code",
   "execution_count": 8,
   "id": "5be2d560-0cdd-4de5-a88a-528648402b82",
   "metadata": {},
   "outputs": [
    {
     "name": "stdout",
     "output_type": "stream",
     "text": [
      "Error: cannot convert directly\n"
     ]
    }
   ],
   "source": [
    "# String to integer\n",
    "str_number = \"123\"\n",
    "int_number = int(str_number)  # 123\n",
    "\n",
    "# String to float\n",
    "str_float = \"3.14\"\n",
    "float_number = float(str_float)  # 3.14\n",
    "\n",
    "# Integer to string\n",
    "num = 42\n",
    "str_num = str(num)  # \"42\"\n",
    "\n",
    "# Float to integer (truncates decimal part)\n",
    "f = 3.9\n",
    "i = int(f)  # 3\n",
    "\n",
    "# Важливо: int(\"3.5\") викличе ValueError!\n",
    "# Треба спочатку перетворити в float, потім в int\n",
    "try:\n",
    "    result = int(\"5.15\")  # ValueError\n",
    "except ValueError:\n",
    "    print(\"Error: cannot convert directly\")\n",
    "    result = int(float(\"5.15\"))  # Правильно: 5\n",
    "\n",
    "# Integer to float\n",
    "x = 5\n",
    "y = float(x)  # 5.0"
   ]
  },
  {
   "cell_type": "markdown",
   "id": "84a0b972-3cac-454c-a06e-607cce224479",
   "metadata": {},
   "source": [
    "### 3.6 Консольне введення даних"
   ]
  },
  {
   "cell_type": "code",
   "execution_count": 13,
   "id": "6ff62319-bbde-453d-b5d3-fc27eb79c7a1",
   "metadata": {},
   "outputs": [
    {
     "name": "stdin",
     "output_type": "stream",
     "text": [
      "Введіть ваше ім'я:  Artem\n"
     ]
    },
    {
     "name": "stdout",
     "output_type": "stream",
     "text": [
      "Привіт, Artem!\n"
     ]
    },
    {
     "name": "stdin",
     "output_type": "stream",
     "text": [
      "Введіть ваш вік:  28\n"
     ]
    },
    {
     "name": "stdout",
     "output_type": "stream",
     "text": [
      "Наступного року вам буде 29\n"
     ]
    },
    {
     "name": "stdin",
     "output_type": "stream",
     "text": [
      "Введіть ваш зріст у метрах:  1.75\n"
     ]
    },
    {
     "name": "stdout",
     "output_type": "stream",
     "text": [
      "Ваш зріст: 175.0 cм\n"
     ]
    },
    {
     "name": "stdin",
     "output_type": "stream",
     "text": [
      "Введіть довжину та ширину:  10 20\n"
     ]
    },
    {
     "name": "stdout",
     "output_type": "stream",
     "text": [
      "Площа: 200.0 м²\n"
     ]
    }
   ],
   "source": [
    "# input() - завжди повертає рядок (str)\n",
    "name = input(\"Введіть ваше ім'я: \")\n",
    "print(f\"Привіт, {name}!\")\n",
    "\n",
    "# Введення чисел - потрібне перетворення типу\n",
    "age_str = input(\"Введіть ваш вік: \")\n",
    "age = int(age_str)\n",
    "print(f\"Наступного року вам буде {age + 1}\")\n",
    "\n",
    "# Скорочена форма\n",
    "height = float(input(\"Введіть ваш зріст у метрах: \"))\n",
    "print(f\"Ваш зріст: {height*100} cм\")\n",
    "\n",
    "# Введення кількох значень через пробіл\n",
    "data = input(\"Введіть довжину та ширину: \").split()\n",
    "length = float(data[0])\n",
    "width = float(data[1])\n",
    "area = length * width\n",
    "print(f\"Площа: {area} м²\")"
   ]
  },
  {
   "cell_type": "markdown",
   "id": "eb0d7804-bfe0-4116-8b60-d573b6f502f2",
   "metadata": {},
   "source": [
    "### 3.7 Форматоване виведення (f-strings)"
   ]
  },
  {
   "cell_type": "code",
   "execution_count": 14,
   "id": "ad9b5e9d-8a3f-40dc-a832-ced9252515c7",
   "metadata": {},
   "outputs": [
    {
     "name": "stdout",
     "output_type": "stream",
     "text": [
      "Name: Taras, Age: 20\n",
      "Next year: 21\n",
      "Pi with 2 decimals: 3.14\n",
      "Pi with 4 decimals: 3.1416\n",
      "Number:    42\n",
      "Number: 00042\n",
      "|Hello     |\n",
      "|     Hello|\n",
      "|  Hello   |\n",
      "1.23e+06\n"
     ]
    }
   ],
   "source": [
    "# f-strings - найсучасніший спосіб форматування\n",
    "name = \"Taras\"\n",
    "age = 20\n",
    "height = 1.75\n",
    "\n",
    "# Базове використання\n",
    "print(f\"Name: {name}, Age: {age}\")\n",
    "\n",
    "# Вирази всередині f-strings\n",
    "print(f\"Next year: {age + 1}\")\n",
    "\n",
    "# Форматування чисел\n",
    "pi = 3.14159265359\n",
    "\n",
    "# Кількість знаків після коми\n",
    "print(f\"Pi with 2 decimals: {pi:.2f}\")  # 3.14\n",
    "print(f\"Pi with 4 decimals: {pi:.4f}\")  # 3.1416\n",
    "\n",
    "# Ширина поля\n",
    "number = 42\n",
    "print(f\"Number: {number:5d}\")   # \"   42\" (5 символів)\n",
    "print(f\"Number: {number:05d}\")  # \"00042\" (доповнення нулями)\n",
    "\n",
    "# Вирівнювання\n",
    "text = \"Hello\"\n",
    "print(f\"|{text:<10}|\")  # Left align:  |Hello     |\n",
    "print(f\"|{text:>10}|\")  # Right align: |     Hello|\n",
    "print(f\"|{text:^10}|\")  # Center:      |  Hello   |\n",
    "\n",
    "# Наукова нотація\n",
    "large = 1234567.89\n",
    "print(f\"{large:.2e}\")  # 1.23e+06"
   ]
  },
  {
   "cell_type": "markdown",
   "id": "89bc6c81-0c83-4078-8ef6-30764b148674",
   "metadata": {},
   "source": [
    "### 3.8 Вбудовані функції"
   ]
  },
  {
   "cell_type": "code",
   "execution_count": 15,
   "id": "2ea62e4a-bfa1-44b8-9054-2aeadd29f848",
   "metadata": {},
   "outputs": [
    {
     "name": "stdout",
     "output_type": "stream",
     "text": [
      "<class 'int'>\n",
      "5\n",
      "5\n",
      "10\n",
      "3.14\n",
      "4\n",
      "3.14\n",
      "1\n",
      "8\n",
      "8\n"
     ]
    }
   ],
   "source": [
    "# type() - перевірка типу\n",
    "x = 10\n",
    "print(type(x))  # <class 'int'>\n",
    "\n",
    "# len() - довжина послідовності (рядка, списку тощо)\n",
    "text = \"Hello\"\n",
    "print(len(text))  # 5\n",
    "\n",
    "numbers = [1, 2, 3, 4, 5]\n",
    "print(len(numbers))  # 5\n",
    "\n",
    "# abs() - абсолютне значення\n",
    "print(abs(-10))   # 10\n",
    "print(abs(3.14))  # 3.14\n",
    "\n",
    "# round() - округлення\n",
    "print(round(3.7))      # 4\n",
    "print(round(3.14159, 2))  # 3.14\n",
    "\n",
    "# min(), max() - мінімум, максимум\n",
    "print(min(5, 2, 8, 1))  # 1\n",
    "print(max(5, 2, 8, 1))  # 8\n",
    "\n",
    "# pow() - піднесення до степеня\n",
    "print(pow(2, 3))  # 8 (те ж саме що 2**3)"
   ]
  },
  {
   "cell_type": "markdown",
   "id": "797590ca-5866-4059-a669-5375db2cd00f",
   "metadata": {},
   "source": [
    "### 3.9 Приклад: обчислення кінематичних параметрів\n",
    "\n",
    "**Пояснення:** Цей приклад демонструє обчислення параметрів вільного падіння тіла з висоти. Програма використовує введення даних з перевіркою коректності, математичні обчислення з бібліотекою `math`, та форматоване виведення результатів з одиницями вимірювання."
   ]
  },
  {
   "cell_type": "code",
   "execution_count": 16,
   "id": "3ce9dfb2-1c6c-41ad-9184-fc11079870bd",
   "metadata": {},
   "outputs": [
    {
     "name": "stdout",
     "output_type": "stream",
     "text": [
      "=== Обчислення параметрів вільного падіння ===\n"
     ]
    },
    {
     "name": "stdin",
     "output_type": "stream",
     "text": [
      "Введіть висоту [м]:  2\n"
     ]
    },
    {
     "name": "stdout",
     "output_type": "stream",
     "text": [
      "\n",
      "Результати:\n",
      "Час падіння: 0.64 с\n",
      "Кінцева швидкість: 6.26 м/с\n",
      "Кінцева швидкість: 22.55 км/год\n",
      "\n",
      "Типи даних:\n",
      "Тип height: <class 'float'>\n",
      "Тип time: <class 'float'>\n"
     ]
    }
   ],
   "source": [
    "# Обчислення параметрів вільного падіння\n",
    "\n",
    "print(\"=== Обчислення параметрів вільного падіння ===\")\n",
    "\n",
    "# Імпорт математичної бібліотеки\n",
    "import math\n",
    "\n",
    "# Введення даних з вказівкою одиниць\n",
    "height = float(input(\"Введіть висоту [м]: \"))\n",
    "\n",
    "# Перевірка коректності введених даних\n",
    "if height <= 0:\n",
    "    print(\"Помилка: висота повинна бути додатною!\")\n",
    "else:\n",
    "    # Константи\n",
    "    g = 9.81  # м/с² - прискорення вільного падіння\n",
    "    \n",
    "    # Обчислення\n",
    "    # Час падіння: t = sqrt(2h/g)\n",
    "    time = math.sqrt(2 * height / g)\n",
    "    \n",
    "    # Кінцева швидкість: v = g*t\n",
    "    velocity = g * time\n",
    "    \n",
    "    # Форматований вивід з одиницями вимірювання\n",
    "    print(f\"\\nРезультати:\")\n",
    "    print(f\"Час падіння: {time:.2f} с\")\n",
    "    print(f\"Кінцева швидкість: {velocity:.2f} м/с\")\n",
    "    print(f\"Кінцева швидкість: {velocity * 3.6:.2f} км/год\")\n",
    "    \n",
    "    # Перевірка типів даних\n",
    "    print(f\"\\nТипи даних:\")\n",
    "    print(f\"Тип height: {type(height)}\")\n",
    "    print(f\"Тип time: {type(time)}\")"
   ]
  },
  {
   "cell_type": "markdown",
   "id": "63a3e5a0-f187-45c7-b42c-68f278a9b576",
   "metadata": {},
   "source": [
    "### 3.10 Приклад: обчислення масо-габаритних параметрів\n",
    "\n",
    "**Пояснення:** Програма обчислює геометричні та фізичні параметри циліндра (площу основи, об'єм, масу, площу поверхні). Демонструє роботу з константою π з бібліотеки `math`, множинні обчислення та форматований вивід результатів у вигляді таблиці."
   ]
  },
  {
   "cell_type": "code",
   "execution_count": 17,
   "id": "c3a72e4f-7154-48f5-a139-4e0435bf973c",
   "metadata": {},
   "outputs": [
    {
     "name": "stdout",
     "output_type": "stream",
     "text": [
      "=== Обчислення параметрів циліндра ===\n"
     ]
    },
    {
     "name": "stdin",
     "output_type": "stream",
     "text": [
      "Введіть радіус циліндра [см]:  100\n",
      "Введіть висоту циліндра [см]:  200\n",
      "Введіть густину матеріалу [г/см³]:  7.6\n"
     ]
    },
    {
     "name": "stdout",
     "output_type": "stream",
     "text": [
      "\n",
      "========================================\n",
      "Результати:\n",
      "========================================\n",
      "Площа основи:       31415.93 см²\n",
      "Об'єм:            6283185.31 см³\n",
      "Маса:             47752208.33 г\n",
      "Маса:              47752.208 кг\n",
      "Бічна площа:       125663.71 см²\n",
      "Повна площа:       188495.56 см²\n",
      "========================================\n",
      "\n",
      "Перевірка:\n",
      "Тип volume: <class 'float'>\n",
      "Чи є volume типом float? True\n"
     ]
    }
   ],
   "source": [
    "# Обчислення параметрів циліндра\n",
    "\n",
    "print(\"=== Обчислення параметрів циліндра ===\")\n",
    "\n",
    "# Імпорт математичної бібліотеки для використання Pi\n",
    "import math\n",
    "\n",
    "# Введення даних\n",
    "radius = float(input(\"Введіть радіус циліндра [см]: \"))\n",
    "height = float(input(\"Введіть висоту циліндра [см]: \"))\n",
    "density = float(input(\"Введіть густину матеріалу [г/см³]: \"))\n",
    "\n",
    "# Перевірка коректності\n",
    "if radius <= 0 or height <= 0 or density <= 0:\n",
    "    print(\"Помилка: всі параметри повинні бути додатними!\")\n",
    "else:\n",
    "    # Обчислення\n",
    "    # Площа основи\n",
    "    base_area = math.pi * radius ** 2  # см²\n",
    "    \n",
    "    # Об'єм\n",
    "    volume = base_area * height  # см³\n",
    "    \n",
    "    # Маса\n",
    "    mass = volume * density  # г\n",
    "    \n",
    "    # Бічна площа поверхні\n",
    "    lateral_area = 2 * math.pi * radius * height  # см²\n",
    "    \n",
    "    # Повна площа поверхні\n",
    "    total_area = 2 * base_area + lateral_area  # см²\n",
    "    \n",
    "    # Вивід результатів у форматі таблиці\n",
    "    print(f\"\\n{'='*40}\")\n",
    "    print(f\"Результати:\")\n",
    "    print(f\"{'='*40}\")\n",
    "    print(f\"Площа основи:     {base_area:10.2f} см²\")\n",
    "    print(f\"Об'єм:            {volume:10.2f} см³\")\n",
    "    print(f\"Маса:             {mass:10.2f} г\")\n",
    "    print(f\"Маса:             {mass/1000:10.3f} кг\")\n",
    "    print(f\"Бічна площа:      {lateral_area:10.2f} см²\")\n",
    "    print(f\"Повна площа:      {total_area:10.2f} см²\")\n",
    "    print(f\"{'='*40}\")\n",
    "    \n",
    "    # Перевірка типів\n",
    "    print(f\"\\nПеревірка:\")\n",
    "    print(f\"Тип volume: {type(volume)}\")\n",
    "    print(f\"Чи є volume типом float? {isinstance(volume, float)}\")"
   ]
  },
  {
   "cell_type": "markdown",
   "id": "4c8a4fb8-07ec-4666-9879-66c25292823e",
   "metadata": {},
   "source": [
    "## Тема 4. Керуючі структури в Python: умови та цикли\n",
    "\n",
    "### 4.1 Умовні оператори\n",
    "\n",
    "#### 4.1.1 Оператор if\n",
    "\n",
    "**Синтаксис:**\n",
    "```python\n",
    "if condition:\n",
    "    # блок коду (виконується, якщо умова True)\n",
    "    statement1\n",
    "    statement2\n",
    "```\n",
    "\n",
    "**Приклад:**"
   ]
  },
  {
   "cell_type": "code",
   "execution_count": 18,
   "id": "917ac6a2-469d-4160-81ca-d8e174aebb3d",
   "metadata": {},
   "outputs": [
    {
     "name": "stdout",
     "output_type": "stream",
     "text": [
      "Ви повнолітній\n",
      "Ви можете голосувати\n"
     ]
    }
   ],
   "source": [
    "age = 18\n",
    "if age >= 18:\n",
    "    print(\"Ви повнолітній\")\n",
    "    print(\"Ви можете голосувати\")"
   ]
  },
  {
   "cell_type": "markdown",
   "id": "799696b1-09e8-4e65-b45a-f6832c683989",
   "metadata": {},
   "source": [
    "#### 4.1.2 Конструкція if-else\n",
    "\n",
    "```python\n",
    "if condition:\n",
    "    # виконується, якщо умова True\n",
    "    statement1\n",
    "else:\n",
    "    # виконується, якщо умова False\n",
    "    statement2\n",
    "```\n",
    "\n",
    "**Приклад:**"
   ]
  },
  {
   "cell_type": "code",
   "execution_count": 19,
   "id": "e538771f-74e3-4d2a-a18d-73051d7d915a",
   "metadata": {},
   "outputs": [
    {
     "name": "stdout",
     "output_type": "stream",
     "text": [
      "Надворі холодно\n"
     ]
    }
   ],
   "source": [
    "temperature = 15\n",
    "\n",
    "if temperature > 20:\n",
    "    print(\"Надворі тепло\")\n",
    "else:\n",
    "    print(\"Надворі холодно\")"
   ]
  },
  {
   "cell_type": "markdown",
   "id": "d0f1836d-ee64-4c50-8ac8-0903ddc66db2",
   "metadata": {},
   "source": [
    "#### 4.1.3 Конструкція if-elif-else\n",
    "\n",
    "**Правильний синтаксис в Python:** `if-elif-else`"
   ]
  },
  {
   "cell_type": "code",
   "execution_count": 20,
   "id": "bae8d0eb-d3e8-4273-ae24-05fae0d90d7f",
   "metadata": {},
   "outputs": [
    {
     "name": "stdout",
     "output_type": "stream",
     "text": [
      "Ваша оцінка: B\n"
     ]
    }
   ],
   "source": [
    "score = 85\n",
    "\n",
    "if score >= 90:\n",
    "    grade = \"A\"\n",
    "elif score >= 80:\n",
    "    grade = \"B\"\n",
    "elif score >= 70:\n",
    "    grade = \"C\"\n",
    "elif score >= 60:\n",
    "    grade = \"D\"\n",
    "else:\n",
    "    grade = \"F\"\n",
    "\n",
    "print(f\"Ваша оцінка: {grade}\")"
   ]
  },
  {
   "cell_type": "markdown",
   "id": "fa243bac-9606-4623-9159-f4efc409110e",
   "metadata": {},
   "source": [
    "#### 4.1.4 Вкладені умови"
   ]
  },
  {
   "cell_type": "code",
   "execution_count": 21,
   "id": "c097ee3f-143b-4a14-bba3-68bbe609eeb9",
   "metadata": {},
   "outputs": [
    {
     "name": "stdout",
     "output_type": "stream",
     "text": [
      "Ви можете водити\n",
      "Ви можете водити\n"
     ]
    }
   ],
   "source": [
    "age = 20\n",
    "has_license = True\n",
    "\n",
    "if age >= 18:\n",
    "    if has_license:\n",
    "        print(\"Ви можете водити\")\n",
    "    else:\n",
    "        print(\"Вам потрібні права\")\n",
    "else:\n",
    "    print(\"Ви занадто молоді для водіння\")\n",
    "\n",
    "# Той же код, але коротше:\n",
    "if age >= 18 and has_license:\n",
    "    print(\"Ви можете водити\")\n",
    "elif age >= 18:\n",
    "    print(\"Вам потрібні права\")\n",
    "else:\n",
    "    print(\"Ви занадто молоді для водіння\")"
   ]
  },
  {
   "cell_type": "markdown",
   "id": "a1dcadf3-60e7-4439-8653-f542aaee25cb",
   "metadata": {},
   "source": [
    "#### 4.1.5 Тернарний оператор (умовний вираз)"
   ]
  },
  {
   "cell_type": "code",
   "execution_count": 22,
   "id": "c9332cbc-5172-4f91-8027-72ac494a12e4",
   "metadata": {},
   "outputs": [
    {
     "name": "stdout",
     "output_type": "stream",
     "text": [
      "Дорослий\n"
     ]
    }
   ],
   "source": [
    "# Компактний умовний вираз\n",
    "age = 20\n",
    "status = \"Дорослий\" if age >= 18 else \"Неповнолітній\"\n",
    "print(status)  # Дорослий\n",
    "\n",
    "# Еквівалентний код:\n",
    "if age >= 18:\n",
    "    status = \"Дорослий\"\n",
    "else:\n",
    "    status = \"Неповнолітній\""
   ]
  },
  {
   "cell_type": "markdown",
   "id": "89039a4d-1ef5-4511-b8fc-588c24669f74",
   "metadata": {},
   "source": [
    "### 4.2 Оператор match-case (Python 3.10+)\n",
    "\n",
    "**Оператор match** - реалізує вибір серед кількох константних варіантів (аналог switch в інших мовах)."
   ]
  },
  {
   "cell_type": "code",
   "execution_count": 23,
   "id": "bcaa8516-d9b0-4a81-8832-136c348aeb69",
   "metadata": {},
   "outputs": [
    {
     "name": "stdout",
     "output_type": "stream",
     "text": [
      "Середа\n"
     ]
    }
   ],
   "source": [
    "# match-case для вибору варіантів\n",
    "day = 3\n",
    "\n",
    "match day:\n",
    "    case 1:\n",
    "        day_name = \"Понеділок\"\n",
    "    case 2:\n",
    "        day_name = \"Вівторок\"\n",
    "    case 3:\n",
    "        day_name = \"Середа\"\n",
    "    case 4:\n",
    "        day_name = \"Четвер\"\n",
    "    case 5:\n",
    "        day_name = \"П'ятниця\"\n",
    "    case 6 | 7:  # кілька значень\n",
    "        day_name = \"Вихідний\"\n",
    "    case _:  # варіант за замовчуванням\n",
    "        day_name = \"Некоректний день\"\n",
    "\n",
    "print(day_name)"
   ]
  },
  {
   "cell_type": "markdown",
   "id": "aba897f6-19e0-4f4f-b674-4b5393df5750",
   "metadata": {},
   "source": [
    "### 4.3 Організація лінійних і розгалужених обчислень\n",
    "\n",
    "#### 4.3.1 Лінійні обчислення\n",
    "\n",
    "**Пояснення:** Лінійні обчислення - це послідовне виконання операцій без розгалужень. Всі інструкції виконуються одна за одною."
   ]
  },
  {
   "cell_type": "code",
   "execution_count": 24,
   "id": "daea71eb-f8b1-4b49-b546-3e891d06b4e8",
   "metadata": {},
   "outputs": [
    {
     "name": "stdout",
     "output_type": "stream",
     "text": [
      "Відстань: 100 м\n"
     ]
    }
   ],
   "source": [
    "# Лінійні обчислення - послідовне виконання\n",
    "# Приклад: обчислення відстані\n",
    "\n",
    "velocity = 20  # м/с\n",
    "time = 5       # с\n",
    "\n",
    "# Обчислення\n",
    "distance = velocity * time\n",
    "\n",
    "# Вивід\n",
    "print(f\"Відстань: {distance} м\")"
   ]
  },
  {
   "cell_type": "markdown",
   "id": "ba515eac-15cb-4fb7-bcbe-be83c95cc1aa",
   "metadata": {},
   "source": [
    "#### 4.3.2 Розгалужені обчислення\n",
    "\n",
    "**Пояснення:** Розгалужені обчислення - виконання різних дій залежно від умов. Програма обчислює корені квадратного рівняння, перевіряючи значення дискримінанта."
   ]
  },
  {
   "cell_type": "code",
   "execution_count": 25,
   "id": "ca2e54cf-da3f-4945-a1ea-7b218a826c9d",
   "metadata": {},
   "outputs": [
    {
     "name": "stdin",
     "output_type": "stream",
     "text": [
      "Введіть коефіцієнт a:  10\n",
      "Введіть коефіцієнт b:  -20\n",
      "Введіть коефіцієнт c:  120\n"
     ]
    },
    {
     "name": "stdout",
     "output_type": "stream",
     "text": [
      "Немає дійсних коренів (дискримінант < 0)\n"
     ]
    }
   ],
   "source": [
    "# Розгалужені обчислення - залежать від умов\n",
    "# Приклад: розв'язання квадратного рівняння\n",
    "\n",
    "import math\n",
    "\n",
    "a = float(input(\"Введіть коефіцієнт a: \"))\n",
    "b = float(input(\"Введіть коефіцієнт b: \"))\n",
    "c = float(input(\"Введіть коефіцієнт c: \"))\n",
    "\n",
    "if a == 0:\n",
    "    print(\"Помилка: 'a' не може бути нулем у квадратному рівнянні\")\n",
    "else:\n",
    "    # Обчислення дискримінанта\n",
    "    D = b**2 - 4*a*c\n",
    "    \n",
    "    if D > 0:\n",
    "        x1 = (-b + math.sqrt(D)) / (2*a)\n",
    "        x2 = (-b - math.sqrt(D)) / (2*a)\n",
    "        print(f\"Два дійсних корені: x1 = {x1:.4f}, x2 = {x2:.4f}\")\n",
    "    elif D == 0:\n",
    "        x = -b / (2*a)\n",
    "        print(f\"Один корінь: x = {x:.4f}\")\n",
    "    else:\n",
    "        print(\"Немає дійсних коренів (дискримінант < 0)\")"
   ]
  },
  {
   "cell_type": "markdown",
   "id": "12b07df2-8bcd-46be-b907-3fe84634c6ee",
   "metadata": {},
   "source": [
    "#### 4.3.3 Похибка обчислень\n",
    "\n",
    "**Похибка обчислень** - різниця між точним та обчисленим значенням через обмеження типів даних."
   ]
  },
  {
   "cell_type": "code",
   "execution_count": 26,
   "id": "e1c023e0-eb15-46d4-88e9-2894622d6f58",
   "metadata": {},
   "outputs": [
    {
     "name": "stdout",
     "output_type": "stream",
     "text": [
      "0.1 + 0.2 = 0.30000000000000004\n",
      "Чи 0.1 + 0.2 == 0.3? False\n",
      "З допуском: True\n",
      "Сума 10 × 0.1 = 0.9999999999999999\n",
      "Похибка: 1.1102230246251565e-16\n"
     ]
    }
   ],
   "source": [
    "# Приклад похибки обчислень\n",
    "\n",
    "# Обмеження точності чисел з плаваючою крапкою\n",
    "a = 0.1\n",
    "b = 0.2\n",
    "result = a + b\n",
    "print(f\"0.1 + 0.2 = {result}\")           # 0.30000000000000004\n",
    "print(f\"Чи 0.1 + 0.2 == 0.3? {result == 0.3}\")  # False!\n",
    "\n",
    "# Правильне порівняння з допуском\n",
    "epsilon = 1e-9\n",
    "is_equal = abs(result - 0.3) < epsilon\n",
    "print(f\"З допуском: {is_equal}\")     # True\n",
    "\n",
    "# Приклад накопичення похибки\n",
    "sum_value = 0.0\n",
    "for i in range(10):\n",
    "    sum_value += 0.1\n",
    "print(f\"Сума 10 × 0.1 = {sum_value}\")  # Не точно 1.0!\n",
    "print(f\"Похибка: {abs(sum_value - 1.0)}\")"
   ]
  },
  {
   "cell_type": "markdown",
   "id": "9bd95336-bc8c-4267-a645-9cc55df2f7df",
   "metadata": {},
   "source": [
    "### 4.4 Цикли\n",
    "\n",
    "#### 4.4.1 Цикл for\n",
    "\n",
    "**Використовується, коли кількість ітерацій заздалегідь відома.**"
   ]
  },
  {
   "cell_type": "code",
   "execution_count": 27,
   "id": "8e87a222-6ea1-4eff-b44c-ee99fc2640df",
   "metadata": {},
   "outputs": [
    {
     "name": "stdout",
     "output_type": "stream",
     "text": [
      "0\n",
      "1\n",
      "2\n",
      "3\n",
      "4\n",
      "1\n",
      "3\n",
      "5\n",
      "7\n",
      "9\n",
      "10\n",
      "9\n",
      "8\n",
      "7\n",
      "6\n",
      "5\n",
      "4\n",
      "3\n",
      "2\n",
      "1\n",
      "П\n",
      "р\n",
      "и\n",
      "в\n",
      "і\n",
      "т\n"
     ]
    }
   ],
   "source": [
    "# Базовий цикл for з range()\n",
    "for i in range(5):\n",
    "    print(i)  # 0, 1, 2, 3, 4\n",
    "\n",
    "# range(start, stop, step)\n",
    "for i in range(1, 10, 2):\n",
    "    print(i)  # 1, 3, 5, 7, 9\n",
    "\n",
    "# Зворотний порядок\n",
    "for i in range(10, 0, -1):\n",
    "    print(i)  # 10, 9, 8, ..., 1\n",
    "\n",
    "# Перебір символів рядка\n",
    "text = \"Привіт\"\n",
    "for char in text:\n",
    "    print(char)"
   ]
  },
  {
   "cell_type": "markdown",
   "id": "ff1a7319-4056-47eb-862b-ab65f428bac3",
   "metadata": {},
   "source": [
    "*Функція range()** - створює послідовність чисел:\n",
    "- `range(n)` - від 0 до n-1\n",
    "- `range(start, stop)` - від start до stop-1\n",
    "- `range(start, stop, step)` - з кроком step"
   ]
  },
  {
   "cell_type": "code",
   "execution_count": 28,
   "id": "a8d12470-2089-4746-8687-5cf654e7ef58",
   "metadata": {},
   "outputs": [
    {
     "name": "stdout",
     "output_type": "stream",
     "text": [
      "0 1 2 3 4 \n",
      "2 3 4 5 6 7 \n",
      "0 2 4 6 8 \n",
      "10 9 8 7 6 5 4 3 2 1 \n"
     ]
    }
   ],
   "source": [
    "# Приклади використання range()\n",
    "# Примітка: range() сама по собі не виводить числа,\n",
    "# для демонстрації використовуємо цикл\n",
    "\n",
    "# range(5) - числа від 0 до 4\n",
    "for i in range(5):\n",
    "    print(i, end=\" \")  # 0 1 2 3 4\n",
    "print()\n",
    "\n",
    "# range(2, 8) - числа від 2 до 7\n",
    "for i in range(2, 8):\n",
    "    print(i, end=\" \")  # 2 3 4 5 6 7\n",
    "print()\n",
    "\n",
    "# range(0, 10, 2) - парні числа від 0 до 8\n",
    "for i in range(0, 10, 2):\n",
    "    print(i, end=\" \")  # 0 2 4 6 8\n",
    "print()\n",
    "\n",
    "# range(10, 0, -1) - зворотний відлік\n",
    "for i in range(10, 0, -1):\n",
    "    print(i, end=\" \")  # 10 9 8 7 6 5 4 3 2 1\n",
    "print()"
   ]
  },
  {
   "cell_type": "markdown",
   "id": "5d5d6609-8abf-4de7-978a-854416998feb",
   "metadata": {},
   "source": [
    "#### 4.4.2 Цикл while\n",
    "\n",
    "**Виконується, поки умова істинна (True).**"
   ]
  },
  {
   "cell_type": "code",
   "execution_count": 30,
   "id": "8b8181ac-baa1-401e-abdc-71a86102e52a",
   "metadata": {},
   "outputs": [
    {
     "name": "stdout",
     "output_type": "stream",
     "text": [
      "0\n",
      "1\n",
      "2\n",
      "3\n",
      "4\n"
     ]
    },
    {
     "name": "stdin",
     "output_type": "stream",
     "text": [
      "Введіть ваш вік (0-120):  28\n"
     ]
    },
    {
     "name": "stdout",
     "output_type": "stream",
     "text": [
      "Ваш вік: 10220 днів\n"
     ]
    }
   ],
   "source": [
    "# Базовий цикл while\n",
    "count = 0\n",
    "while count < 5:\n",
    "    print(count)\n",
    "    count += 1  # Важливо: збільшуємо лічильник!\n",
    "\n",
    "# Валідація введення користувача\n",
    "while True:\n",
    "    age = int(input(\"Введіть ваш вік (0-120): \"))\n",
    "    if 0 <= age <= 120:\n",
    "        break  # Вихід з циклу\n",
    "    else:\n",
    "        print(\"Некоректний вік, спробуйте ще раз\")\n",
    "\n",
    "print(f\"Ваш вік: {age*365} днів\")"
   ]
  },
  {
   "cell_type": "markdown",
   "id": "ef18726c-47b8-4353-89a7-0fa559043bba",
   "metadata": {},
   "source": [
    "**Важливо:** переконайтеся, що умова циклу в якийсь момент стане False, інакше отримаєте нескінченний цикл!"
   ]
  },
  {
   "cell_type": "code",
   "execution_count": 31,
   "id": "679ea6fd-f1d7-4d48-868d-f15ccdb18bac",
   "metadata": {},
   "outputs": [],
   "source": [
    "# Приклад нескінченного циклу\n",
    "# while True:\n",
    "#     print(\"Це буде виконуватись вічно!\")\n",
    "\n",
    "# Правильний підхід\n",
    "counter = 0\n",
    "max_iterations = 100\n",
    "while counter < max_iterations:\n",
    "    # ... якийсь код ...\n",
    "    counter += 1"
   ]
  },
  {
   "cell_type": "markdown",
   "id": "0b82ee10-2c2c-430f-a2be-17e4f0e9f6c7",
   "metadata": {},
   "source": [
    "#### 4.4.3 Оператор break\n",
    "\n",
    "**break** - достроково завершує виконання циклу."
   ]
  },
  {
   "cell_type": "code",
   "execution_count": 32,
   "id": "79c899c1-e7c5-4e14-8bbf-225584bb88ee",
   "metadata": {},
   "outputs": [
    {
     "name": "stdout",
     "output_type": "stream",
     "text": [
      "Перше число, що ділиться на 7: 7\n",
      "Знайдено 19!\n"
     ]
    }
   ],
   "source": [
    "# Знайти перше число, що ділиться на 7\n",
    "for i in range(1, 100):\n",
    "    if i % 7 == 0:\n",
    "        print(f\"Перше число, що ділиться на 7: {i}\")\n",
    "        break  # Негайний вихід з циклу\n",
    "\n",
    "# Пошук числа\n",
    "target = 19\n",
    "\n",
    "for num in range(1, 50):\n",
    "    if num == target:\n",
    "        print(f\"Знайдено {target}!\")\n",
    "        break\n",
    "else:\n",
    "    # Виконується, якщо цикл завершився без break\n",
    "    print(f\"{target} не знайдено\")"
   ]
  },
  {
   "cell_type": "markdown",
   "id": "fd4b75a5-fa49-44da-8021-2cb091a8dde6",
   "metadata": {},
   "source": [
    "#### 4.4.4 Оператор continue\n",
    "\n",
    "**continue** - пропускає поточну ітерацію циклу та переходить до наступної."
   ]
  },
  {
   "cell_type": "code",
   "execution_count": 33,
   "id": "e26e6191-fbec-4c52-ab33-69bf0ce11c11",
   "metadata": {},
   "outputs": [
    {
     "name": "stdout",
     "output_type": "stream",
     "text": [
      "1\n",
      "3\n",
      "5\n",
      "7\n",
      "9\n",
      "0\n",
      "1\n",
      "2\n",
      "3\n",
      "4\n",
      "5\n",
      "6\n",
      "7\n",
      "8\n",
      "9\n"
     ]
    }
   ],
   "source": [
    "# Вивести тільки непарні числа\n",
    "for i in range(10):\n",
    "    if i % 2 == 0:\n",
    "        continue  # Пропустити парні числа\n",
    "    print(i)  # 1, 3, 5, 7, 9\n",
    "\n",
    "# Пропустити від'ємні числа\n",
    "for num in range(-5, 10):\n",
    "    if num < 0:\n",
    "        continue\n",
    "    print(num)  # Тільки 0, 1, 2, ..., 9"
   ]
  },
  {
   "cell_type": "markdown",
   "id": "c11d5f59-7595-4fb5-993b-cb5984724a71",
   "metadata": {},
   "source": [
    "#### 4.4.5 Оператор pass\n",
    "\n",
    "**pass** - нічого не робить (заповнювач для майбутнього коду)."
   ]
  },
  {
   "cell_type": "code",
   "execution_count": 34,
   "id": "14641368-443f-4c7b-bb37-1065dfe33e29",
   "metadata": {},
   "outputs": [
    {
     "name": "stdout",
     "output_type": "stream",
     "text": [
      "Непарне: 1\n",
      "Непарне: 3\n"
     ]
    }
   ],
   "source": [
    "# Заповнювач для майбутнього коду\n",
    "for i in range(5):\n",
    "    if i % 2 == 0:\n",
    "        pass  # TODO: реалізувати обробку парних чисел\n",
    "    else:\n",
    "        print(f\"Непарне: {i}\")"
   ]
  },
  {
   "cell_type": "markdown",
   "id": "0467dfa3-0eb8-4433-8c7b-bb57127c791e",
   "metadata": {},
   "source": [
    "### 4.5 Вкладені цикли\n",
    "\n",
    "**Вкладений цикл** - цикл всередині іншого циклу.\n",
    "\n",
    "**Пояснення:** Вкладені цикли використовуються для обробки двовимірних даних або для виконання повторюваних дій у кілька рівнів. Зовнішній цикл виконується N разів, а для кожної ітерації зовнішнього циклу внутрішній цикл виконується M разів."
   ]
  },
  {
   "cell_type": "code",
   "execution_count": 35,
   "id": "d0a547d4-6b87-48c2-8444-800315d2bb12",
   "metadata": {},
   "outputs": [
    {
     "name": "stdout",
     "output_type": "stream",
     "text": [
      "Таблиця множення:\n",
      "1 × 1 =  1  1 × 2 =  2  1 × 3 =  3  1 × 4 =  4  1 × 5 =  5  \n",
      "2 × 1 =  2  2 × 2 =  4  2 × 3 =  6  2 × 4 =  8  2 × 5 = 10  \n",
      "3 × 1 =  3  3 × 2 =  6  3 × 3 =  9  3 × 4 = 12  3 × 5 = 15  \n",
      "4 × 1 =  4  4 × 2 =  8  4 × 3 = 12  4 × 4 = 16  4 × 5 = 20  \n",
      "5 × 1 =  5  5 × 2 = 10  5 × 3 = 15  5 × 4 = 20  5 × 5 = 25  \n"
     ]
    }
   ],
   "source": [
    "# Таблиця множення\n",
    "print(\"Таблиця множення:\")\n",
    "for i in range(1, 6):\n",
    "    for j in range(1, 6):\n",
    "        product = i * j\n",
    "        print(f\"{i} × {j} = {product:2d}\", end=\"  \")\n",
    "    print()  # Новий рядок після кожного рядка таблиці\n",
    "\n",
    "# Вивід:\n",
    "# 1 × 1 =  1  1 × 2 =  2  1 × 3 =  3  1 × 4 =  4  1 × 5 =  5\n",
    "# 2 × 1 =  2  2 × 2 =  4  2 × 3 =  6  2 × 4 =  8  2 × 5 = 10\n",
    "# ..."
   ]
  },
  {
   "cell_type": "code",
   "execution_count": 36,
   "id": "c78407ea-3cb8-4f82-8592-05739fce369b",
   "metadata": {},
   "outputs": [
    {
     "name": "stdout",
     "output_type": "stream",
     "text": [
      "* \n",
      "* * \n",
      "* * * \n",
      "* * * * \n",
      "* * * * * \n"
     ]
    }
   ],
   "source": [
    "# Друк шаблону зірочками\n",
    "rows = 5\n",
    "for i in range(1, rows + 1):\n",
    "    for j in range(i):\n",
    "        print(\"*\", end=\" \")\n",
    "    print()  # Новий рядок\n",
    "\n",
    "# Вивід:\n",
    "# *\n",
    "# * *\n",
    "# * * *\n",
    "# * * * *\n",
    "# * * * * *"
   ]
  },
  {
   "cell_type": "markdown",
   "id": "ada7a95a-585e-43d8-87b0-43ec36fe11c1",
   "metadata": {},
   "source": [
    "### 4.6 Вибір типу циклу\n",
    "\n",
    "**Використовуйте `for`:**\n",
    "- Коли знаєте кількість ітерацій\n",
    "- Для перебору послідовності (наприклад, символів рядка)\n",
    "- Для підрахунку від start до stop\n",
    "\n",
    "**Використовуйте `while`:**\n",
    "- Коли кількість ітерацій невідома заздалегідь\n",
    "- Коли цикл залежить від умови, що може змінитися під час виконання\n",
    "- Для нескінченних циклів з внутрішнім break"
   ]
  },
  {
   "cell_type": "code",
   "execution_count": 37,
   "id": "d3e99bb6-20bc-4a69-86c7-4bc61160aaa9",
   "metadata": {},
   "outputs": [
    {
     "name": "stdout",
     "output_type": "stream",
     "text": [
      "Сума (for): 55\n",
      "Сума (while): 105, кількість: 14\n"
     ]
    }
   ],
   "source": [
    "# Цикл FOR - відома кількість ітерацій\n",
    "# Обчислити суму чисел від 1 до 10\n",
    "sum_for = 0\n",
    "for i in range(1, 11):\n",
    "    sum_for += i\n",
    "print(f\"Сума (for): {sum_for}\")\n",
    "\n",
    "# Цикл WHILE - невідома кількість ітерацій\n",
    "# Сумувати поки сума не перевищить 100\n",
    "sum_while = 0\n",
    "num = 1\n",
    "while sum_while <= 100:\n",
    "    sum_while += num\n",
    "    num += 1\n",
    "print(f\"Сума (while): {sum_while}, кількість: {num-1}\")"
   ]
  },
  {
   "cell_type": "markdown",
   "id": "8f3e4c02-af72-47f2-9bda-0d15a15d1d90",
   "metadata": {},
   "source": [
    "### 4.7 Комплексний приклад: обчислення з циклами\n",
    "\n",
    "**Пояснення:** Цей приклад демонструє використання циклів для статистичного аналізу даних. Програма вводить N значень, обчислює їх суму, середнє значення, мінімум, максимум та розмах. Показує поєднання циклу `for` для відомої кількості вимірювань та умовних операторів для визначення мін/макс значень."
   ]
  },
  {
   "cell_type": "code",
   "execution_count": 40,
   "id": "a18a0c3b-fcc2-4489-b97a-e0feb1639cc6",
   "metadata": {},
   "outputs": [
    {
     "name": "stdout",
     "output_type": "stream",
     "text": [
      "=== Статистичний аналіз даних ===\n"
     ]
    },
    {
     "name": "stdin",
     "output_type": "stream",
     "text": [
      "Введіть кількість вимірювань:  3\n"
     ]
    },
    {
     "name": "stdout",
     "output_type": "stream",
     "text": [
      "Введіть 3 значень:\n"
     ]
    },
    {
     "name": "stdin",
     "output_type": "stream",
     "text": [
      "Значення 1:  10\n",
      "Значення 2:  11.5\n",
      "Значення 3:  13\n"
     ]
    },
    {
     "name": "stdout",
     "output_type": "stream",
     "text": [
      "\n",
      "========================================\n",
      "Результати:\n",
      "========================================\n",
      "Кількість значень: 3\n",
      "Сума:              34.50\n",
      "Середнє:           11.50\n",
      "Мінімум:           10.00\n",
      "Максимум:          13.00\n",
      "Розмах:            3.00\n",
      "========================================\n"
     ]
    }
   ],
   "source": [
    "# Приклад: Статистичний аналіз даних\n",
    "\n",
    "print(\"=== Статистичний аналіз даних ===\")\n",
    "\n",
    "# Введення кількості вимірювань\n",
    "n = int(input(\"Введіть кількість вимірювань: \"))\n",
    "\n",
    "if n <= 0:\n",
    "    print(\"Помилка: кількість повинна бути додатною!\")\n",
    "else:\n",
    "    # Ініціалізація змінних\n",
    "    sum_values = 0.0\n",
    "    min_value = float('inf')  # Початкове значення - нескінченність\n",
    "    max_value = float('-inf')  # Початкове значення - мінус нескінченність\n",
    "    \n",
    "    # Введення даних\n",
    "    print(f\"Введіть {n} значень:\")\n",
    "    for i in range(n):\n",
    "        value = float(input(f\"Значення {i+1}: \"))\n",
    "        \n",
    "        # Оновлення статистики\n",
    "        sum_values += value\n",
    "        if value < min_value:\n",
    "            min_value = value\n",
    "        if value > max_value:\n",
    "            max_value = value\n",
    "    \n",
    "    # Обчислення результатів\n",
    "    average = sum_values / n\n",
    "    range_value = max_value - min_value\n",
    "    \n",
    "    # Вивід результатів\n",
    "    print(f\"\\n{'='*40}\")\n",
    "    print(f\"Результати:\")\n",
    "    print(f\"{'='*40}\")\n",
    "    print(f\"Кількість значень: {n}\")\n",
    "    print(f\"Сума:              {sum_values:.2f}\")\n",
    "    print(f\"Середнє:           {average:.2f}\")\n",
    "    print(f\"Мінімум:           {min_value:.2f}\")\n",
    "    print(f\"Максимум:          {max_value:.2f}\")\n",
    "    print(f\"Розмах:            {range_value:.2f}\")\n",
    "    print(f\"{'='*40}\")"
   ]
  },
  {
   "cell_type": "markdown",
   "id": "75343261-a9eb-4214-9d28-459336cc16d7",
   "metadata": {},
   "source": [
    "### 4.8 Особливі випадки циклів"
   ]
  },
  {
   "cell_type": "code",
   "execution_count": 41,
   "id": "7b0dd394-da33-4b05-a81e-207cb004a122",
   "metadata": {},
   "outputs": [
    {
     "name": "stdout",
     "output_type": "stream",
     "text": [
      "Ітерація 0\n",
      "Ітерація 1\n",
      "Ітерація 2\n",
      "Цикл завершився без break\n",
      "0\n",
      "1\n",
      "2\n",
      "Цикл while завершився\n"
     ]
    }
   ],
   "source": [
    "# Порожній діапазон - 0 ітерацій\n",
    "for i in range(0):\n",
    "    print(\"Це не виведеться\")\n",
    "\n",
    "# While з умовою False - 0 ітерацій\n",
    "while False:\n",
    "    print(\"Це теж не виведеться\")  # Виконається 0 разів\n",
    "\n",
    "# While з умовою True - нескінченний цикл (використовувати з break)\n",
    "count = 0\n",
    "while True:\n",
    "    print(f\"Ітерація {count}\")\n",
    "    count += 1\n",
    "    if count >= 3:\n",
    "        break  # Вихід після 3 ітерацій\n",
    "\n",
    "# Конструкція for-else\n",
    "for i in range(5):\n",
    "    if i == 10:  # Це ніколи не станеться\n",
    "        break\n",
    "else:\n",
    "    print(\"Цикл завершився без break\")  # Це виконається\n",
    "\n",
    "# Конструкція while-else\n",
    "counter = 0\n",
    "while counter < 3:\n",
    "    print(counter)\n",
    "    counter += 1\n",
    "else:\n",
    "    print(\"Цикл while завершився\")  # Це виконається"
   ]
  },
  {
   "cell_type": "markdown",
   "id": "fce30e25-153c-440c-bd89-f03b9e20d9c7",
   "metadata": {},
   "source": [
    "---\n",
    "\n",
    "## Підсумкові приклади\n",
    "\n",
    "### Приклад 1: Комплексна задача з циклами та умовами\n",
    "\n",
    "**Пояснення:** Програма аналізує результати тестування студентів. Вона зчитує бали, класифікує їх за оцінками (A, B, C, D, F), підраховує кількість кожної оцінки, обчислює середній бал та відсоткове співвідношення. Демонструє поєднання циклів, умов, лічильників та форматованого виведення."
   ]
  },
  {
   "cell_type": "code",
   "execution_count": 42,
   "id": "4c4e65d9-8633-40ac-ac5c-93e2b04fb763",
   "metadata": {},
   "outputs": [
    {
     "name": "stdout",
     "output_type": "stream",
     "text": [
      "=== Аналіз оцінок студентів ===\n"
     ]
    },
    {
     "name": "stdin",
     "output_type": "stream",
     "text": [
      "Введіть кількість студентів:  5\n"
     ]
    },
    {
     "name": "stdout",
     "output_type": "stream",
     "text": [
      "\n",
      "Студент 1:\n"
     ]
    },
    {
     "name": "stdin",
     "output_type": "stream",
     "text": [
      "Введіть бал (0-100):  50\n"
     ]
    },
    {
     "name": "stdout",
     "output_type": "stream",
     "text": [
      "Оцінка: F\n",
      "\n",
      "Студент 2:\n"
     ]
    },
    {
     "name": "stdin",
     "output_type": "stream",
     "text": [
      "Введіть бал (0-100):  30\n"
     ]
    },
    {
     "name": "stdout",
     "output_type": "stream",
     "text": [
      "Оцінка: F\n",
      "\n",
      "Студент 3:\n"
     ]
    },
    {
     "name": "stdin",
     "output_type": "stream",
     "text": [
      "Введіть бал (0-100):  98\n"
     ]
    },
    {
     "name": "stdout",
     "output_type": "stream",
     "text": [
      "Оцінка: A\n",
      "\n",
      "Студент 4:\n"
     ]
    },
    {
     "name": "stdin",
     "output_type": "stream",
     "text": [
      "Введіть бал (0-100):  63\n"
     ]
    },
    {
     "name": "stdout",
     "output_type": "stream",
     "text": [
      "Оцінка: D\n",
      "\n",
      "Студент 5:\n"
     ]
    },
    {
     "name": "stdin",
     "output_type": "stream",
     "text": [
      "Введіть бал (0-100):  42\n"
     ]
    },
    {
     "name": "stdout",
     "output_type": "stream",
     "text": [
      "Оцінка: F\n",
      "\n",
      "========================================\n",
      "Підсумок:\n",
      "========================================\n",
      "Всього студентів: 5\n",
      "Середній бал:     56.60\n",
      "\n",
      "Розподіл оцінок:\n",
      "A: 1 (20.0%)\n",
      "B: 0 (0.0%)\n",
      "C: 0 (0.0%)\n",
      "D: 1 (20.0%)\n",
      "F: 3 (60.0%)\n",
      "========================================\n"
     ]
    }
   ],
   "source": [
    "# Приклад: Аналіз результатів тестування\n",
    "\n",
    "print(\"=== Аналіз оцінок студентів ===\")\n",
    "\n",
    "num_students = int(input(\"Введіть кількість студентів: \"))\n",
    "\n",
    "if num_students <= 0:\n",
    "    print(\"Помилка: некоректна кількість студентів\")\n",
    "else:\n",
    "    # Лічильники для кожної оцінки\n",
    "    count_A = 0\n",
    "    count_B = 0\n",
    "    count_C = 0\n",
    "    count_D = 0\n",
    "    count_F = 0\n",
    "    \n",
    "    total_score = 0\n",
    "    \n",
    "    # Введення оцінок\n",
    "    for i in range(num_students):\n",
    "        print(f\"\\nСтудент {i+1}:\")\n",
    "        score = float(input(\"Введіть бал (0-100): \"))\n",
    "        \n",
    "        # Валідація\n",
    "        if score < 0 or score > 100:\n",
    "            print(\"Некоректний бал! Пропускаємо...\")\n",
    "            continue\n",
    "        \n",
    "        total_score += score\n",
    "        \n",
    "        # Класифікація оцінки\n",
    "        if score >= 90:\n",
    "            grade = 'A'\n",
    "            count_A += 1\n",
    "        elif score >= 80:\n",
    "            grade = 'B'\n",
    "            count_B += 1\n",
    "        elif score >= 70:\n",
    "            grade = 'C'\n",
    "            count_C += 1\n",
    "        elif score >= 60:\n",
    "            grade = 'D'\n",
    "            count_D += 1\n",
    "        else:\n",
    "            grade = 'F'\n",
    "            count_F += 1\n",
    "        \n",
    "        print(f\"Оцінка: {grade}\")\n",
    "    \n",
    "    # Результати\n",
    "    average = total_score / num_students\n",
    "    \n",
    "    print(f\"\\n{'='*40}\")\n",
    "    print(f\"Підсумок:\")\n",
    "    print(f\"{'='*40}\")\n",
    "    print(f\"Всього студентів: {num_students}\")\n",
    "    print(f\"Середній бал:     {average:.2f}\")\n",
    "    print(f\"\\nРозподіл оцінок:\")\n",
    "    print(f\"A: {count_A} ({count_A/num_students*100:.1f}%)\")\n",
    "    print(f\"B: {count_B} ({count_B/num_students*100:.1f}%)\")\n",
    "    print(f\"C: {count_C} ({count_C/num_students*100:.1f}%)\")\n",
    "    print(f\"D: {count_D} ({count_D/num_students*100:.1f}%)\")\n",
    "    print(f\"F: {count_F} ({count_F/num_students*100:.1f}%)\")\n",
    "    print(f\"{'='*40}\")"
   ]
  },
  {
   "cell_type": "markdown",
   "id": "a6d52629-e9b1-4f5d-b127-abb27bfa33b4",
   "metadata": {},
   "source": [
    "### Приклад 2: Пошук простих чисел\n",
    "\n",
    "**Пояснення:** Програма знаходить всі прості числа до заданої межі. Просте число - це натуральне число більше 1, яке ділиться тільки на 1 та на саме себе. Алгоритм перевіряє кожне число на подільність на всі числа від 2 до кореня з цього числа (оптимізація). Демонструє вкладені цикли та використання `break` для оптимізації."
   ]
  },
  {
   "cell_type": "code",
   "execution_count": 44,
   "id": "c4add661-92f1-498c-99ac-c8b6d733b90d",
   "metadata": {},
   "outputs": [
    {
     "name": "stdout",
     "output_type": "stream",
     "text": [
      "=== Пошук простих чисел ===\n"
     ]
    },
    {
     "name": "stdin",
     "output_type": "stream",
     "text": [
      "Знайти всі прості числа до:  100\n"
     ]
    },
    {
     "name": "stdout",
     "output_type": "stream",
     "text": [
      "\n",
      "Прості числа до 100:\n",
      "2 3 5 7 11 13 17 19 23 29 \n",
      "31 37 41 43 47 53 59 61 67 71 \n",
      "73 79 83 89 97 \n",
      "\n",
      "Всього знайдено простих чисел: 25\n"
     ]
    }
   ],
   "source": [
    "# Приклад: Пошук простих чисел\n",
    "\n",
    "print(\"=== Пошук простих чисел ===\")\n",
    "\n",
    "limit = int(input(\"Знайти всі прості числа до: \"))\n",
    "\n",
    "if limit < 2:\n",
    "    print(\"Немає простих чисел у цьому діапазоні\")\n",
    "else:\n",
    "    print(f\"\\nПрості числа до {limit}:\")\n",
    "    prime_count = 0\n",
    "    \n",
    "    for num in range(2, limit + 1):\n",
    "        is_prime = True\n",
    "        \n",
    "        # Перевірка чи num ділиться на будь-яке число від 2 до sqrt(num)\n",
    "        for divisor in range(2, int(num ** 0.5) + 1):\n",
    "            if num % divisor == 0:\n",
    "                is_prime = False\n",
    "                break  # Не потрібно перевіряти далі\n",
    "        \n",
    "        if is_prime:\n",
    "            print(num, end=\" \")\n",
    "            prime_count += 1\n",
    "            \n",
    "            # Новий рядок кожні 10 чисел\n",
    "            if prime_count % 10 == 0:\n",
    "                print()\n",
    "    \n",
    "    print(f\"\\n\\nВсього знайдено простих чисел: {prime_count}\")"
   ]
  },
  {
   "cell_type": "markdown",
   "id": "46510e3f-841a-4e9c-a1bd-1767fb8c0497",
   "metadata": {},
   "source": [
    "---\n",
    "\n",
    "## Контрольні питання для самоперевірки\n",
    "\n",
    "1. Яка основна мета курсу \"Комп'ютерна техніка, алгоритмізація та програмування\"?\n",
    "2. Яке призначення центрального процесора (CPU)?\n",
    "3. До якого типу ПЗ відноситься операційна система?\n",
    "4. Які переваги мов програмування високого рівня?\n",
    "5. Що таке IDE?\n",
    "6. Що таке алгоритм і які його властивості?\n",
    "7. Які основні символи використовуються у блок-схемах?\n",
    "8. Які типи алгоритмів ви знаєте?\n",
    "9. Які базові типи даних є в Python?\n",
    "10. Яка різниця між операторами `/`, `//` та `%`?\n",
    "11. Що повертає функція `type()`?\n",
    "12. Як правильно форматувати вивід за допомогою f-рядків?\n",
    "13. Який правильний синтаксис умовного оператора в Python?\n",
    "14. Яка різниця між циклами `for` та `while`?\n",
    "15. Що робить функція `range()`?\n",
    "16. Що робить оператор `break`? А `continue`?\n",
    "17. Що таке вкладені цикли?\n",
    "18. Що таке похибка обчислень?\n",
    "19. Який оператор використовується для вибору серед константних варіантів (Python 3.10+)?\n",
    "20. Коли краще використовувати цикл `for`, а коли `while`?"
   ]
  },
  {
   "cell_type": "markdown",
   "id": "6556ed1a-028b-48e1-b798-332976e12ef1",
   "metadata": {},
   "source": [
    "---\n",
    "\n",
    "## Рекомендації до підготовки\n",
    "\n",
    "1. **Повторіть теорію** за попередньо пройденими матеріалами та цією лекцією\n",
    "2. **Випишіть основні поняття** та їх визначення\n",
    "3. **Запам'ятайте синтаксис** основних конструкцій Python\n",
    "4. **Практикуйтеся в написанні коду** - напишіть кілька власних програм\n",
    "5. **Звертайте увагу на деталі** - різниця між `/` та `//`, `=` та `==`\n",
    "6. **Перевірте розуміння** типів даних та їх перетворення\n",
    "7. **Практикуйте роботу з циклами** - особливо вкладеними\n",
    "\n",
    "---\n",
    "\n",
    "**Успіхів у підготовці до контрольної роботи!** 🎓"
   ]
  }
 ],
 "metadata": {
  "kernelspec": {
   "display_name": "Python 3 (ipykernel)",
   "language": "python",
   "name": "python3"
  },
  "language_info": {
   "codemirror_mode": {
    "name": "ipython",
    "version": 3
   },
   "file_extension": ".py",
   "mimetype": "text/x-python",
   "name": "python",
   "nbconvert_exporter": "python",
   "pygments_lexer": "ipython3",
   "version": "3.13.5"
  }
 },
 "nbformat": 4,
 "nbformat_minor": 5
}
