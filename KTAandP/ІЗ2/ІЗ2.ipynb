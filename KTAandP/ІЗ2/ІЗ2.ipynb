{
 "cells": [
  {
   "metadata": {},
   "cell_type": "markdown",
   "source": [
    "# МЕТОДИЧНІ ВКАЗІВКИ ДО ІНДИВІДУАЛЬНОГО ЗАВДАННЯ №2\n",
    "\n",
    "## «РОБОТА З РЯДКАМИ»\n",
    "\n",
    "### з навчальної дисципліни «Комп'ютерна техніка, алгоритмізація та програмування»\n",
    "\n",
    "---\n",
    "\n",
    "**ТОВ «ТЕХНІЧНИЙ УНІВЕРСИТЕТ «МЕТІНВЕСТ ПОЛІТЕХНІКА»**\n",
    "\n",
    "**Запоріжжя, 2025**\n",
    "\n",
    "---\n",
    "\n",
    "### УКЛАДАЧ:\n",
    "Сергій МІРОШНИЧЕНКО, старший викладач кафедри автоматизації, електро- та робототехнічних систем.\n",
    "\n",
    "---\n",
    "\n",
    "## ЗМІСТ\n",
    "\n",
    "1. [Вступ](#вступ)\n",
    "2. [Теоретичні відомості](#теоретичні-відомості)\n",
    "   - 1.1. [Тип `str`, представлення тексту, кодування Unicode](#11-тип-str-представлення-тексту-кодування-unicode)\n",
    "   - 1.2. [Індексація, зрізи (slicing), ітерування](#12-індексація-зрізи-slicing-ітерування)\n",
    "   - 1.3. [Основні операції та методи рядків](#13-основні-операції-та-методи-рядків)\n",
    "   - 1.4. [Порівняння рядків, лексикографічний порядок](#14-порівняння-рядків-лексикографічний-порядок)\n",
    "   - 1.5. [Підрахунок символів за категоріями](#15-підрахунок-символів-за-категоріями)\n",
    "3. [Приклади програм](#приклади-програм)\n",
    "   - 2.1. [Базові операції з рядками](#21-базові-операції-з-рядками)\n",
    "   - 2.2. [Пошук та заміна підрядків](#22-пошук-та-заміна-підрядків)\n",
    "   - 2.3. [Перевірка паліндромів](#23-перевірка-паліндромів)\n",
    "   - 2.4. [Робота з кількома рядками](#24-робота-з-кількома-рядками)\n",
    "   - 2.5. [Підрахунок символів за категоріями](#25-підрахунок-символів-за-категоріями)\n",
    "   - 2.6. [Приклади сортування рядків](#26-приклади-сортування-рядків)\n",
    "4. [Завдання на індивідуальне завдання](#завдання-на-індивідуальне-завдання)\n",
    "   - 3.1. [Постановка завдання](#31-постановка-завдання)\n",
    "   - 3.2. [Варіанти завдань](#32-варіанти-завдань)\n",
    "   - 3.3. [Шаблон розв'язку](#33-шаблон-розвязку)\n",
    "5. [Вимоги до оформлення звіту](#вимоги-до-оформлення-звіту)\n",
    "6. [Питання для самоперевірки](#питання-для-самоперевірки)\n",
    "7. [Перелік рекомендованих джерел](#перелік-рекомендованих-джерел)\n",
    "\n",
    "---\n",
    "\n",
    "\n",
    "<a name=\"вступ\"></a>\n",
    "# ВСТУП\n",
    "\n",
    "### Мета роботи\n",
    "\n",
    "Сформувати навички опрацювання текстових даних мовою Python, зокрема виконання стандартних перетворень рядків, застосування лексикографічних порівнянь, підрахунків за ознаками та сортування за різними критеріями.\n",
    "\n",
    "### Організація роботи\n",
    "\n",
    "На виконання цієї роботи відводиться 6 академічних години.\n",
    "\n",
    "Індивідуальне завдання здобувачами виконується за допомогою обчислювальної техніки, використовуючи середовище розробки Python (наприклад, VS Code, PyCharm, або інше).\n",
    "\n",
    "Результатом виконання є програмний застосунок(и) консольного типу та оформлений за вимогами звіт.\n",
    "\n",
    "### Оцінювання\n",
    "\n",
    "Максимальна кількість балів, яку здобувач може отримати за виконання цього індивідуального завдання – **10 балів**.\n",
    "\n",
    "---\n",
    "\n",
    "<a name=\"теоретичні-відомості\"></a>\n",
    "# 1. ТЕОРЕТИЧНІ ВІДОМОСТІ\n",
    "\n",
    "<a name=\"11-тип-str-представлення-тексту-кодування-unicode\"></a>\n",
    "## 1.1. Тип `str`, представлення тексту, кодування Unicode\n",
    "\n",
    "### Основні властивості рядків\n",
    "\n",
    "- **Рядок у Python має тип `str`** і є незмінним (immutable) об'єктом. Це означає, що після створення рядка його не можна змінити. Будь-які операції, що здаються зміною рядка, насправді створюють новий рядок.\n",
    "\n",
    "- **Python 3 використовує Unicode** (UCS/UTF-8), що дає можливість коректно працювати з українськими літерами, емодзі тощо. Кожен символ у рядку є кодовою точкою Unicode.\n",
    "\n",
    "- **Довжина рядка:** `len(s)` — повертає кількість кодових точок Unicode у рядку.\n",
    "\n",
    "### Способи створення рядків\n",
    "\n",
    "У Python існує кілька способів створення рядків залежно від потреб: одинарні або подвійні лапки для звичайних рядків, потрійні лапки для багаторядкових текстів, та raw-рядки для збереження спеціальних символів без обробки."
   ],
   "id": "8b3c04a69df1cba2"
  },
  {
   "metadata": {
    "ExecuteTime": {
     "end_time": "2025-10-26T15:51:37.203658Z",
     "start_time": "2025-10-26T15:51:37.199679Z"
    }
   },
   "cell_type": "code",
   "source": [
    "# Подвійні лапки (еквівалентні одинарним)\n",
    "s2 = \"Привіт\"\n",
    "\n",
    "# Потрійні лапки для багаторядкових рядків\n",
    "s3 = \"\"\"Багаторядковий\n",
    "рядок з кількома\n",
    "рядками тексту\"\"\"\n",
    "\n",
    "# Потрійні одинарні лапки (також працюють)\n",
    "s4 = '''Також\n",
    "багаторядковий'''\n",
    "\n",
    "# Raw-рядки (екрануючі послідовності не обробляються)\n",
    "s5 = r\"C:\\new\\folder\\test.txt\"\n",
    "\n",
    "# Явне використання Unicode-символів\n",
    "s6 = \"Українська мова \\u0456 емодж\\u00ed \\U0001F600\""
   ],
   "id": "b24285082940af7",
   "outputs": [],
   "execution_count": 1
  },
  {
   "metadata": {},
   "cell_type": "markdown",
   "source": [
    "### Особливості незмінності\n",
    "\n",
    "Оскільки рядки є незмінними, будь-яка спроба змінити окремий символ призведе до помилки. Для \"зміни\" рядка потрібно створити новий рядок на основі старого."
   ],
   "id": "823a2bcabecc4b9"
  },
  {
   "metadata": {
    "ExecuteTime": {
     "end_time": "2025-10-26T15:51:37.221631Z",
     "start_time": "2025-10-26T15:51:37.219332Z"
    }
   },
   "cell_type": "code",
   "source": [
    "s = \"Hello\"\n",
    "# s[0] = \"h\"  # Помилка: TypeError: 'str' object does not support item assignment\n",
    "\n",
    "# Щоб \"змінити\", створюємо новий рядок\n",
    "s = \"h\" + s[1:]  # \"hello\""
   ],
   "id": "44718ca114c64707",
   "outputs": [],
   "execution_count": 2
  },
  {
   "metadata": {},
   "cell_type": "markdown",
   "source": [
    "<a name=\"12-індексація-зрізи-slicing-ітерування\"></a>\n",
    "## 1.2. Індексація, зрізи (slicing), ітерування\n",
    "\n",
    "### Індексація\n",
    "\n",
    "Індексація дозволяє отримати доступ до окремих символів рядка. Python підтримує як прямі індекси (від початку), так і від'ємні (від кінця).\n",
    "\n",
    "- **Прямі індекси:** `s[i]` де `i` від `0` до `len(s)-1`\n",
    "- **Від'ємні індекси:** від кінця рядка, `s[-1]` — останній символ, `s[-2]` — передостанній тощо"
   ],
   "id": "6c3abb0d1b2f66e1"
  },
  {
   "metadata": {
    "ExecuteTime": {
     "end_time": "2025-10-26T15:51:37.241864Z",
     "start_time": "2025-10-26T15:51:37.238396Z"
    }
   },
   "cell_type": "code",
   "source": [
    "s = \"алгоритмика\"\n",
    "print(s[0])    # \"а\" (перший символ)\n",
    "print(s[4])    # \"р\" (п'ятий символ, індекс 4)\n",
    "print(s[-1])   # \"а\" (останній символ)\n",
    "print(s[-3])   # \"и\" (третій з кінця)"
   ],
   "id": "4ae1d8b73dda76d9",
   "outputs": [
    {
     "name": "stdout",
     "output_type": "stream",
     "text": [
      "а\n",
      "р\n",
      "а\n",
      "и\n"
     ]
    }
   ],
   "execution_count": 3
  },
  {
   "metadata": {},
   "cell_type": "markdown",
   "source": [
    "### Зрізи (Slicing)\n",
    "\n",
    "Зрізи дозволяють витягувати підрядки з рядка, вказуючи початок, кінець та крок. Це потужний інструмент для роботи з частинами рядків.\n",
    "\n",
    "Синтаксис: `s[start:end:step]`\n",
    "- `start` — початок зрізу (включно), за замовчуванням 0\n",
    "- `end` — кінець зрізу (не включно), за замовчуванням len(s)\n",
    "- `step` — крок, за замовчуванням 1"
   ],
   "id": "8b5ddae4e2e7fb30"
  },
  {
   "metadata": {
    "ExecuteTime": {
     "end_time": "2025-10-26T15:51:37.280722Z",
     "start_time": "2025-10-26T15:51:37.275967Z"
    }
   },
   "cell_type": "code",
   "source": [
    "s = \"алгоритмика\"\n",
    "\n",
    "# Базове використання зрізів\n",
    "print(s[0:4])     # \"алго\" (символи з індексами 0,1,2,3)\n",
    "print(s[2:7])     # \"горит\"\n",
    "print(s[:5])      # \"алгор\" (від початку до індексу 5)\n",
    "print(s[5:])      # \"итмика\" (від індексу 5 до кінця)\n",
    "\n",
    "# Від'ємні індекси у зрізах\n",
    "print(s[-3:])     # \"ика\" (останні 3 символи)\n",
    "print(s[:-3])     # \"алгоритм\" (всі крім останніх 3)\n",
    "\n",
    "# Параметр step (крок)\n",
    "print(s[::2])     # \"агртиа\" (кожен другий символ)\n",
    "print(s[1::2])    # \"лоимк\" (кожен другий, починаючи з індексу 1)\n",
    "\n",
    "# Розворот рядка (негативний крок)\n",
    "print(s[::-1])    # \"акимтирогла\" (розворот рядка)"
   ],
   "id": "7367cff1af918637",
   "outputs": [
    {
     "name": "stdout",
     "output_type": "stream",
     "text": [
      "алго\n",
      "горит\n",
      "алгор\n",
      "итмика\n",
      "ика\n",
      "алгоритм\n",
      "агртиа\n",
      "лоимк\n",
      "акимтирогла\n"
     ]
    }
   ],
   "execution_count": 4
  },
  {
   "metadata": {},
   "cell_type": "markdown",
   "source": [
    "### Ітерування по символах\n",
    "\n",
    "Цикли дозволяють обробляти кожен символ рядка по черзі. Існує кілька способів ітерування залежно від потреб: прямий обхід, обхід з індексами, або зворотний обхід."
   ],
   "id": "3c2c5b8cee8de3cc"
  },
  {
   "metadata": {
    "ExecuteTime": {
     "end_time": "2025-10-26T15:51:37.317005Z",
     "start_time": "2025-10-26T15:51:37.313536Z"
    }
   },
   "cell_type": "code",
   "source": [
    "s = \"Python\"\n",
    "\n",
    "# Спосіб 1: Прямий обхід символів\n",
    "for ch in s:\n",
    "    print(ch, end=' ')  # P y t h o n\n",
    "\n",
    "print()  # новий рядок\n",
    "\n",
    "# Спосіб 2: Обхід з індексами через range\n",
    "for i in range(len(s)):\n",
    "    print(f\"Індекс {i}: {s[i]}\")\n",
    "\n",
    "# Спосіб 3: Зворотний обхід за допомогою while\n",
    "i = len(s) - 1\n",
    "while i >= 0:\n",
    "    print(s[i], end=' ')  # n o h t y P\n",
    "    i -= 1"
   ],
   "id": "9c1cd7bb629cc4c1",
   "outputs": [
    {
     "name": "stdout",
     "output_type": "stream",
     "text": [
      "P y t h o n \n",
      "Індекс 0: P\n",
      "Індекс 1: y\n",
      "Індекс 2: t\n",
      "Індекс 3: h\n",
      "Індекс 4: o\n",
      "Індекс 5: n\n",
      "n o h t y P "
     ]
    }
   ],
   "execution_count": 5
  },
  {
   "metadata": {},
   "cell_type": "markdown",
   "source": [
    "<a name=\"13-основні-операції-та-методи-рядків\"></a>\n",
    "## 1.3. Основні операції та методи рядків\n",
    "\n",
    "### Конкатенація та повторення\n",
    "\n",
    "Конкатенація (з'єднання) рядків виконується оператором `+`, а повторення — оператором `*`. Для об'єднання списку рядків ефективніше використовувати метод `join()`."
   ],
   "id": "e8c4167dc84c3593"
  },
  {
   "metadata": {
    "ExecuteTime": {
     "end_time": "2025-10-26T15:51:37.343800Z",
     "start_time": "2025-10-26T15:51:37.340362Z"
    }
   },
   "cell_type": "code",
   "source": [
    "# Конкатенація (з'єднання)\n",
    "s1 = \"Hello\"\n",
    "s2 = \"World\"\n",
    "s3 = s1 + \" \" + s2  # \"Hello World\"\n",
    "\n",
    "# Повторення\n",
    "s4 = \"Python! \" * 3  # \"Python! Python! Python! \"\n",
    "\n",
    "# Побудова рядка зі списку (ручне об'єднання)\n",
    "words = [\"Hello\", \"World\", \"from\", \"Python\"]\n",
    "sentence = \"\"\n",
    "for i in range(len(words)):\n",
    "    if i > 0:\n",
    "        sentence += \" \"\n",
    "    sentence += words[i]\n",
    "print(sentence)  # \"Hello World from Python\"\n",
    "\n",
    "# Використання вбудованого методу join (ефективніше)\n",
    "sentence = \" \".join(words)"
   ],
   "id": "a2abcbb7486f63a2",
   "outputs": [
    {
     "name": "stdout",
     "output_type": "stream",
     "text": [
      "Hello World from Python\n"
     ]
    }
   ],
   "execution_count": 6
  },
  {
   "metadata": {},
   "cell_type": "markdown",
   "source": [
    "### Методи пошуку\n",
    "\n",
    "Методи пошуку дозволяють знаходити підрядки всередині рядка. Метод `find()` повертає індекс або -1, метод `count()` підраховує входження, а оператор `in` перевіряє наявність підрядка."
   ],
   "id": "478b91e9fae597e6"
  },
  {
   "metadata": {
    "ExecuteTime": {
     "end_time": "2025-10-26T15:51:37.377359Z",
     "start_time": "2025-10-26T15:51:37.373658Z"
    }
   },
   "cell_type": "code",
   "source": [
    "s = \"Hello, World! Hello, Python!\"\n",
    "\n",
    "# find() - повертає індекс або -1\n",
    "print(s.find(\"World\"))      # 7\n",
    "print(s.find(\"Java\"))       # -1 (не знайдено)\n",
    "print(s.find(\"Hello\", 1))   # 14 (пошук з індексу 1)\n",
    "\n",
    "# rfind() - пошук з кінця\n",
    "print(s.rfind(\"Hello\"))     # 14 (останнє входження)\n",
    "\n",
    "# count() - підрахунок входжень\n",
    "print(s.count(\"Hello\"))     # 2\n",
    "print(s.count(\"o\"))         # 4\n",
    "\n",
    "# Оператор in - перевірка наявності підрядка\n",
    "if \"World\" in s:\n",
    "    print(\"Знайдено 'World'\")\n",
    "\n",
    "if \"Java\" not in s:\n",
    "    print(\"'Java' не знайдено\")"
   ],
   "id": "8e845f1e8f7f8cf8",
   "outputs": [
    {
     "name": "stdout",
     "output_type": "stream",
     "text": [
      "7\n",
      "-1\n",
      "14\n",
      "14\n",
      "2\n",
      "4\n",
      "Знайдено 'World'\n",
      "'Java' не знайдено\n"
     ]
    }
   ],
   "execution_count": 7
  },
  {
   "metadata": {},
   "cell_type": "markdown",
   "source": [
    "### Методи заміни та видалення\n",
    "\n",
    "Метод `replace()` замінює всі входження підрядка на інший рядок. Можна також обмежити кількість замін. Для видалення підрядка замінюємо його на порожній рядок."
   ],
   "id": "eeddd86b862bd6d0"
  },
  {
   "metadata": {
    "ExecuteTime": {
     "end_time": "2025-10-26T15:51:37.413963Z",
     "start_time": "2025-10-26T15:51:37.411266Z"
    }
   },
   "cell_type": "code",
   "source": [
    "s = \"Hello, World!\"\n",
    "\n",
    "# replace() - заміна всіх входжень\n",
    "s2 = s.replace(\"World\", \"Python\")  # \"Hello, Python!\"\n",
    "\n",
    "# replace з обмеженням кількості замін\n",
    "s3 = \"aaa bbb aaa ccc aaa\"\n",
    "s4 = s3.replace(\"aaa\", \"xxx\", 2)   # \"xxx bbb xxx ccc aaa\"\n",
    "\n",
    "# Видалення підрядка (заміна на порожній рядок)\n",
    "s5 = s.replace(\",\", \"\")             # \"Hello World!\""
   ],
   "id": "a1fb87784630c2b8",
   "outputs": [],
   "execution_count": 8
  },
  {
   "metadata": {},
   "cell_type": "markdown",
   "source": [
    "### Методи розбиття\n",
    "\n",
    "Метод `split()` розбиває рядок на список підрядків за роздільником. За замовчуванням роздільником є пробільні символи. Це корисно для обробки слів у реченні або даних у CSV-форматі."
   ],
   "id": "50a1cf240b2c9d65"
  },
  {
   "metadata": {
    "ExecuteTime": {
     "end_time": "2025-10-26T15:51:37.436338Z",
     "start_time": "2025-10-26T15:51:37.433335Z"
    }
   },
   "cell_type": "code",
   "source": [
    "# split() - розбиття за пробілами\n",
    "s = \"Hello World from Python\"\n",
    "words = s.split()  # ['Hello', 'World', 'from', 'Python']\n",
    "\n",
    "# Доступ до окремих слів\n",
    "print(words[0])    # \"Hello\"\n",
    "print(words[1])    # \"World\"\n",
    "\n",
    "# split() з вказаним роздільником\n",
    "csv = \"apple,banana,orange\"\n",
    "fruits = csv.split(',')  # ['apple', 'banana', 'orange']\n",
    "\n",
    "# split() з обмеженням кількості розбиттів\n",
    "text = \"one:two:three:four\"\n",
    "parts = text.split(':', 2)  # ['one', 'two', 'three:four']\n",
    "\n",
    "# Підрахунок слів\n",
    "word_count = len(words)\n",
    "print(f\"Кількість слів: {word_count}\")"
   ],
   "id": "eba0ef47aac14ae2",
   "outputs": [
    {
     "name": "stdout",
     "output_type": "stream",
     "text": [
      "Hello\n",
      "World\n",
      "Кількість слів: 4\n"
     ]
    }
   ],
   "execution_count": 9
  },
  {
   "metadata": {},
   "cell_type": "markdown",
   "source": [
    "### Методи зміни регістру\n",
    "\n",
    "Методи зміни регістру дозволяють перетворювати літери рядка у верхній або нижній регістр, що корисно для порівнянь без урахування регістру або форматування тексту."
   ],
   "id": "e0b1deab30aaf49e"
  },
  {
   "metadata": {
    "ExecuteTime": {
     "end_time": "2025-10-26T15:51:37.464692Z",
     "start_time": "2025-10-26T15:51:37.461774Z"
    }
   },
   "cell_type": "code",
   "source": [
    "s = \"Hello World\"\n",
    "\n",
    "# Нижній регістр\n",
    "print(s.lower())        # \"hello world\"\n",
    "\n",
    "# Верхній регістр\n",
    "print(s.upper())        # \"HELLO WORLD\"\n",
    "\n",
    "# Перша літера у верхньому регістрі\n",
    "print(s.capitalize())   # \"Hello world\"\n",
    "\n",
    "# Кожне слово з великої літери (title case)\n",
    "print(s.title())        # \"Hello World\"\n",
    "\n",
    "# Інвертування регістру\n",
    "print(s.swapcase())     # \"hELLO wORLD\""
   ],
   "id": "558015c752586323",
   "outputs": [
    {
     "name": "stdout",
     "output_type": "stream",
     "text": [
      "hello world\n",
      "HELLO WORLD\n",
      "Hello world\n",
      "Hello World\n",
      "hELLO wORLD\n"
     ]
    }
   ],
   "execution_count": 10
  },
  {
   "metadata": {},
   "cell_type": "markdown",
   "source": [
    "### Методи очищення пробілів\n",
    "\n",
    "Методи `strip()`, `lstrip()` та `rstrip()` видаляють пробільні символи з країв рядка. Це корисно при обробці введених даних користувача."
   ],
   "id": "b50a153d4d800d04"
  },
  {
   "metadata": {
    "ExecuteTime": {
     "end_time": "2025-10-26T15:51:37.503513Z",
     "start_time": "2025-10-26T15:51:37.500344Z"
    }
   },
   "cell_type": "code",
   "source": [
    "s = \"  Hello, World!  \"\n",
    "\n",
    "# strip() - видалення пробілів з обох кінців\n",
    "print(s.strip())        # \"Hello, World!\"\n",
    "\n",
    "# lstrip() - видалення зліва\n",
    "print(s.lstrip())       # \"Hello, World!  \"\n",
    "\n",
    "# rstrip() - видалення справа\n",
    "print(s.rstrip())       # \"  Hello, World!\"\n",
    "\n",
    "# strip з вказаними символами\n",
    "s2 = \"***Hello***\"\n",
    "print(s2.strip('*'))    # \"Hello\""
   ],
   "id": "b304a997d3a8c854",
   "outputs": [
    {
     "name": "stdout",
     "output_type": "stream",
     "text": [
      "Hello, World!\n",
      "Hello, World!  \n",
      "  Hello, World!\n",
      "Hello\n"
     ]
    }
   ],
   "execution_count": 11
  },
  {
   "metadata": {},
   "cell_type": "markdown",
   "source": [
    "### Методи перевірки (is-methods)\n",
    "\n",
    "Методи перевірки повертають `True` або `False` залежно від властивостей символів рядка. Вони корисні для валідації введених даних."
   ],
   "id": "517b9cb39dfb6081"
  },
  {
   "metadata": {
    "ExecuteTime": {
     "end_time": "2025-10-26T15:51:37.540542Z",
     "start_time": "2025-10-26T15:51:37.537106Z"
    }
   },
   "cell_type": "code",
   "source": [
    "# Перевірка: всі символи - літери\n",
    "print(\"abc\".isalpha())         # True\n",
    "print(\"abc123\".isalpha())      # False\n",
    "\n",
    "# Перевірка: всі символи - цифри\n",
    "print(\"123\".isdigit())         # True\n",
    "print(\"12.3\".isdigit())        # False\n",
    "\n",
    "# Перевірка: всі символи - літери або цифри\n",
    "print(\"abc123\".isalnum())      # True\n",
    "print(\"abc 123\".isalnum())     # False\n",
    "\n",
    "# Перевірка: всі символи - пробільні\n",
    "print(\"   \".isspace())         # True\n",
    "print(\" a \".isspace())         # False\n",
    "\n",
    "# Перевірка: всі літери малі\n",
    "print(\"hello\".islower())       # True\n",
    "print(\"Hello\".islower())       # False\n",
    "\n",
    "# Перевірка: всі літери великі\n",
    "print(\"HELLO\".isupper())       # True\n",
    "print(\"Hello\".isupper())       # False\n",
    "\n",
    "# Перевірка: рядок друкований\n",
    "print(\"Hello\".isprintable())   # True\n",
    "print(\"Hello\\n\".isprintable()) # False"
   ],
   "id": "c423a90b2fdf71b5",
   "outputs": [
    {
     "name": "stdout",
     "output_type": "stream",
     "text": [
      "True\n",
      "False\n",
      "True\n",
      "False\n",
      "True\n",
      "False\n",
      "True\n",
      "False\n",
      "True\n",
      "False\n",
      "True\n",
      "False\n",
      "True\n",
      "False\n"
     ]
    }
   ],
   "execution_count": 12
  },
  {
   "metadata": {},
   "cell_type": "markdown",
   "source": [
    "### Методи перевірки префіксів та суфіксів\n",
    "\n",
    "Методи `startswith()` та `endswith()` перевіряють, чи починається або закінчується рядок вказаним підрядком. Це зручно для фільтрації рядків за певними ознаками."
   ],
   "id": "a673923fafb21f30"
  },
  {
   "metadata": {
    "ExecuteTime": {
     "end_time": "2025-10-26T15:51:37.569111Z",
     "start_time": "2025-10-26T15:51:37.566081Z"
    }
   },
   "cell_type": "code",
   "source": [
    "s = \"Hello, World!\"\n",
    "\n",
    "# startswith() - перевірка префікса\n",
    "print(s.startswith(\"Hello\"))    # True\n",
    "print(s.startswith(\"World\"))    # False\n",
    "\n",
    "# endswith() - перевірка суфікса\n",
    "print(s.endswith(\"World!\"))     # True\n",
    "print(s.endswith(\"World\"))      # False"
   ],
   "id": "c6be147edf69d283",
   "outputs": [
    {
     "name": "stdout",
     "output_type": "stream",
     "text": [
      "True\n",
      "False\n",
      "True\n",
      "False\n"
     ]
    }
   ],
   "execution_count": 13
  },
  {
   "metadata": {},
   "cell_type": "markdown",
   "source": [
    "### Форматування рядків\n",
    "\n",
    "Форматування дозволяє вставляти значення змінних у рядки. F-рядки (f-strings) — це найсучасніший та найзручніший спосіб форматування в Python 3.6+."
   ],
   "id": "5edf74c17d5d03d9"
  },
  {
   "metadata": {
    "ExecuteTime": {
     "end_time": "2025-10-26T15:51:37.596134Z",
     "start_time": "2025-10-26T15:51:37.591918Z"
    }
   },
   "cell_type": "code",
   "source": [
    "# f-рядки (рекомендовано)\n",
    "name = \"Анна\"\n",
    "age = 25\n",
    "print(f\"{name} має {age} років\")  # \"Анна має 25 років\"\n",
    "print(f\"{name:>10}\")  # Вирівнювання праворуч в 10 символів\n",
    "print(f\"{age:05d}\")   # Доповнення нулями: \"00025\"\n",
    "\n",
    "# Метод format()\n",
    "print(\"{} має {} років\".format(name, age))\n",
    "print(\"{name} має {age} років\".format(name=name, age=age))"
   ],
   "id": "9e4881b502ad3b26",
   "outputs": [
    {
     "name": "stdout",
     "output_type": "stream",
     "text": [
      "Анна має 25 років\n",
      "      Анна\n",
      "00025\n",
      "Анна має 25 років\n",
      "Анна має 25 років\n"
     ]
    }
   ],
   "execution_count": 14
  },
  {
   "metadata": {},
   "cell_type": "markdown",
   "source": [
    "### Приклад: Базові перетворення\n",
    "\n",
    "Нижче наведено комплексний приклад використання різних методів рядків для типових операцій обробки тексту."
   ],
   "id": "f6ec82226f7f9234"
  },
  {
   "metadata": {
    "ExecuteTime": {
     "end_time": "2025-10-26T15:51:37.619219Z",
     "start_time": "2025-10-26T15:51:37.615785Z"
    }
   },
   "cell_type": "code",
   "source": [
    "s = \"  Привіт, світ!  \"\n",
    "\n",
    "print(f\"Довжина: {len(s)}\")                    # Довжина з пробілами\n",
    "print(f\"Обрізано: '{s.strip()}'\")              # Видалення пробілів\n",
    "print(f\"Нижній регістр: {s.lower()}\")          # Перетворення до нижнього регістру\n",
    "print(f\"Заміна: {s.replace('світ', 'Python')}\")  # Заміна підрядка\n",
    "print(f\"Позиція 'Привіт': {s.find('Привіт')}\") # Пошук позиції\n",
    "print(f\"Кількість '!': {s.count('!')}\")        # Підрахунок символів"
   ],
   "id": "e31343b8a0eeb655",
   "outputs": [
    {
     "name": "stdout",
     "output_type": "stream",
     "text": [
      "Довжина: 17\n",
      "Обрізано: 'Привіт, світ!'\n",
      "Нижній регістр:   привіт, світ!  \n",
      "Заміна:   Привіт, Python!  \n",
      "Позиція 'Привіт': 2\n",
      "Кількість '!': 1\n"
     ]
    }
   ],
   "execution_count": 15
  },
  {
   "metadata": {},
   "cell_type": "markdown",
   "source": [
    "<a name=\"14-порівняння-рядків-лексикографічний-порядок\"></a>\n",
    "## 1.4. Порівняння рядків, лексикографічний порядок\n",
    "\n",
    "### Лексикографічне порівняння\n",
    "\n",
    "Порівняння рядків в Python відбувається **лексикографічно** (як у словнику), за кодовими точками Unicode символ за символом зліва направо. Це означає, що порівняння відбувається посимвольно до першої відмінності."
   ],
   "id": "e5efc97eb2b1c96"
  },
  {
   "metadata": {
    "ExecuteTime": {
     "end_time": "2025-10-26T15:51:37.653005Z",
     "start_time": "2025-10-26T15:51:37.649873Z"
    }
   },
   "cell_type": "code",
   "source": [
    "# Базові порівняння\n",
    "print(\"apple\" < \"banana\")   # True (a < b)\n",
    "print(\"cat\" > \"car\")        # True (t > r)\n",
    "print(\"123\" < \"45\")         # True (1 < 4)\n",
    "\n",
    "# Порівняння Unicode-кодів\n",
    "print(\"a\" < \"b\")            # True (ord('a') = 97, ord('b') = 98)\n",
    "print(\"A\" < \"a\")            # True (ord('A') = 65, ord('a') = 97)\n",
    "\n",
    "# Оператори порівняння\n",
    "print(\"abc\" == \"abc\")       # Рівність: True\n",
    "print(\"abc\" != \"xyz\")       # Нерівність: True\n",
    "print(\"abc\" < \"abd\")        # Менше: True\n",
    "print(\"abc\" <= \"abc\")       # Менше або дорівнює: True\n",
    "print(\"xyz\" > \"abc\")        # Більше: True\n",
    "print(\"xyz\" >= \"xyz\")       # Більше або дорівнює: True"
   ],
   "id": "1f01b5693d15b920",
   "outputs": [
    {
     "name": "stdout",
     "output_type": "stream",
     "text": [
      "True\n",
      "True\n",
      "True\n",
      "True\n",
      "True\n",
      "True\n",
      "True\n",
      "True\n",
      "True\n",
      "True\n",
      "True\n"
     ]
    }
   ],
   "execution_count": 16
  },
  {
   "metadata": {},
   "cell_type": "markdown",
   "source": [
    "### Вплив регістру\n",
    "\n",
    "При сортуванні рядків регістр літер має значення, оскільки великі літери мають менші коди Unicode, ніж малі. За замовчуванням великі літери йдуть перед малими."
   ],
   "id": "28dba209317dca87"
  },
  {
   "metadata": {
    "ExecuteTime": {
     "end_time": "2025-10-26T15:51:37.684911Z",
     "start_time": "2025-10-26T15:51:37.681548Z"
    }
   },
   "cell_type": "code",
   "source": [
    "strings = [\"banana\", \"Apple\", \"cherry\", \"apple\"]\n",
    "\n",
    "# Сортування з урахуванням регістру (за замовчуванням)\n",
    "# Великі літери йдуть першими в ASCII/Unicode\n",
    "sorted_strings = sorted(strings)\n",
    "print(sorted_strings)  # ['Apple', 'apple', 'banana', 'cherry']\n",
    "\n",
    "# Для сортування без урахування регістру треба перетворювати до нижнього регістру\n",
    "# Ми розглянемо це вручну в наступних прикладах"
   ],
   "id": "eba7bb4eb15da64d",
   "outputs": [
    {
     "name": "stdout",
     "output_type": "stream",
     "text": [
      "['Apple', 'apple', 'banana', 'cherry']\n"
     ]
    }
   ],
   "execution_count": 17
  },
  {
   "metadata": {},
   "cell_type": "markdown",
   "source": [
    "### Сортування списків рядків\n",
    "\n",
    "Функція `sorted()` повертає новий відсортований список, не змінюючи оригінальний. Параметр `reverse=True` дозволяє сортувати у зворотному порядку."
   ],
   "id": "3db62aa807594e50"
  },
  {
   "metadata": {
    "ExecuteTime": {
     "end_time": "2025-10-26T15:51:37.712489Z",
     "start_time": "2025-10-26T15:51:37.709346Z"
    }
   },
   "cell_type": "code",
   "source": [
    "# Сортування у зростаючому порядку (лексикографічно)\n",
    "words = [\"cat\", \"elephant\", \"dog\", \"butterfly\"]\n",
    "sorted_words = sorted(words)\n",
    "print(sorted_words)  # ['butterfly', 'cat', 'dog', 'elephant']\n",
    "\n",
    "# Сортування у спадаючому порядку\n",
    "sorted_words_desc = sorted(words, reverse=True)\n",
    "print(sorted_words_desc)  # ['elephant', 'dog', 'cat', 'butterfly']"
   ],
   "id": "3e6452dc012ce902",
   "outputs": [
    {
     "name": "stdout",
     "output_type": "stream",
     "text": [
      "['butterfly', 'cat', 'dog', 'elephant']\n",
      "['elephant', 'dog', 'cat', 'butterfly']\n"
     ]
    }
   ],
   "execution_count": 18
  },
  {
   "metadata": {},
   "cell_type": "markdown",
   "source": [
    "<a name=\"15-підрахунок-символів-за-категоріями\"></a>\n",
    "## 1.5. Підрахунок символів за категоріями\n",
    "\n",
    "### Підрахунок цифр у рядку\n",
    "\n",
    "Для підрахунку цифр використовуємо цикл та метод `isdigit()`, який повертає `True` для символів-цифр."
   ],
   "id": "933d69f3464249b4"
  },
  {
   "metadata": {
    "ExecuteTime": {
     "end_time": "2025-10-26T15:51:37.743338Z",
     "start_time": "2025-10-26T15:51:37.740221Z"
    }
   },
   "cell_type": "code",
   "source": [
    "s = \"Hello123World456\"\n",
    "\n",
    "# Підрахунок цифр\n",
    "digit_count = 0\n",
    "for ch in s:\n",
    "    if ch.isdigit():\n",
    "        digit_count += 1\n",
    "\n",
    "print(f\"Цифр: {digit_count}\")  # 6"
   ],
   "id": "1187e7804f34a5f1",
   "outputs": [
    {
     "name": "stdout",
     "output_type": "stream",
     "text": [
      "Цифр: 6\n"
     ]
    }
   ],
   "execution_count": 19
  },
  {
   "metadata": {},
   "cell_type": "markdown",
   "source": [
    "### Підрахунок літер у різних регістрах\n",
    "\n",
    "Для підрахунку літер у різних регістрах використовуємо методи `islower()`, `isupper()` та `isalpha()`. Це корисно для аналізу та валідації текстових даних."
   ],
   "id": "f785b98754874dae"
  },
  {
   "metadata": {
    "ExecuteTime": {
     "end_time": "2025-10-26T15:51:37.791903Z",
     "start_time": "2025-10-26T15:51:37.788370Z"
    }
   },
   "cell_type": "code",
   "source": [
    "s = \"Hello World Python\"\n",
    "\n",
    "# Підрахунок малих літер\n",
    "lowercase_count = 0\n",
    "for ch in s:\n",
    "    if ch.islower():\n",
    "        lowercase_count += 1\n",
    "\n",
    "# Підрахунок великих літер\n",
    "uppercase_count = 0\n",
    "for ch in s:\n",
    "    if ch.isupper():\n",
    "        uppercase_count += 1\n",
    "\n",
    "# Підрахунок всіх літер\n",
    "letter_count = 0\n",
    "for ch in s:\n",
    "    if ch.isalpha():\n",
    "        letter_count += 1\n",
    "\n",
    "print(f\"Малих літер: {lowercase_count}\")  # 13\n",
    "print(f\"Великих літер: {uppercase_count}\")  # 3\n",
    "print(f\"Всього літер: {letter_count}\") # 16"
   ],
   "id": "47aefaee5fb43aca",
   "outputs": [
    {
     "name": "stdout",
     "output_type": "stream",
     "text": [
      "Малих літер: 13\n",
      "Великих літер: 3\n",
      "Всього літер: 16\n"
     ]
    }
   ],
   "execution_count": 20
  },
  {
   "metadata": {},
   "cell_type": "markdown",
   "source": [
    "### Підрахунок пунктуації\n",
    "\n",
    "ASCII-пунктуація включає стандартні розділові знаки. Для перевірки приналежності символу до пунктуації використовуємо оператор `in` з рядком пунктуаційних символів."
   ],
   "id": "9f4d59b456854255"
  },
  {
   "metadata": {
    "ExecuteTime": {
     "end_time": "2025-10-26T15:51:37.824689Z",
     "start_time": "2025-10-26T15:51:37.821548Z"
    }
   },
   "cell_type": "code",
   "source": [
    "# Символи ASCII-пунктуації\n",
    "punctuation = \"!\\\"#$%&'()*+,-./:;<=>?@[\\\\]^_`{|}~\"\n",
    "\n",
    "s = \"Hello, World! How are you?\"\n",
    "\n",
    "punct_count = 0\n",
    "for ch in s:\n",
    "    if ch in punctuation:\n",
    "        punct_count += 1\n",
    "\n",
    "print(f\"Пунктуації: {punct_count}\")  # 3"
   ],
   "id": "d9fe23dade0ef2c4",
   "outputs": [
    {
     "name": "stdout",
     "output_type": "stream",
     "text": [
      "Пунктуації: 3\n"
     ]
    }
   ],
   "execution_count": 21
  },
  {
   "metadata": {},
   "cell_type": "markdown",
   "source": [
    "### Підрахунок недрукованих символів\n",
    "\n",
    "Недруковані символи (наприклад, `\\n`, `\\t`) можна виявити за допомогою методу `isprintable()`. Це важливо при обробці файлів та введених даних."
   ],
   "id": "b2119cd2be2e8fd5"
  },
  {
   "metadata": {
    "ExecuteTime": {
     "end_time": "2025-10-26T15:51:37.852837Z",
     "start_time": "2025-10-26T15:51:37.849715Z"
    }
   },
   "cell_type": "code",
   "source": [
    "s = \"Hello\\nWorld\\t!\"\n",
    "\n",
    "non_printable_count = 0\n",
    "for ch in s:\n",
    "    if not ch.isprintable():\n",
    "        non_printable_count += 1\n",
    "\n",
    "print(f\"Недрукованих: {non_printable_count}\")  # 2 (\\n та \\t)"
   ],
   "id": "ce90e178e118542c",
   "outputs": [
    {
     "name": "stdout",
     "output_type": "stream",
     "text": [
      "Недрукованих: 2\n"
     ]
    }
   ],
   "execution_count": 22
  },
  {
   "metadata": {},
   "cell_type": "markdown",
   "source": [
    "### Підрахунок слів\n",
    "\n",
    "Існує два основні способи підрахунку слів: простий (через `split()`) та ручний (через перевірку кожного символу). Ручний спосіб дає більше контролю над визначенням \"слова\"."
   ],
   "id": "932d2bad01230a4d"
  },
  {
   "metadata": {
    "ExecuteTime": {
     "end_time": "2025-10-26T15:51:37.875773Z",
     "start_time": "2025-10-26T15:51:37.872742Z"
    }
   },
   "cell_type": "code",
   "source": [
    "s = \"Hello World from Python\"\n",
    "\n",
    "# Спосіб 1: Використання split()\n",
    "words = s.split()\n",
    "word_count = len(words)\n",
    "print(f\"Слів: {word_count}\")  # 4\n",
    "\n",
    "# Спосіб 2: Ручний підрахунок\n",
    "word_count = 0\n",
    "in_word = False\n",
    "\n",
    "for ch in s:\n",
    "    if ch.isalpha():\n",
    "        if not in_word:\n",
    "            word_count += 1\n",
    "            in_word = True\n",
    "    else:\n",
    "        in_word = False\n",
    "\n",
    "print(f\"Слів (вручну): {word_count}\")  # 4"
   ],
   "id": "8c3fef97061f437",
   "outputs": [
    {
     "name": "stdout",
     "output_type": "stream",
     "text": [
      "Слів: 4\n",
      "Слів (вручну): 4\n"
     ]
    }
   ],
   "execution_count": 23
  },
  {
   "metadata": {},
   "cell_type": "markdown",
   "source": [
    "---\n",
    "\n",
    "<a name=\"приклади-програм\"></a>\n",
    "# 2. ПРИКЛАДИ ПРОГРАМ\n",
    "\n",
    "<a name=\"21-базові-операції-з-рядками\"></a>\n",
    "## 2.1. Базові операції з рядками\n",
    "\n",
    "### Приклад 1: Довжина рядка\n",
    "\n",
    "**Теоретична передмова:** Функція `len()` повертає кількість символів (кодових точок Unicode) у рядку. Це одна з найбазовіших операцій при роботі з рядками, яка часто використовується для перевірки введених даних або організації циклів."
   ],
   "id": "7268a151d7e3a329"
  },
  {
   "metadata": {
    "ExecuteTime": {
     "end_time": "2025-10-26T15:51:41.708743Z",
     "start_time": "2025-10-26T15:51:37.896810Z"
    }
   },
   "cell_type": "code",
   "source": [
    "# Програма для визначення довжини рядка\n",
    "\n",
    "s = input(\"Введіть рядок: \")\n",
    "length = len(s)\n",
    "print(f\"Довжина: {length}\")"
   ],
   "id": "babb41e1484f57f8",
   "outputs": [
    {
     "ename": "KeyboardInterrupt",
     "evalue": "Interrupted by user",
     "output_type": "error",
     "traceback": [
      "\u001B[31m---------------------------------------------------------------------------\u001B[39m",
      "\u001B[31mKeyboardInterrupt\u001B[39m                         Traceback (most recent call last)",
      "\u001B[36mCell\u001B[39m\u001B[36m \u001B[39m\u001B[32mIn[24]\u001B[39m\u001B[32m, line 3\u001B[39m\n\u001B[32m      1\u001B[39m \u001B[38;5;66;03m# Програма для визначення довжини рядка\u001B[39;00m\n\u001B[32m----> \u001B[39m\u001B[32m3\u001B[39m s = \u001B[38;5;28;43minput\u001B[39;49m\u001B[43m(\u001B[49m\u001B[33;43m\"\u001B[39;49m\u001B[33;43mВведіть рядок: \u001B[39;49m\u001B[33;43m\"\u001B[39;49m\u001B[43m)\u001B[49m\n\u001B[32m      4\u001B[39m length = \u001B[38;5;28mlen\u001B[39m(s)\n\u001B[32m      5\u001B[39m \u001B[38;5;28mprint\u001B[39m(\u001B[33mf\u001B[39m\u001B[33m\"\u001B[39m\u001B[33mДовжина: \u001B[39m\u001B[38;5;132;01m{\u001B[39;00mlength\u001B[38;5;132;01m}\u001B[39;00m\u001B[33m\"\u001B[39m)\n",
      "\u001B[36mFile \u001B[39m\u001B[32mD:\\PROJECTs\\MY\\Algorithmization\\.venv\\Lib\\site-packages\\ipykernel\\kernelbase.py:1275\u001B[39m, in \u001B[36mKernel.raw_input\u001B[39m\u001B[34m(self, prompt)\u001B[39m\n\u001B[32m   1273\u001B[39m     msg = \u001B[33m\"\u001B[39m\u001B[33mraw_input was called, but this frontend does not support input requests.\u001B[39m\u001B[33m\"\u001B[39m\n\u001B[32m   1274\u001B[39m     \u001B[38;5;28;01mraise\u001B[39;00m StdinNotImplementedError(msg)\n\u001B[32m-> \u001B[39m\u001B[32m1275\u001B[39m \u001B[38;5;28;01mreturn\u001B[39;00m \u001B[38;5;28;43mself\u001B[39;49m\u001B[43m.\u001B[49m\u001B[43m_input_request\u001B[49m\u001B[43m(\u001B[49m\n\u001B[32m   1276\u001B[39m \u001B[43m    \u001B[49m\u001B[38;5;28;43mstr\u001B[39;49m\u001B[43m(\u001B[49m\u001B[43mprompt\u001B[49m\u001B[43m)\u001B[49m\u001B[43m,\u001B[49m\n\u001B[32m   1277\u001B[39m \u001B[43m    \u001B[49m\u001B[38;5;28;43mself\u001B[39;49m\u001B[43m.\u001B[49m\u001B[43m_parent_ident\u001B[49m\u001B[43m[\u001B[49m\u001B[33;43m\"\u001B[39;49m\u001B[33;43mshell\u001B[39;49m\u001B[33;43m\"\u001B[39;49m\u001B[43m]\u001B[49m\u001B[43m,\u001B[49m\n\u001B[32m   1278\u001B[39m \u001B[43m    \u001B[49m\u001B[38;5;28;43mself\u001B[39;49m\u001B[43m.\u001B[49m\u001B[43mget_parent\u001B[49m\u001B[43m(\u001B[49m\u001B[33;43m\"\u001B[39;49m\u001B[33;43mshell\u001B[39;49m\u001B[33;43m\"\u001B[39;49m\u001B[43m)\u001B[49m\u001B[43m,\u001B[49m\n\u001B[32m   1279\u001B[39m \u001B[43m    \u001B[49m\u001B[43mpassword\u001B[49m\u001B[43m=\u001B[49m\u001B[38;5;28;43;01mFalse\u001B[39;49;00m\u001B[43m,\u001B[49m\n\u001B[32m   1280\u001B[39m \u001B[43m\u001B[49m\u001B[43m)\u001B[49m\n",
      "\u001B[36mFile \u001B[39m\u001B[32mD:\\PROJECTs\\MY\\Algorithmization\\.venv\\Lib\\site-packages\\ipykernel\\kernelbase.py:1320\u001B[39m, in \u001B[36mKernel._input_request\u001B[39m\u001B[34m(self, prompt, ident, parent, password)\u001B[39m\n\u001B[32m   1317\u001B[39m \u001B[38;5;28;01mexcept\u001B[39;00m \u001B[38;5;167;01mKeyboardInterrupt\u001B[39;00m:\n\u001B[32m   1318\u001B[39m     \u001B[38;5;66;03m# re-raise KeyboardInterrupt, to truncate traceback\u001B[39;00m\n\u001B[32m   1319\u001B[39m     msg = \u001B[33m\"\u001B[39m\u001B[33mInterrupted by user\u001B[39m\u001B[33m\"\u001B[39m\n\u001B[32m-> \u001B[39m\u001B[32m1320\u001B[39m     \u001B[38;5;28;01mraise\u001B[39;00m \u001B[38;5;167;01mKeyboardInterrupt\u001B[39;00m(msg) \u001B[38;5;28;01mfrom\u001B[39;00m\u001B[38;5;250m \u001B[39m\u001B[38;5;28;01mNone\u001B[39;00m\n\u001B[32m   1321\u001B[39m \u001B[38;5;28;01mexcept\u001B[39;00m \u001B[38;5;167;01mException\u001B[39;00m:\n\u001B[32m   1322\u001B[39m     \u001B[38;5;28mself\u001B[39m.log.warning(\u001B[33m\"\u001B[39m\u001B[33mInvalid Message:\u001B[39m\u001B[33m\"\u001B[39m, exc_info=\u001B[38;5;28;01mTrue\u001B[39;00m)\n",
      "\u001B[31mKeyboardInterrupt\u001B[39m: Interrupted by user"
     ]
    }
   ],
   "execution_count": 24
  },
  {
   "metadata": {},
   "cell_type": "markdown",
   "source": [
    "**Приклад виконання:**\n",
    "```\n",
    "Введіть рядок: Hello, World!\n",
    "Довжина: 13\n",
    "```"
   ],
   "id": "127ae01738d08834"
  },
  {
   "metadata": {},
   "cell_type": "markdown",
   "source": [
    "### Приклад 2: Підрахунок входжень символу\n",
    "\n",
    "**Теоретична передмова:** Для підрахунку кількості входжень символу у рядок можна використати вбудований метод `count()` або реалізувати власний підрахунок через цикл. Метод `count()` швидший, але цикл демонструє базову логіку підрахунку.\n",
    "\n",
    "**Спосіб 1: Використання методу `count()`**"
   ],
   "id": "1f156bc5643be58e"
  },
  {
   "metadata": {
    "ExecuteTime": {
     "end_time": "2025-10-26T15:51:41.735113100Z",
     "start_time": "2025-10-26T15:28:18.149691Z"
    }
   },
   "cell_type": "code",
   "source": [
    "# Програма для підрахунку входжень символу (використання методу count)\n",
    "\n",
    "s = input(\"Введіть рядок: \")\n",
    "ch = input(\"Введіть символ для підрахунку: \")\n",
    "\n",
    "if len(ch) != 1:\n",
    "    print(\"Будь ласка, введіть рівно один символ\")\n",
    "else:\n",
    "    count = s.count(ch)\n",
    "    print(f\"Кількість входжень: {count}\")"
   ],
   "id": "477aa558f7dc5897",
   "outputs": [
    {
     "name": "stdout",
     "output_type": "stream",
     "text": [
      "Будь ласка, введіть рівно один символ\n"
     ]
    }
   ],
   "execution_count": 21
  },
  {
   "metadata": {},
   "cell_type": "markdown",
   "source": "**Спосіб 2: Використання циклу**",
   "id": "51583f788d500a8d"
  },
  {
   "metadata": {},
   "cell_type": "code",
   "outputs": [],
   "execution_count": null,
   "source": [
    "# Програма для підрахунку входжень символу (використання циклу)\n",
    "\n",
    "s = input(\"Введіть рядок: \")\n",
    "ch = input(\"Введіть символ для підрахунку: \")\n",
    "\n",
    "if len(ch) != 1:\n",
    "    print(\"Будь ласка, введіть рівно один символ\")\n",
    "else:\n",
    "    count = 0\n",
    "    for c in s:\n",
    "        if c == ch:\n",
    "            count += 1\n",
    "    print(f\"Кількість входжень: {count}\")"
   ],
   "id": "f357a8e942d8ea52"
  },
  {
   "metadata": {},
   "cell_type": "markdown",
   "source": [
    "**Приклад виконання:**\n",
    "```\n",
    "Введіть рядок: Hello, World!\n",
    "Введіть символ для підрахунку: o\n",
    "Кількість входжень: 2\n",
    "```"
   ],
   "id": "5124db4575c6c142"
  },
  {
   "metadata": {},
   "cell_type": "markdown",
   "source": [
    "### Приклад 3: Розворот рядка\n",
    "\n",
    "**Теоретична передмова:** Розворот рядка — це створення нового рядка з символами у зворотному порядку. Найпростіший спосіб — використати зріз з негативним кроком `[::-1]`. Альтернативний спосіб — побудувати новий рядок через цикл, що проходить по символах у зворотному порядку.\n",
    "\n",
    "**Спосіб 1: Використання зрізів**"
   ],
   "id": "33798596907b9cc5"
  },
  {
   "metadata": {},
   "cell_type": "code",
   "outputs": [],
   "execution_count": null,
   "source": [
    "# Програма для розвороту рядка (використання зрізів)\n",
    "\n",
    "s = input(\"Введіть рядок: \")\n",
    "reversed_s = s[::-1]\n",
    "print(f\"Розвернутий: {reversed_s}\")"
   ],
   "id": "d2920088b1a564a7"
  },
  {
   "metadata": {},
   "cell_type": "markdown",
   "source": "**Спосіб 2: Використання циклу**",
   "id": "57c2ee272ca486e7"
  },
  {
   "metadata": {},
   "cell_type": "code",
   "outputs": [],
   "execution_count": null,
   "source": [
    "# Програма для розвороту рядка (використання циклу)\n",
    "\n",
    "s = input(\"Введіть рядок: \")\n",
    "reversed_s = \"\"\n",
    "\n",
    "for i in range(len(s) - 1, -1, -1):\n",
    "    reversed_s += s[i]\n",
    "\n",
    "print(f\"Розвернутий: {reversed_s}\")"
   ],
   "id": "70367693bdec42f4"
  },
  {
   "metadata": {},
   "cell_type": "markdown",
   "source": [
    "**Приклад виконання:**\n",
    "```\n",
    "Введіть рядок: Python\n",
    "Розвернутий: nohtyP\n",
    "```"
   ],
   "id": "7a5ee595ec2c157b"
  },
  {
   "metadata": {},
   "cell_type": "markdown",
   "source": [
    "### Приклад 4: Кількість слів у рядку\n",
    "\n",
    "**Теоретична передмова:** Підрахунок слів можна виконати методом `split()`, який розбиває рядок за пробілами, або вручну, відстежуючи переходи між літерними та нелітерними символами. Ручний спосіб дає краще розуміння алгоритму обробки тексту.\n",
    "\n",
    "**Спосіб 1: Простий `split()`**"
   ],
   "id": "442bdfb6901475e4"
  },
  {
   "metadata": {},
   "cell_type": "code",
   "outputs": [],
   "execution_count": null,
   "source": [
    "# Програма для підрахунку слів (використання split)\n",
    "\n",
    "s = input(\"Введіть рядок: \")\n",
    "words = s.split()\n",
    "word_count = len(words)\n",
    "print(f\"Кількість слів: {word_count}\")"
   ],
   "id": "5f8b95c84c8fe747"
  },
  {
   "metadata": {},
   "cell_type": "markdown",
   "source": "**Спосіб 2: З використанням циклу**",
   "id": "a5426e2e3e11fd84"
  },
  {
   "metadata": {},
   "cell_type": "code",
   "outputs": [],
   "execution_count": null,
   "source": [
    "# Програма для підрахунку слів (використання циклу)\n",
    "\n",
    "s = input(\"Введіть рядок: \")\n",
    "count = 0\n",
    "in_word = False\n",
    "\n",
    "for ch in s:\n",
    "    if ch.isalpha():\n",
    "        if not in_word:\n",
    "            count += 1\n",
    "            in_word = True\n",
    "    else:\n",
    "        in_word = False\n",
    "\n",
    "print(f\"Кількість слів: {count}\")"
   ],
   "id": "f3228a898b3bd157"
  },
  {
   "metadata": {},
   "cell_type": "markdown",
   "source": [
    "**Приклад виконання:**\n",
    "```\n",
    "Введіть рядок: Hello World from Python\n",
    "Кількість слів: 4\n",
    "```"
   ],
   "id": "67cac4bb79c62606"
  },
  {
   "metadata": {},
   "cell_type": "markdown",
   "source": [
    "### Приклад 5: Кількість різних символів\n",
    "\n",
    "**Теоретична передмова:** Для підрахунку унікальних символів будуємо список, який містить лише символи, що зустрілися вперше. Перед додаванням кожного символу перевіряємо, чи він вже є у списку."
   ],
   "id": "68162a5e1c3e7f7c"
  },
  {
   "metadata": {},
   "cell_type": "code",
   "outputs": [],
   "execution_count": null,
   "source": [
    "# Програма для підрахунку різних символів\n",
    "\n",
    "s = input(\"Введіть рядок: \")\n",
    "\n",
    "# Побудова списку унікальних символів\n",
    "unique_chars = []\n",
    "for ch in s:\n",
    "    if ch not in unique_chars:\n",
    "        unique_chars.append(ch)\n",
    "\n",
    "print(f\"Кількість унікальних символів: {len(unique_chars)}\")\n",
    "print(f\"Унікальні символи: {unique_chars}\")"
   ],
   "id": "599fe3d8eb205714"
  },
  {
   "metadata": {},
   "cell_type": "markdown",
   "source": [
    "**Приклад виконання:**\n",
    "```\n",
    "Введіть рядок: Hello, World!\n",
    "Кількість унікальних символів: 10\n",
    "Унікальні символи: ['H', 'e', 'l', 'o', ',', ' ', 'W', 'r', 'd', '!']\n",
    "```"
   ],
   "id": "8fc1f237d1958ec5"
  },
  {
   "metadata": {},
   "cell_type": "markdown",
   "source": [
    "<a name=\"22-пошук-та-заміна-підрядків\"></a>\n",
    "## 2.2. Пошук та заміна підрядків\n",
    "\n",
    "### Приклад 6: Позиція першого входження підрядка\n",
    "\n",
    "**Теоретична передмова:** Метод `find()` повертає індекс першого входження підрядка або -1, якщо підрядок не знайдено. Це базова операція для пошуку тексту всередині рядка."
   ],
   "id": "f68bc557810b131d"
  },
  {
   "metadata": {},
   "cell_type": "code",
   "outputs": [],
   "execution_count": null,
   "source": [
    "# Програма для пошуку позиції першого входження підрядка\n",
    "\n",
    "s = input(\"Введіть рядок: \")\n",
    "sub = input(\"Введіть підрядок для пошуку: \")\n",
    "\n",
    "pos = s.find(sub)\n",
    "if pos == -1:\n",
    "    print(\"Підрядок не знайдено\")\n",
    "else:\n",
    "    print(f\"Підрядок знайдено на позиції: {pos}\")"
   ],
   "id": "3bc37c4feb5b4668"
  },
  {
   "metadata": {},
   "cell_type": "markdown",
   "source": [
    "**Приклад виконання:**\n",
    "```\n",
    "Введіть рядок: Hello, World!\n",
    "Введіть підрядок для пошуку: World\n",
    "Підрядок знайдено на позиції: 7\n",
    "```"
   ],
   "id": "33a2e148ab283006"
  },
  {
   "metadata": {},
   "cell_type": "markdown",
   "source": [
    "### Приклад 7: Заміна всіх входжень підрядка\n",
    "\n",
    "**Теоретична передмова:** Метод `replace()` створює новий рядок, де всі входження вказаного підрядка замінені на інший рядок. Оригінальний рядок залишається незмінним через властивість незмінності рядків."
   ],
   "id": "daaf4c05a43ceebc"
  },
  {
   "metadata": {},
   "cell_type": "code",
   "outputs": [],
   "execution_count": null,
   "source": [
    "# Програма для заміни всіх входжень підрядка\n",
    "\n",
    "s = input(\"Введіть рядок: \")\n",
    "old = input(\"Підрядок для заміни: \")\n",
    "new = input(\"Замінити на: \")\n",
    "\n",
    "result = s.replace(old, new)\n",
    "print(f\"Результат: {result}\")"
   ],
   "id": "e6cc957c4a737ea"
  },
  {
   "metadata": {},
   "cell_type": "markdown",
   "source": [
    "**Приклад виконання:**\n",
    "```\n",
    "Введіть рядок: Hello, Hello, World!\n",
    "Підрядок для заміни: Hello\n",
    "Замінити на: Hi\n",
    "Результат: Hi, Hi, World!\n",
    "```"
   ],
   "id": "b693cbdc86c82896"
  },
  {
   "metadata": {},
   "cell_type": "markdown",
   "source": [
    "### Приклад 8: Видалення всіх входжень підрядка\n",
    "\n",
    "**Теоретична передмова:** Видалення підрядка реалізується як заміна на порожній рядок. Це ефективний спосіб очищення тексту від небажаних елементів."
   ],
   "id": "23033c1aebe8790b"
  },
  {
   "metadata": {},
   "cell_type": "code",
   "outputs": [],
   "execution_count": null,
   "source": [
    "# Програма для видалення всіх входжень підрядка\n",
    "\n",
    "s = input(\"Введіть рядок: \")\n",
    "sub = input(\"Підрядок для видалення: \")\n",
    "\n",
    "result = s.replace(sub, \"\")\n",
    "print(f\"Результат: {result}\")"
   ],
   "id": "bec52ccc8b030cec"
  },
  {
   "metadata": {},
   "cell_type": "markdown",
   "source": [
    "**Приклад виконання:**\n",
    "```\n",
    "Введіть рядок: Hello, Hello, World!\n",
    "Підрядок для видалення: Hello,\n",
    "Результат: World!\n",
    "```"
   ],
   "id": "366d0efd599ce3b2"
  },
  {
   "metadata": {},
   "cell_type": "markdown",
   "source": [
    "<a name=\"23-перевірка-паліндромів\"></a>\n",
    "## 2.3. Перевірка паліндромів\n",
    "\n",
    "### Приклад 9: Перевірка паліндрому (базова)\n",
    "\n",
    "**Теоретична передмова:** Паліндром — це рядок, який читається однаково зліва направо і справа наліво. Найпростіша перевірка — порівняти рядок з його розворотом."
   ],
   "id": "b5addb80f4c4633f"
  },
  {
   "metadata": {},
   "cell_type": "code",
   "outputs": [],
   "execution_count": null,
   "source": [
    "# Програма для перевірки паліндрому (базова)\n",
    "\n",
    "s = input(\"Введіть рядок: \")\n",
    "reversed_s = s[::-1]\n",
    "\n",
    "if s == reversed_s:\n",
    "    print(\"Рядок є паліндромом\")\n",
    "else:\n",
    "    print(\"Рядок не є паліндромом\")"
   ],
   "id": "85b289a959925bac"
  },
  {
   "metadata": {},
   "cell_type": "markdown",
   "source": [
    "**Приклад виконання:**\n",
    "```\n",
    "Введіть рядок: radar\n",
    "Рядок є паліндромом\n",
    "```"
   ],
   "id": "c665e79ee8638ad7"
  },
  {
   "metadata": {},
   "cell_type": "markdown",
   "source": [
    "### Приклад 10: Перевірка паліндрому (без пробілів і регістру)\n",
    "\n",
    "**Теоретична передмова:** Для коректної перевірки паліндромів часто ігнорують пробіли та регістр літер. Спочатку очищаємо рядок від пробілів та перетворюємо до нижнього регістру, потім порівнюємо з розворотом."
   ],
   "id": "86903c999a3a6199"
  },
  {
   "metadata": {},
   "cell_type": "code",
   "outputs": [],
   "execution_count": null,
   "source": [
    "# Програма для перевірки паліндрому (без пробілів і регістру)\n",
    "\n",
    "s = input(\"Введіть рядок: \")\n",
    "\n",
    "# Видалення пробілів та перетворення до нижнього регістру\n",
    "cleaned = \"\"\n",
    "for ch in s:\n",
    "    if ch != \" \":\n",
    "        cleaned += ch\n",
    "cleaned = cleaned.lower()\n",
    "\n",
    "# Розворот очищеного рядка\n",
    "reversed_cleaned = cleaned[::-1]\n",
    "\n",
    "if cleaned == reversed_cleaned:\n",
    "    print(\"Рядок є паліндромом\")\n",
    "else:\n",
    "    print(\"Рядок не є паліндромом\")"
   ],
   "id": "83e9109b292b2e9f"
  },
  {
   "metadata": {},
   "cell_type": "markdown",
   "source": [
    "**Приклад виконання:**\n",
    "```\n",
    "Введіть рядок: А роза упала на лапу Азора\n",
    "Рядок є паліндромом\n",
    "```"
   ],
   "id": "2b8a644f87dba64"
  },
  {
   "metadata": {},
   "cell_type": "markdown",
   "source": [
    "### Приклад 11: Перевірка паліндрому (тільки літери)\n",
    "\n",
    "**Теоретична передмова:** У найстрогішій версії перевірки паліндрому враховуються тільки літери, ігноруючи всі інші символи (пробіли, пунктуацію). Перевірка виконується порівнянням символів з обох кінців очищеного рядка."
   ],
   "id": "ce194daa6ff0ad7c"
  },
  {
   "metadata": {},
   "cell_type": "code",
   "outputs": [],
   "execution_count": null,
   "source": [
    "# Програма для перевірки паліндрому (тільки літери)\n",
    "\n",
    "s = input(\"Введіть рядок: \")\n",
    "\n",
    "# Залишаємо тільки літери та перетворюємо до нижнього регістру\n",
    "cleaned = \"\"\n",
    "for ch in s:\n",
    "    if ch.isalpha():\n",
    "        cleaned += ch.lower()\n",
    "\n",
    "# Перевірка паліндрому\n",
    "is_palindrome = True\n",
    "length = len(cleaned)\n",
    "for i in range(length // 2):\n",
    "    if cleaned[i] != cleaned[length - 1 - i]:\n",
    "        is_palindrome = False\n",
    "        break\n",
    "\n",
    "if is_palindrome:\n",
    "    print(\"Рядок є паліндромом\")\n",
    "else:\n",
    "    print(\"Рядок не є паліндромом\")"
   ],
   "id": "5370a80a0b3703bb"
  },
  {
   "metadata": {},
   "cell_type": "markdown",
   "source": [
    "<a name=\"24-робота-з-кількома-рядками\"></a>\n",
    "## 2.4. Робота з кількома рядками\n",
    "\n",
    "### Приклад 12: Найдовший спільний префікс\n",
    "\n",
    "**Теоретична передмова:** Спільний префікс — це найдовший підрядок, який знаходиться на початку обох рядків. Алгоритм порівнює символи з однаковими індексами доти, доки вони збігаються або доки не досягнуто кінця коротшого рядка."
   ],
   "id": "80d07b2e28aa604c"
  },
  {
   "metadata": {},
   "cell_type": "code",
   "outputs": [],
   "execution_count": null,
   "source": [
    "# Програма для пошуку найдовшого спільного префікса\n",
    "\n",
    "a = input(\"Введіть перший рядок: \")\n",
    "b = input(\"Введіть другий рядок: \")\n",
    "\n",
    "# Знаходження спільного префікса\n",
    "min_len = len(a) if len(a) < len(b) else len(b)\n",
    "prefix_len = 0\n",
    "\n",
    "for i in range(min_len):\n",
    "    if a[i] == b[i]:\n",
    "        prefix_len += 1\n",
    "    else:\n",
    "        break\n",
    "\n",
    "if prefix_len > 0:\n",
    "    prefix = a[:prefix_len]\n",
    "    print(f\"Спільний префікс: {prefix}\")\n",
    "else:\n",
    "    print(\"Немає спільного префікса\")"
   ],
   "id": "79ffb8592504f7a6"
  },
  {
   "metadata": {},
   "cell_type": "markdown",
   "source": [
    "**Приклад виконання:**\n",
    "```\n",
    "Введіть перший рядок: flower\n",
    "Введіть другий рядок: flow\n",
    "Спільний префікс: flow\n",
    "```"
   ],
   "id": "fea7da35d0afe282"
  },
  {
   "metadata": {},
   "cell_type": "markdown",
   "source": [
    "### Приклад 13: Найдовший спільний суфікс\n",
    "\n",
    "**Теоретична передмова:** Спільний суфікс — це найдовший підрядок, який знаходиться в кінці обох рядків. Алгоритм порівнює символи з кінця обох рядків, рухаючись до початку."
   ],
   "id": "3e863a2d53c72591"
  },
  {
   "metadata": {},
   "cell_type": "code",
   "outputs": [],
   "execution_count": null,
   "source": [
    "# Програма для пошуку найдовшого спільного суфікса\n",
    "\n",
    "a = input(\"Введіть перший рядок: \")\n",
    "b = input(\"Введіть другий рядок: \")\n",
    "\n",
    "# Знаходження спільного суфікса\n",
    "len_a = len(a)\n",
    "len_b = len(b)\n",
    "suffix_len = 0\n",
    "\n",
    "i = 1\n",
    "while i <= len_a and i <= len_b:\n",
    "    if a[-i] == b[-i]:\n",
    "        suffix_len += 1\n",
    "        i += 1\n",
    "    else:\n",
    "        break\n",
    "\n",
    "if suffix_len > 0:\n",
    "    suffix = a[len_a - suffix_len:]\n",
    "    print(f\"Спільний суфікс: {suffix}\")\n",
    "else:\n",
    "    print(\"Немає спільного суфікса\")"
   ],
   "id": "2108409f0d4ffac0"
  },
  {
   "metadata": {},
   "cell_type": "markdown",
   "source": [
    "**Приклад виконання:**\n",
    "```\n",
    "Введіть перший рядок: testing\n",
    "Введіть другий рядок: running\n",
    "Спільний суфікс: ing\n",
    "```"
   ],
   "id": "ff5e9dd296ba86a3"
  },
  {
   "metadata": {},
   "cell_type": "markdown",
   "source": [
    "<a name=\"25-підрахунок-символів-за-категоріями\"></a>\n",
    "## 2.5. Підрахунок символів за категоріями\n",
    "\n",
    "### Приклад 14: Підрахунок різних типів символів\n",
    "\n",
    "**Теоретична передмова:** Для аналізу складу рядка корисно підрахувати різні категорії символів: цифри, малі/великі літери, пробіли, пунктуацію. Це виконується за допомогою циклу та методів перевірки типу символів."
   ],
   "id": "3789e9ed1248ff29"
  },
  {
   "metadata": {},
   "cell_type": "code",
   "outputs": [],
   "execution_count": null,
   "source": [
    "# Програма для підрахунку різних типів символів\n",
    "\n",
    "s = input(\"Введіть рядок: \")\n",
    "\n",
    "# Підрахунок різних категорій\n",
    "digits = 0\n",
    "lowercase = 0\n",
    "uppercase = 0\n",
    "letters = 0\n",
    "spaces = 0\n",
    "punctuation = \"!\\\"#$%&'()*+,-./:;<=>?@[\\\\]^_`{|}~\"\n",
    "punct = 0\n",
    "\n",
    "for ch in s:\n",
    "    if ch.isdigit():\n",
    "        digits += 1\n",
    "    if ch.islower():\n",
    "        lowercase += 1\n",
    "    if ch.isupper():\n",
    "        uppercase += 1\n",
    "    if ch.isalpha():\n",
    "        letters += 1\n",
    "    if ch.isspace():\n",
    "        spaces += 1\n",
    "    if ch in punctuation:\n",
    "        punct += 1\n",
    "\n",
    "print(f\"Цифр: {digits}\")\n",
    "print(f\"Малих літер: {lowercase}\")\n",
    "print(f\"Великих літер: {uppercase}\")\n",
    "print(f\"Всього літер: {letters}\")\n",
    "print(f\"Пробілів: {spaces}\")\n",
    "print(f\"Пунктуації: {punct}\")"
   ],
   "id": "3a639c72dfcac11b"
  },
  {
   "metadata": {},
   "cell_type": "markdown",
   "source": [
    "**Приклад виконання:**\n",
    "```\n",
    "Введіть рядок: Hello, World! Python3 123\n",
    "Цифр: 3\n",
    "Малих літер: 11\n",
    "Великих літер: 3\n",
    "Всього літер: 17\n",
    "Пробілів: 2\n",
    "Пунктуації: 2\n",
    "```"
   ],
   "id": "a93bde8e27c7fa8"
  },
  {
   "metadata": {},
   "cell_type": "markdown",
   "source": [
    "### Приклад 15: Частота символів\n",
    "\n",
    "**Теоретична передмова:** Для підрахунку частоти кожного символу використовуємо два паралельні списки: один для унікальних символів, інший для їхніх лічильників. При кожному символі шукаємо його в списку унікальних: якщо знайдено — збільшуємо лічильник, якщо ні — додаємо новий символ з лічильником 1."
   ],
   "id": "2261f364a194f82a"
  },
  {
   "metadata": {},
   "cell_type": "code",
   "outputs": [],
   "execution_count": null,
   "source": [
    "# Програма для підрахунку частоти символів\n",
    "\n",
    "s = input(\"Введіть рядок: \")\n",
    "\n",
    "# Побудова списків унікальних символів та їхніх лічильників\n",
    "unique_chars = []\n",
    "char_counts = []\n",
    "\n",
    "for char in s:\n",
    "    # Перевірка, чи символ вже є у списку\n",
    "    found = False\n",
    "    for i in range(len(unique_chars)):\n",
    "        if unique_chars[i] == char:\n",
    "            char_counts[i] += 1\n",
    "            found = True\n",
    "            break\n",
    "\n",
    "    # Якщо не знайдено, додаємо новий символ\n",
    "    if not found:\n",
    "        unique_chars.append(char)\n",
    "        char_counts.append(1)\n",
    "\n",
    "# Виведення частот\n",
    "print(\"Частота символів:\")\n",
    "for i in range(len(unique_chars)):\n",
    "    print(f\"'{unique_chars[i]}': {char_counts[i]}\")"
   ],
   "id": "ce6a5859f0628e87"
  },
  {
   "metadata": {},
   "cell_type": "markdown",
   "source": [
    "**Приклад виконання:**\n",
    "```\n",
    "Введіть рядок: Hello\n",
    "Частота символів:\n",
    "'H': 1\n",
    "'e': 1\n",
    "'l': 2\n",
    "'o': 1\n",
    "```"
   ],
   "id": "fbb802304667cd7b"
  },
  {
   "metadata": {},
   "cell_type": "markdown",
   "source": [
    "<a name=\"26-приклади-сортування-рядків\"></a>\n",
    "## 2.6. Приклади сортування рядків\n",
    "\n",
    "### Приклад 16: Алфавітне (лексикографічне) сортування\n",
    "\n",
    "**Теоретична передмова:** Лексикографічне сортування упорядковує рядки за алфавітом, порівнюючи символи посимвольно за їхніми Unicode-кодами. Функція `sorted()` виконує таке сортування за замовчуванням, враховуючи регістр літер (великі літери йдуть перед малими)."
   ],
   "id": "af6524dfb21ada4e"
  },
  {
   "metadata": {},
   "cell_type": "code",
   "outputs": [],
   "execution_count": null,
   "source": [
    "# Програма для алфавітного сортування рядків\n",
    "\n",
    "# Введення рядків\n",
    "n = int(input(\"Кількість рядків: \"))\n",
    "strings = []\n",
    "for i in range(n):\n",
    "    s = input(f\"Рядок {i+1}: \")\n",
    "    strings.append(s)\n",
    "\n",
    "# Сортування за алфавітом (з урахуванням регістру)\n",
    "sorted_strings = sorted(strings)\n",
    "\n",
    "print(\"\\nВідсортовано (з урахуванням регістру):\")\n",
    "for i in range(len(sorted_strings)):\n",
    "    print(f\"{i+1}. {sorted_strings[i]}\")\n",
    "\n",
    "# Сортування у зворотному порядку\n",
    "sorted_strings_desc = sorted(strings, reverse=True)\n",
    "\n",
    "print(\"\\nВідсортовано (в зворотному порядку):\")\n",
    "for i in range(len(sorted_strings_desc)):\n",
    "    print(f\"{i+1}. {sorted_strings_desc[i]}\")"
   ],
   "id": "a686ac93d148ee5a"
  },
  {
   "metadata": {},
   "cell_type": "markdown",
   "source": [
    "**Приклад виконання:**\n",
    "```\n",
    "Кількість рядків: 4\n",
    "Рядок 1: яблуко\n",
    "Рядок 2: абрикос\n",
    "Рядок 3: Груша\n",
    "Рядок 4: банан\n",
    "\n",
    "Відсортовано (з урахуванням регістру):\n",
    "1. Груша\n",
    "2. абрикос\n",
    "3. банан\n",
    "4. яблуко\n",
    "\n",
    "Відсортовано (в зворотному порядку):\n",
    "1. яблуко\n",
    "2. банан\n",
    "3. абрикос\n",
    "4. Груша\n",
    "```"
   ],
   "id": "536af41386517ca8"
  },
  {
   "metadata": {},
   "cell_type": "markdown",
   "source": [
    "### Приклад 17: Сортування за кількістю слів\n",
    "\n",
    "**Теоретична передмова:** Для сортування за користувацьким критерієм (наприклад, кількістю слів) спочатку обчислюємо цей критерій для кожного рядка у окремий список. Потім застосовуємо алгоритм бульбашкового сортування (Bubble Sort), який порівнює критерії сусідніх елементів і міняє їх місцями, якщо вони в неправильному порядку. При обміні також міняємо місцями відповідні рядки."
   ],
   "id": "2ed8e99251c73a76"
  },
  {
   "metadata": {},
   "cell_type": "code",
   "outputs": [],
   "execution_count": null,
   "source": [
    "# Програма для сортування за кількістю слів\n",
    "\n",
    "# Введення рядків\n",
    "n = int(input(\"Кількість рядків: \"))\n",
    "strings = []\n",
    "for i in range(n):\n",
    "    s = input(f\"Рядок {i+1}: \")\n",
    "    strings.append(s)\n",
    "\n",
    "# Обчислення кількості слів для кожного рядка\n",
    "word_counts = []\n",
    "for s in strings:\n",
    "    words = s.split()\n",
    "    word_counts.append(len(words))\n",
    "\n",
    "# Бульбашкове сортування за кількістю слів\n",
    "for i in range(len(strings) - 1):\n",
    "    for j in range(len(strings) - 1 - i):\n",
    "        if word_counts[j] > word_counts[j + 1]:\n",
    "            # Обмін рядків\n",
    "            strings[j], strings[j + 1] = strings[j + 1], strings[j]\n",
    "            # Обмін лічильників\n",
    "            word_counts[j], word_counts[j + 1] = word_counts[j + 1], word_counts[j]\n",
    "\n",
    "print(\"\\nВідсортовано за кількістю слів (зростання):\")\n",
    "for i in range(len(strings)):\n",
    "    print(f\"{i+1}. ({word_counts[i]} слів) {strings[i]}\")"
   ],
   "id": "c47b3ed8bb7dc613"
  },
  {
   "metadata": {},
   "cell_type": "markdown",
   "source": [
    "**Приклад виконання:**\n",
    "```\n",
    "Кількість рядків: 4\n",
    "Рядок 1: Hello World\n",
    "Рядок 2: Python\n",
    "Рядок 3: Programming in Python is fun\n",
    "Рядок 4: Test string here\n",
    "\n",
    "Відсортовано за кількістю слів (зростання):\n",
    "1. (1 слів) Python\n",
    "2. (2 слів) Hello World\n",
    "3. (3 слів) Test string here\n",
    "4. (5 слів) Programming in Python is fun\n",
    "```"
   ],
   "id": "5087b8c9c1ba73f1"
  },
  {
   "metadata": {},
   "cell_type": "markdown",
   "source": [
    "### Приклад 18: Сортування за кількістю цифр\n",
    "\n",
    "**Теоретична передмова:** Сортування за кількістю цифр демонструє той самий підхід: обчислюємо критерій (кількість цифр) для кожного рядка циклом з перевіркою `isdigit()`, потім застосовуємо бульбашкове сортування за цим критерієм."
   ],
   "id": "67f4e34479fceb9a"
  },
  {
   "metadata": {
    "ExecuteTime": {
     "end_time": "2025-10-26T15:51:41.776307200Z",
     "start_time": "2025-10-26T15:39:34.371187Z"
    }
   },
   "cell_type": "code",
   "source": [
    "# Програма для сортування за кількістю цифр\n",
    "\n",
    "# Введення рядків\n",
    "n = int(input(\"Кількість рядків: \"))\n",
    "strings = []\n",
    "for i in range(n):\n",
    "    s = input(f\"Рядок {i+1}: \")\n",
    "    strings.append(s)\n",
    "\n",
    "# Обчислення кількості цифр для кожного рядка\n",
    "digit_counts = []\n",
    "for s in strings:\n",
    "    count = 0\n",
    "    for ch in s:\n",
    "        if ch.isdigit():\n",
    "            count += 1\n",
    "    digit_counts.append(count)\n",
    "\n",
    "# Бульбашкове сортування за кількістю цифр (зростання)\n",
    "for i in range(len(strings) - 1):\n",
    "    for j in range(len(strings) - 1 - i):\n",
    "        if digit_counts[j] > digit_counts[j + 1]:\n",
    "            # Обмін рядків\n",
    "            strings[j], strings[j + 1] = strings[j + 1], strings[j]\n",
    "            # Обмін лічильників\n",
    "            digit_counts[j], digit_counts[j + 1] = digit_counts[j + 1], digit_counts[j]\n",
    "\n",
    "print(\"\\nВідсортовано за кількістю цифр (зростання):\")\n",
    "for i in range(len(strings)):\n",
    "    print(f\"{i+1}. ({digit_counts[i]} цифр) {strings[i]}\")"
   ],
   "id": "d9334c42869cbcfa",
   "outputs": [
    {
     "name": "stdout",
     "output_type": "stream",
     "text": [
      "\n",
      "Відсортовано за кількістю цифр (зростання):\n",
      "1. (0 цифр) test\n",
      "2. (3 цифр) abc123\n",
      "3. (3 цифр) Python3.11\n",
      "4. (4 цифр) 2024 year\n"
     ]
    }
   ],
   "execution_count": 22
  },
  {
   "metadata": {},
   "cell_type": "markdown",
   "source": [
    "**Приклад виконання:**\n",
    "```\n",
    "Кількість рядків: 4\n",
    "Рядок 1: abc123\n",
    "Рядок 2: test\n",
    "Рядок 3: Python3.11\n",
    "Рядок 4: 2024 year\n",
    "\n",
    "Відсортовано за кількістю цифр (зростання):\n",
    "1. (0 цифр) test\n",
    "2. (3 цифр) Python3.11\n",
    "3. (3 цифр) abc123\n",
    "4. (4 цифр) 2024 year\n",
    "```"
   ],
   "id": "a8425962dee7814d"
  },
  {
   "metadata": {},
   "cell_type": "markdown",
   "source": [
    "### Приклад 19: Сортування за довжиною першого слова\n",
    "\n",
    "**Теоретична передмова:** Для сортування за довжиною першого слова розбиваємо кожен рядок методом `split()` та беремо довжину першого елемента (якщо він існує). Потім виконуємо бульбашкове сортування за цими довжинами."
   ],
   "id": "d6a0a91d1d331b9c"
  },
  {
   "metadata": {},
   "cell_type": "code",
   "outputs": [],
   "execution_count": null,
   "source": [
    "# Програма для сортування за довжиною першого слова\n",
    "\n",
    "# Введення рядків\n",
    "n = int(input(\"Кількість рядків: \"))\n",
    "strings = []\n",
    "for i in range(n):\n",
    "    s = input(f\"Рядок {i+1}: \")\n",
    "    strings.append(s)\n",
    "\n",
    "# Обчислення довжини першого слова для кожного рядка\n",
    "first_word_lengths = []\n",
    "for s in strings:\n",
    "    words = s.split()\n",
    "    if len(words) > 0:\n",
    "        first_word_lengths.append(len(words[0]))\n",
    "    else:\n",
    "        first_word_lengths.append(0)\n",
    "\n",
    "# Бульбашкове сортування за довжиною першого слова (зростання)\n",
    "for i in range(len(strings) - 1):\n",
    "    for j in range(len(strings) - 1 - i):\n",
    "        if first_word_lengths[j] > first_word_lengths[j + 1]:\n",
    "            # Обмін рядків\n",
    "            strings[j], strings[j + 1] = strings[j + 1], strings[j]\n",
    "            # Обмін довжин\n",
    "            first_word_lengths[j], first_word_lengths[j + 1] = first_word_lengths[j + 1], first_word_lengths[j]\n",
    "\n",
    "print(\"\\nВідсортовано за довжиною першого слова (зростання):\")\n",
    "for i in range(len(strings)):\n",
    "    print(f\"{i+1}. (довжина {first_word_lengths[i]}) {strings[i]}\")"
   ],
   "id": "e59ff6dd8fa5fc8"
  },
  {
   "metadata": {},
   "cell_type": "markdown",
   "source": [
    "---\n",
    "\n",
    "<a name=\"завдання-на-індивідуальне-завдання\"></a>\n",
    "# 3. ЗАВДАННЯ НА ІНДИВІДУАЛЬНЕ ЗАВДАННЯ\n",
    "\n",
    "<a name=\"31-постановка-завдання\"></a>\n",
    "## 3.1. Постановка завдання\n",
    "\n",
    "Виконати введення, сортування та виведення рядків згідно з варіантом з таблиці 1.\n",
    "\n",
    "**Вимоги:**\n",
    "- Програма запитує кількість рядків `n`\n",
    "- Зчитує `n` рядків від користувача\n",
    "- Запитує номер варіанту\n",
    "- Обчислює необхідний критерій для кожного рядка\n",
    "- Сортує рядки відповідно до критерію варіанту методом \"бульбашки\" (Bubble Sort)\n",
    "- Виводить відсортовані рядки\n",
    "\n",
    "**Обмеження:**\n",
    "- Використовувати тільки прості цикли (`for`, `while`)\n",
    "- Використовувати умовні оператори (`if`, `elif`, `else`)\n",
    "- Використовувати списки для зберігання рядків та обчислених критеріїв\n",
    "- НЕ використовувати функції (їх ще не вивчали)\n",
    "- Для сортування використовувати метод \"бульбашки\" (Bubble Sort)\n",
    "\n",
    "<a name=\"32-варіанти-завдань\"></a>\n",
    "## 3.2. Варіанти завдань\n",
    "\n",
    "**Таблиця 1 — Варіанти завдань і критерії сортування**\n",
    "\n",
    "| № варіанту | Критерій сортування | Напрям |\n",
    "|:----------:|:--------------------|:------:|\n",
    "| 1 | Лексикографічно (алфавітно), чутливо до регістру | зростання |\n",
    "| 2 | Лексикографічно (алфавітно), чутливо до регістру | спадання |\n",
    "| 3 | За кількістю слів у рядку | зростання |\n",
    "| 4 | За кількістю слів у рядку | спадання |\n",
    "| 5 | За довжиною першого слова | спадання |\n",
    "| 6 | За довжиною першого слова | зростання |\n",
    "| 7 | За кількістю цифр у рядку | зростання |\n",
    "| 8 | За кількістю цифр у рядку | спадання |\n",
    "| 9 | За кількістю малих літер у рядку | спадання |\n",
    "| 10 | За кількістю малих літер у рядку | зростання |\n",
    "| 11 | За кількістю великих літер у рядку | спадання |\n",
    "| 12 | За кількістю великих літер у рядку | зростання |\n",
    "| 13 | За кількістю знаків пунктуації (ASCII) | спадання |\n",
    "| 14 | За кількістю знаків пунктуації (ASCII) | зростання |\n",
    "| 15 | За кількістю літер у рядку | зростання |\n",
    "| 16 | За кількістю літер у рядку | спадання |\n",
    "| 17 | За довжиною другого слова | спадання |\n",
    "| 18 | За довжиною другого слова | зростання |\n",
    "| 19 | За кількістю недрукованих символів | зростання |\n",
    "\n",
    "<a name=\"33-шаблон-розвязку\"></a>\n",
    "## 3.3. Шаблон розв'язку\n",
    "\n",
    "**Теоретична передмова:** Нижче наведено універсальний шаблон програми, який обробляє всі 19 варіантів завдання. Програма складається з чотирьох основних етапів:\n",
    "\n",
    "1. **Введення даних:** зчитування кількості рядків та самих рядків\n",
    "2. **Обчислення критеріїв:** для кожного рядка обчислюється відповідний критерій сортування (кількість слів, цифр, літер тощо)\n",
    "3. **Сортування:** застосування алгоритму бульбашкового сортування (Bubble Sort) за обчисленими критеріями\n",
    "4. **Виведення результатів:** відображення відсортованих рядків з їхніми критеріями\n",
    "\n",
    "Алгоритм **бульбашкового сортування** працює так: на кожній ітерації зовнішнього циклу \"спливає\" найбільший (або найменший) елемент до кінця масиву шляхом попарного порівняння та обміну сусідніх елементів. Після кожної ітерації зовнішнього циклу один елемент займає своє остаточне місце."
   ],
   "id": "b2f0f2cf90d5af6"
  },
  {
   "metadata": {
    "ExecuteTime": {
     "end_time": "2025-10-27T07:17:40.382885Z",
     "start_time": "2025-10-27T07:16:50.594986Z"
    }
   },
   "cell_type": "code",
   "source": [
    "\"\"\"\n",
    "Програма для сортування рядків за різними критеріями\n",
    "Підтримує варіанти 1-19\n",
    "Використовує тільки базові конструкції: цикли, умовні оператори, списки\n",
    "\"\"\"\n",
    "\n",
    "# Символи ASCII-пунктуації\n",
    "PUNCTUATION = \"!\\\"#$%&'()*+,-./:;<=>?@[\\\\]^_`{|}~\"\n",
    "\n",
    "# Зчитування кількості рядків\n",
    "n_input = input(\"Введіть кількість рядків: \")\n",
    "\n",
    "# Перевірка, чи введено ціле число\n",
    "is_valid = True\n",
    "if not n_input:\n",
    "    is_valid = False\n",
    "else:\n",
    "    for char in n_input:\n",
    "        if not char.isdigit():\n",
    "            is_valid = False\n",
    "            break\n",
    "\n",
    "if not is_valid:\n",
    "    print(\"Помилка: кількість має бути цілим числом\")\n",
    "    print(\"Програма завершена\")\n",
    "else:\n",
    "    n = int(n_input)\n",
    "\n",
    "    # Зчитування рядків\n",
    "    print(f\"Введіть {n} рядків:\")\n",
    "    lines = []\n",
    "    for i in range(n):\n",
    "        line = input(f\"Рядок {i+1}: \")\n",
    "        lines.append(line)\n",
    "\n",
    "    # Зчитування номера варіанту\n",
    "    variant_input = input(\"Введіть номер варіанту (1-19): \")\n",
    "\n",
    "    # Перевірка, чи введено ціле число\n",
    "    is_valid_variant = True\n",
    "    if not variant_input:\n",
    "        is_valid_variant = False\n",
    "    else:\n",
    "        for char in variant_input:\n",
    "            if not char.isdigit():\n",
    "                is_valid_variant = False\n",
    "                break\n",
    "\n",
    "    if not is_valid_variant:\n",
    "        print(\"Помилка: номер варіанту має бути цілим числом\")\n",
    "        print(\"Програма завершена\")\n",
    "    else:\n",
    "        variant = int(variant_input)\n",
    "\n",
    "        if variant < 1 or variant > 19:\n",
    "            print(f\"Помилка: невірний номер варіанту {variant}\")\n",
    "            print(\"Програма завершена\")\n",
    "        else:\n",
    "            # Обчислення критеріїв сортування для кожного рядка\n",
    "            criteria = []\n",
    "\n",
    "            for line in lines:\n",
    "                match variant:\n",
    "                    case 1 | 2:\n",
    "                        # Лексикографічне сортування - використовуємо сам рядок як критерій\n",
    "                        criteria.append(line)\n",
    "\n",
    "                    case 3 | 4:\n",
    "                        # Кількість слів\n",
    "                        words = line.split()\n",
    "                        criteria.append(len(words))\n",
    "\n",
    "                    case 5 | 6:\n",
    "                        # Довжина першого слова\n",
    "                        words = line.split()\n",
    "                        if len(words) > 0:\n",
    "                            criteria.append(len(words[0]))\n",
    "                        else:\n",
    "                            criteria.append(0)\n",
    "\n",
    "                    case 7 | 8:\n",
    "                        # Кількість цифр\n",
    "                        count = 0\n",
    "                        for ch in line:\n",
    "                            if ch.isdigit():\n",
    "                                count += 1\n",
    "                        criteria.append(count)\n",
    "\n",
    "                    case 9 | 10:\n",
    "                        # Кількість малих літер\n",
    "                        count = 0\n",
    "                        for ch in line:\n",
    "                            if ch.islower():\n",
    "                                count += 1\n",
    "                        criteria.append(count)\n",
    "\n",
    "                    case 11 | 12:\n",
    "                        # Кількість великих літер\n",
    "                        count = 0\n",
    "                        for ch in line:\n",
    "                            if ch.isupper():\n",
    "                                count += 1\n",
    "                        criteria.append(count)\n",
    "\n",
    "                    case 13 | 14:\n",
    "                        # Кількість пунктуації\n",
    "                        count = 0\n",
    "                        for ch in line:\n",
    "                            if ch in PUNCTUATION:\n",
    "                                count += 1\n",
    "                        criteria.append(count)\n",
    "\n",
    "                    case 15 | 16:\n",
    "                        # Кількість літер\n",
    "                        count = 0\n",
    "                        for ch in line:\n",
    "                            if ch.isalpha():\n",
    "                                count += 1\n",
    "                        criteria.append(count)\n",
    "\n",
    "                    case 17 | 18:\n",
    "                        # Довжина другого слова\n",
    "                        words = line.split()\n",
    "                        if len(words) > 1:\n",
    "                            criteria.append(len(words[1]))\n",
    "                        else:\n",
    "                            criteria.append(0)\n",
    "\n",
    "                    case 19:\n",
    "                        # Кількість недрукованих символів\n",
    "                        count = 0\n",
    "                        for ch in line:\n",
    "                            if not ch.isprintable():\n",
    "                                count += 1\n",
    "                        criteria.append(count)\n",
    "\n",
    "            # Визначення напряму сортування\n",
    "            # Варіанти зі спаданням\n",
    "            if variant in (2, 4, 5, 8, 9, 11, 13, 16, 17):\n",
    "                ascending = False\n",
    "            else:\n",
    "                ascending = True\n",
    "\n",
    "            # Бульбашкове сортування\n",
    "            for i in range(len(lines) - 1):\n",
    "                for j in range(len(lines) - 1 - i):\n",
    "                    # Порівняння criteria[j] з criteria[j+1]\n",
    "                    should_swap = False\n",
    "\n",
    "                    if ascending:\n",
    "                        # Для зростання міняємо, якщо поточний > наступного\n",
    "                        should_swap = criteria[j] > criteria[j + 1]\n",
    "                    else:\n",
    "                        # Для спадання міняємо, якщо поточний < наступного\n",
    "                        should_swap = criteria[j] < criteria[j + 1]\n",
    "\n",
    "                    if should_swap:\n",
    "                        # Обмін рядків\n",
    "                        lines[j], lines[j + 1] = lines[j + 1], lines[j]\n",
    "                        # Обмін критеріїв\n",
    "                        criteria[j], criteria[j + 1] = criteria[j + 1], criteria[j]\n",
    "\n",
    "            # Виведення результатів\n",
    "            print(f\"\\nВідсортовані рядки (варіант {variant}):\")\n",
    "            for i in range(len(lines)):\n",
    "                # Виведення значення критерію для наочності\n",
    "                if variant == 1 or variant == 2:\n",
    "                    print(f\"{i+1}. {lines[i]}\")\n",
    "                else:\n",
    "                    print(f\"{i+1}. [{criteria[i]}] {lines[i]}\")"
   ],
   "id": "ae46c1efb3e7e154",
   "outputs": [
    {
     "name": "stdout",
     "output_type": "stream",
     "text": [
      "Введіть 4 рядків:\n",
      "\n",
      "Відсортовані рядки (варіант 3):\n",
      "1. [1] Python\n",
      "2. [2] Hello World\n",
      "3. [3] Test string here\n",
      "4. [5] Programming in Python is fun\n"
     ]
    }
   ],
   "execution_count": 1
  },
  {
   "metadata": {},
   "cell_type": "markdown",
   "source": [
    "### Приклад виконання (варіант 3: за кількістю слів, зростання)\n",
    "\n",
    "```\n",
    "Введіть кількість рядків: 4\n",
    "Введіть 4 рядків:\n",
    "Рядок 1: Hello World\n",
    "Рядок 2: Python\n",
    "Рядок 3: Programming in Python is fun\n",
    "Рядок 4: Test string here\n",
    "Введіть номер варіанту (1-19): 3\n",
    "\n",
    "Відсортовані рядки (варіант 3):\n",
    "1. [1] Python\n",
    "2. [2] Hello World\n",
    "3. [3] Test string here\n",
    "4. [5] Programming in Python is fun"
   ],
   "id": "bf030ac64405d86e"
  },
  {
   "metadata": {},
   "cell_type": "markdown",
   "source": [
    "### Приклад виконання (варіант 8: за кількістю цифр, спадання)\n",
    "\n",
    "```\n",
    "Введіть кількість рядків: 4\n",
    "Введіть 4 рядків:\n",
    "Рядок 1: abc123\n",
    "Рядок 2: test\n",
    "Рядок 3: Python3.11\n",
    "Рядок 4: 2024 year\n",
    "Введіть номер варіанту (1-19): 8\n",
    "\n",
    "Відсортовані рядки (варіант 8):\n",
    "1. [4] 2024 year\n",
    "2. [3] abc123\n",
    "3. [3] Python3.11\n",
    "4. [0] test\n",
    "```"
   ],
   "id": "3ca70c0b459cb2df"
  },
  {
   "metadata": {},
   "cell_type": "markdown",
   "source": [
    "### Приклад виконання (варіант 1: лексикографічно, зростання)\n",
    "\n",
    "```\n",
    "Введіть кількість рядків: 4\n",
    "Введіть 4 рядків:\n",
    "Рядок 1: banana\n",
    "Рядок 2: Apple\n",
    "Рядок 3: cherry\n",
    "Рядок 4: apple\n",
    "Введіть номер варіанту (1-19): 1\n",
    "\n",
    "Відсортовані рядки (варіант 1):\n",
    "1. Apple\n",
    "2. apple\n",
    "3. banana\n",
    "4. cherry\n",
    "```"
   ],
   "id": "d6f99a3c5be75265"
  },
  {
   "metadata": {},
   "cell_type": "markdown",
   "source": [
    "---\n",
    "\n",
    "<a name=\"вимоги-до-оформлення-звіту\"></a>\n",
    "# 4. ВИМОГИ ДО ОФОРМЛЕННЯ ЗВІТУ\n",
    "\n",
    "Звіт має бути оформлений відповідно до вимог щодо оформлення технічної документації на аркушах формату А4 у друкованому вигляді.\n",
    "\n",
    "## Структура звіту:\n",
    "\n",
    "### 1. Титульна сторінка\n",
    "- Назва університету\n",
    "- Кафедра\n",
    "- Назва індивідуального завдання\n",
    "- Виконавець (ПІБ, група)\n",
    "- Викладач\n",
    "- Рік\n",
    "\n",
    "### 2. Назва та мета індивідуального завдання\n",
    "- Чітке формулювання мети\n",
    "- Перелік завдань, які потрібно виконати\n",
    "- Номер варіанту та критерій сортування\n",
    "\n",
    "### 3. Постановка завдання відповідно до варіанту\n",
    "- Номер варіанту\n",
    "- Опис критерію сортування\n",
    "- Напрям сортування (зростання/спадання)\n",
    "\n",
    "### 4. Алгоритм реалізації завдання\n",
    "- Опис алгоритму словами\n",
    "- Блок-схема (за потреби)\n",
    "- Опис логіки програми (введення, обчислення критеріїв, сортування, виведення)\n",
    "- Пояснення методу бульбашкового сортування\n",
    "\n",
    "### 5. Лістинг програми\n",
    "- Повний програмний код\n",
    "- Коментарі до коду\n",
    "- Форматування коду\n",
    "\n",
    "### 6. Результати роботи програми\n",
    "- Мінімум 3-5 тестових прикладів\n",
    "- Скріншоти виконання програми\n",
    "- Приклади з різними вхідними даними\n",
    "- Демонстрація коректної роботи\n",
    "\n",
    "### 7. Висновки\n",
    "- Короткий опис виконаної роботи\n",
    "- Досягнуті результати\n",
    "- Набуті навички (робота з рядками, цикли, сортування)\n",
    "- Можливі покращення та розширення\n",
    "\n",
    "## Вимоги до форматування:\n",
    "\n",
    "- **Шрифт основного тексту:** Arial, 14 pt\n",
    "- **Шрифт коду програми:** аналогічно IDE, 10-14 pt\n",
    "- **Міжрядковий інтервал:** 1.5\n",
    "- **Поля:** ліве - 30 мм, праве - 10 мм, верхнє та нижнє - 20 мм\n",
    "- **Нумерація сторінок:** внизу по центру\n",
    "- **Заголовки:** жирний шрифт\n",
    "- **Скріншоти:** з підписами та поясненнями\n",
    "- **Таблиці та рисунки:** нумеровані, з підписами\n",
    "\n",
    "---\n",
    "\n",
    "<a name=\"питання-для-самоперевірки\"></a>\n",
    "# 5. ПИТАННЯ ДЛЯ САМОПЕРЕВІРКИ\n",
    "\n",
    "## Основи роботи з рядками (10 питань)\n",
    "\n",
    "1. Що таке тип `str` у Python та яка його основна властивість?\n",
    "2. Що означає незмінність (immutability) рядків та які наслідки це має для програмування?\n",
    "3. Які існують способи створення рядків у Python? Коли використовувати потрійні лапки?\n",
    "4. Що таке Unicode та як Python 3 працює з ним?\n",
    "5. Як отримати довжину рядка? Що повертає функція `len()`?\n",
    "6. Як отримати доступ до окремого символу в рядку?\n",
    "7. Що таке індексація рядків? Як працюють від'ємні індекси?\n",
    "8. Що таке зрізи (slicing) та як вони працюють?\n",
    "9. Як перевернути рядок за допомогою зрізів?\n",
    "10. Як ітерувати по символах рядка за допомогою циклу `for`?\n",
    "\n",
    "## Методи рядків (10 питань)\n",
    "\n",
    "11. Для чого використовується метод `find()` та яке значення він повертає?\n",
    "12. Для чого використовується метод `replace()` та як він працює? Чи змінює він оригінальний рядок?\n",
    "13. Для чого використовується метод `split()` та що він повертає?\n",
    "14. Які методи використовуються для зміни регістру рядка?\n",
    "15. Що робить метод `strip()` та чим він відрізняється від `lstrip()` і `rstrip()`?\n",
    "16. Для чого використовуються методи `startswith()` та `endswith()`?\n",
    "17. Що таке метод `count()` та що він повертає?\n",
    "18. Що робить оператор `in` при роботі з рядками?\n",
    "19. Як об'єднати список рядків в один рядок?\n",
    "20. Чим відрізняються методи `lower()` та `upper()`?\n",
    "\n",
    "## Перевірка символів (8 питань)\n",
    "\n",
    "21. Які методи використовуються для перевірки типу символів?\n",
    "22. Що повертає метод `isalpha()` і коли він повертає `True`?\n",
    "23. Що повертає метод `isdigit()` і які символи він розпізнає?\n",
    "24. Що повертає метод `isspace()` і які символи він розпізнає як пробільні?\n",
    "25. Що повертає метод `isalnum()` і для чого він використовується?\n",
    "26. Як перевірити, чи складається рядок тільки з малих літер?\n",
    "27. Як перевірити, чи складається рядок тільки з великих літер?\n",
    "28. Що таке метод `isprintable()` та які символи він вважає друкованими?\n",
    "\n",
    "## Порівняння та сортування (10 питань)\n",
    "\n",
    "29. Як порівнюються рядки в Python? Що таке лексикографічне порівняння?\n",
    "30. Чи впливає регістр літер на порівняння рядків?\n",
    "31. Які оператори використовуються для порівняння рядків?\n",
    "32. Як відсортувати список рядків в алфавітному порядку?\n",
    "33. Що робить параметр `reverse=True` у функції `sorted()`?\n",
    "34. Як працює метод бульбашкового сортування (Bubble Sort)?\n",
    "35. Що таке критерій сортування?\n",
    "36. Як відсортувати рядки за довжиною, використовуючи Bubble Sort?\n",
    "37. Як відсортувати рядки за кількістю певних символів (наприклад, цифр)?\n",
    "38. У чому перевага використання функції `sorted()` порівняно з ручним сортуванням?\n",
    "\n",
    "## Цикли та списки (7 питань)\n",
    "\n",
    "39. Як створити порожній список у Python?\n",
    "40. Як додати елемент до списку?\n",
    "41. Як отримати доступ до елемента списку за індексом?\n",
    "42. Як ітерувати по списку за допомогою циклу `for`?\n",
    "43. Як використати цикл `for` з `range()` для обходу списку за індексами?\n",
    "44. Як поміняти місцями два елементи списку?\n",
    "45. Що таке вкладені цикли і коли вони використовуються?\n",
    "\n",
    "## Підрахунок та обробка рядків (10 питань)\n",
    "\n",
    "46. Як підрахувати кількість цифр у рядку за допомогою циклу?\n",
    "47. Як підрахувати кількість літер у рядку?\n",
    "48. Як підрахувати кількість малих/великих літер у рядку?\n",
    "49. Що таке пунктуація і як її підрахувати?\n",
    "50. Як підрахувати кількість слів у рядку?\n",
    "51. Як видалити всі пробіли з рядка?\n",
    "52. Як знайти спільний префікс двох рядків?\n",
    "53. Як знайти спільний суфікс двох рядків?\n",
    "54. Як перевірити, чи є рядок паліндромом (ігноруючи пробіли та регістр)?\n",
    "55. Як знайти кількість унікальних символів у рядку за допомогою списку?\n",
    "\n",
    "---\n",
    "\n",
    "<a name=\"перелік-рекомендованих-джерел\"></a>\n",
    "# 6. ПЕРЕЛІК РЕКОМЕНДОВАНИХ ДЖЕРЕЛ\n",
    "\n",
    "## Офіційна документація Python\n",
    "\n",
    "1. **Python 3 Standard Library — Text Sequence Type (str)**\n",
    "   https://docs.python.org/3/library/stdtypes.html#text-sequence-type-str\n",
    "   Повна документація типу `str` з описом всіх методів\n",
    "\n",
    "2. **Python 3 String Methods**\n",
    "   https://docs.python.org/3/library/stdtypes.html#string-methods\n",
    "   Детальний опис методів рядків з прикладами\n",
    "\n",
    "3. **Python 3 — Built-in Functions**\n",
    "   https://docs.python.org/3/library/functions.html\n",
    "   Документація вбудованих функцій (`len`, `sorted`, `input`, `print` тощо)\n",
    "\n",
    "4. **Python 3 Tutorial — Strings**\n",
    "   https://docs.python.org/3/tutorial/introduction.html#strings\n",
    "   Офіційний туторіал по роботі з рядками\n",
    "\n",
    "## Навчальні ресурси\n",
    "\n",
    "5. **Real Python — Strings and Character Data in Python**\n",
    "   https://realpython.com/python-strings/\n",
    "   Детальний посібник з роботи з рядками\n",
    "\n",
    "6. **Real Python — Python String Formatting Best Practices**\n",
    "   https://realpython.com/python-string-formatting/\n",
    "   Кращі практики форматування рядків\n",
    "\n",
    "7. **W3Schools — Python String Methods**\n",
    "   https://www.w3schools.com/python/python_ref_string.asp\n",
    "   Довідник методів рядків з інтерактивними прикладами\n",
    "\n",
    "8. **W3Schools — Python Loops**\n",
    "   https://www.w3schools.com/python/python_for_loops.asp\n",
    "   Туторіал по циклам у Python\n",
    "\n",
    "9. **GeeksforGeeks — Python String**\n",
    "   https://www.geeksforgeeks.org/python-string/\n",
    "   Комплексні туторіали та приклади\n",
    "\n",
    "10. **Programiz — Python String Methods**\n",
    "    https://www.programiz.com/python-programming/methods/string\n",
    "    Структурований довідник з прикладами\n",
    "\n",
    "## Алгоритми сортування\n",
    "\n",
    "11. **W3Schools — Python Sorting**\n",
    "    https://www.w3schools.com/python/python_lists_sort.asp\n",
    "    Основи сортування в Python\n",
    "\n",
    "12. **GeeksforGeeks — Bubble Sort**\n",
    "    https://www.geeksforgeeks.org/bubble-sort/\n",
    "    Детальний опис алгоритму бульбашкового сортування\n",
    "\n",
    "13. **Visualgo — Sorting Algorithms Visualization**\n",
    "    https://visualgo.net/en/sorting\n",
    "    Візуалізація алгоритмів сортування\n",
    "\n",
    "## Книги\n",
    "\n",
    "14. **Лутц М.** Вивчаємо Python (Learning Python), 5th ed. O'Reilly, 2013.\n",
    "    Класична книга з Python, розділ про рядки\n",
    "\n",
    "15. **Дауні М.** Думай як програміст (Think Python), 2nd ed. O'Reilly, 2015.\n",
    "    Введення в програмування з акцентом на алгоритмічне мислення\n",
    "\n",
    "16. **Свейгарт Е.** Автоматизація рутинних завдань з Python (Automate the Boring Stuff with Python), 2nd ed. No Starch Press, 2019.\n",
    "    Практичний посібник з реальними прикладами\n",
    "\n",
    "17. **Бізлі Д., Джонс Б.** Python Cookbook, 3rd ed. O'Reilly, 2013.\n",
    "    Збірка рецептів для розв'язання типових задач\n",
    "\n",
    "## Додаткові матеріали\n",
    "\n",
    "18. **Python Tutor — Visualize Python Code Execution**\n",
    "    https://pythontutor.com/\n",
    "    Візуалізація виконання коду Python\n",
    "\n",
    "19. **Unicode and Character Encodings in Python**\n",
    "    https://realpython.com/python-encodings-guide/\n",
    "    Робота з Unicode та кодуваннями\n",
    "\n",
    "20. **Python PEP 8 — Style Guide for Python Code**\n",
    "    https://peps.python.org/pep-0008/\n",
    "    Офіційний стандарт оформлення коду Python\n",
    "\n",
    "## Практика та задачі\n",
    "\n",
    "21. **LeetCode — String Problems**\n",
    "    https://leetcode.com/tag/string/\n",
    "    Задачі на роботу з рядками різної складності\n",
    "\n",
    "22. **HackerRank — Python String Challenges**\n",
    "    https://www.hackerrank.com/domains/python?filters%5Bsubdomains%5D%5B%5D=py-strings\n",
    "    Практичні завдання з рядками\n",
    "\n",
    "23. **Codewars — Python String Kata**\n",
    "    https://www.codewars.com/kata/search/python?q=string\n",
    "    Вправи на роботу з рядками\n"
   ],
   "id": "f1daf8e6b601ab74"
  },
  {
   "metadata": {},
   "cell_type": "code",
   "outputs": [],
   "execution_count": null,
   "source": "",
   "id": "7b89c43a871a4c7f"
  }
 ],
 "metadata": {
  "kernelspec": {
   "display_name": "Python 3",
   "language": "python",
   "name": "python3"
  },
  "language_info": {
   "codemirror_mode": {
    "name": "ipython",
    "version": 2
   },
   "file_extension": ".py",
   "mimetype": "text/x-python",
   "name": "python",
   "nbconvert_exporter": "python",
   "pygments_lexer": "ipython2",
   "version": "2.7.6"
  }
 },
 "nbformat": 4,
 "nbformat_minor": 5
}
