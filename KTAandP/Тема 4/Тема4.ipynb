{
 "cells": [
  {
   "attachments": {},
   "cell_type": "markdown",
   "id": "4e73d7dad3f63b93",
   "metadata": {
    "collapsed": true,
    "jupyter": {
     "outputs_hidden": true
    }
   },
   "source": [
    "# Тема 4. Керуючі структури в Python: умови та цикли\n",
    "Оператори: умовні, вибору.\n",
    "\n",
    "Організація лінійних та розгалужених обчислень у програмі: їхній порядок, визначення похибки.\n",
    "\n",
    "Оператори циклу, основні принципи програмування циклічної структури.\n",
    "\n",
    "Вкладені цикли."
   ]
  },
  {
   "cell_type": "markdown",
   "id": "b728bb6a291f2f6f",
   "metadata": {},
   "source": [
    "## Логічні вирази\n",
    "Як і інші типи даних bool має свій набір операцій з даними цього типу.\n",
    "\n",
    "Оператор not (логічне \"заперечення\") змінює логічне значення на протилежне:"
   ]
  },
  {
   "cell_type": "code",
   "execution_count": 1,
   "id": "9b4c06dee7abc0fb",
   "metadata": {
    "ExecuteTime": {
     "end_time": "2025-09-26T08:49:53.172544Z",
     "start_time": "2025-09-26T08:49:53.164975Z"
    }
   },
   "outputs": [
    {
     "data": {
      "text/plain": [
       "False"
      ]
     },
     "execution_count": 1,
     "metadata": {},
     "output_type": "execute_result"
    }
   ],
   "source": [
    "not True"
   ]
  },
  {
   "cell_type": "code",
   "execution_count": 2,
   "id": "82df6561a07461cf",
   "metadata": {
    "ExecuteTime": {
     "end_time": "2025-09-26T08:50:02.142473Z",
     "start_time": "2025-09-26T08:50:02.138236Z"
    }
   },
   "outputs": [
    {
     "data": {
      "text/plain": [
       "False"
      ]
     },
     "execution_count": 2,
     "metadata": {},
     "output_type": "execute_result"
    }
   ],
   "source": [
    "not not False"
   ]
  },
  {
   "cell_type": "markdown",
   "id": "391ad43f8d04e2ed",
   "metadata": {},
   "source": [
    "Зауважте: оператор `not` працює лише з одним операндом, подібно як оператор зміни знаку для чисел.\n",
    "\n",
    "Такі оператори називають \"унарними\".\n",
    "\n",
    "Оператор `and` (логічне \"І\", логічне множення) повертає `True` тоді і лише тоді, коли обидва його операнди мають значення `True`:"
   ]
  },
  {
   "cell_type": "code",
   "execution_count": 3,
   "id": "c7585d5d8649e1d7",
   "metadata": {
    "ExecuteTime": {
     "end_time": "2025-09-26T08:51:18.232782Z",
     "start_time": "2025-09-26T08:51:18.229689Z"
    }
   },
   "outputs": [
    {
     "data": {
      "text/plain": [
       "True"
      ]
     },
     "execution_count": 3,
     "metadata": {},
     "output_type": "execute_result"
    }
   ],
   "source": [
    "True and True"
   ]
  },
  {
   "cell_type": "code",
   "execution_count": 4,
   "id": "a91504238b54f518",
   "metadata": {
    "ExecuteTime": {
     "end_time": "2025-09-26T08:51:32.766500Z",
     "start_time": "2025-09-26T08:51:32.763443Z"
    }
   },
   "outputs": [
    {
     "data": {
      "text/plain": [
       "False"
      ]
     },
     "execution_count": 4,
     "metadata": {},
     "output_type": "execute_result"
    }
   ],
   "source": [
    "True and False"
   ]
  },
  {
   "cell_type": "code",
   "execution_count": 5,
   "id": "116530da80bfda4a",
   "metadata": {
    "ExecuteTime": {
     "end_time": "2025-09-26T08:51:40.546480Z",
     "start_time": "2025-09-26T08:51:40.543164Z"
    }
   },
   "outputs": [
    {
     "data": {
      "text/plain": [
       "False"
      ]
     },
     "execution_count": 5,
     "metadata": {},
     "output_type": "execute_result"
    }
   ],
   "source": [
    "False and False"
   ]
  },
  {
   "cell_type": "markdown",
   "id": "a38b83e1a30609ca",
   "metadata": {},
   "source": [
    "У `not` пріорітет вище ніж у `and`:"
   ]
  },
  {
   "cell_type": "code",
   "execution_count": 6,
   "id": "757484a3618a0930",
   "metadata": {
    "ExecuteTime": {
     "end_time": "2025-09-26T08:52:19.905573Z",
     "start_time": "2025-09-26T08:52:19.902516Z"
    }
   },
   "outputs": [
    {
     "data": {
      "text/plain": [
       "False"
      ]
     },
     "execution_count": 6,
     "metadata": {},
     "output_type": "execute_result"
    }
   ],
   "source": [
    "True and not True"
   ]
  },
  {
   "cell_type": "markdown",
   "id": "d095fd3d7a21105f",
   "metadata": {},
   "source": [
    "Оператор `or` (логічне \"АБО\", логічне додавання) повертає `False` тоді і лише тоді, коли обидва його операнди мають значення `False`:"
   ]
  },
  {
   "cell_type": "code",
   "execution_count": 7,
   "id": "9aa64d03579e43f8",
   "metadata": {
    "ExecuteTime": {
     "end_time": "2025-09-26T08:53:02.936332Z",
     "start_time": "2025-09-26T08:53:02.933216Z"
    }
   },
   "outputs": [
    {
     "data": {
      "text/plain": [
       "True"
      ]
     },
     "execution_count": 7,
     "metadata": {},
     "output_type": "execute_result"
    }
   ],
   "source": [
    "True or False"
   ]
  },
  {
   "cell_type": "code",
   "execution_count": 8,
   "id": "957caa31cd16b598",
   "metadata": {
    "ExecuteTime": {
     "end_time": "2025-09-26T08:53:11.606305Z",
     "start_time": "2025-09-26T08:53:11.603277Z"
    }
   },
   "outputs": [
    {
     "data": {
      "text/plain": [
       "True"
      ]
     },
     "execution_count": 8,
     "metadata": {},
     "output_type": "execute_result"
    }
   ],
   "source": [
    "True or True"
   ]
  },
  {
   "cell_type": "code",
   "execution_count": 9,
   "id": "782806f6ca58e3dc",
   "metadata": {
    "ExecuteTime": {
     "end_time": "2025-09-26T08:53:20.447818Z",
     "start_time": "2025-09-26T08:53:20.444770Z"
    }
   },
   "outputs": [
    {
     "data": {
      "text/plain": [
       "False"
      ]
     },
     "execution_count": 9,
     "metadata": {},
     "output_type": "execute_result"
    }
   ],
   "source": [
    "False or False"
   ]
  },
  {
   "cell_type": "markdown",
   "id": "45fe26df2ca55384",
   "metadata": {},
   "source": [
    "У `and` пріорітет вище ніж у `or`."
   ]
  },
  {
   "cell_type": "code",
   "execution_count": 10,
   "id": "90fef706dc7dafed",
   "metadata": {
    "ExecuteTime": {
     "end_time": "2025-09-26T08:55:31.001279Z",
     "start_time": "2025-09-26T08:55:30.997831Z"
    }
   },
   "outputs": [
    {
     "data": {
      "text/plain": [
       "True"
      ]
     },
     "execution_count": 10,
     "metadata": {},
     "output_type": "execute_result"
    }
   ],
   "source": [
    "not False or True and False"
   ]
  },
  {
   "cell_type": "markdown",
   "id": "7655f1292c846e6b",
   "metadata": {},
   "source": [
    "Пріорітет операторів у Python (від вищого до нижчого):\n",
    "\n",
    "1. `not` (найвищий)\n",
    "2. `and`\n",
    "3. `or` (найнижчий)\n",
    "\n",
    "Тому вираз `not False or True and False` обчислюється так:\n",
    "\n",
    "1. Спочатку `not False = True`\n",
    "2. Потім `True and False = False`\n",
    "3. Нарешті `True or False = True`\n",
    "\n",
    "Тобто це як `(not False) or (True and False) = True or False = True`"
   ]
  },
  {
   "cell_type": "code",
   "execution_count": 11,
   "id": "6f64359ac4606e46",
   "metadata": {
    "ExecuteTime": {
     "end_time": "2025-09-26T08:57:20.006065Z",
     "start_time": "2025-09-26T08:57:20.001465Z"
    }
   },
   "outputs": [
    {
     "data": {
      "text/plain": [
       "True"
      ]
     },
     "execution_count": 11,
     "metadata": {},
     "output_type": "execute_result"
    }
   ],
   "source": [
    "(not False) or (True and False) == True or False == True"
   ]
  },
  {
   "cell_type": "markdown",
   "id": "c91361d077834df0",
   "metadata": {},
   "source": [
    "Всі вищенаведені операції проводились над даними типу bool і давали значення теж типу bool."
   ]
  },
  {
   "cell_type": "markdown",
   "id": "ba711ce636924de",
   "metadata": {},
   "source": [
    "### Порівняння значень\n",
    "\n",
    "Різні типи даних можна порівнювати між собою.\n",
    "\n",
    "| Операція | Результат |\n",
    "| :--- | :--- |\n",
    "| `a == b` | `True`, якщо значення `a` дорівнює значенню `b`, `False` в інших випадках |\n",
    "| `a != b` | `True`, якщо значення `a` не дорівнює значенню `b`, `False` в інших випадках |\n",
    "| `a > b` | `True`, якщо значення `a` більше ніж значення `b`, `False` в інших випадках |\n",
    "| `a >= b` | `True`, якщо значення `a` більше ніж значення `b` або дорівнює йому, `False` в інших випадках |\n",
    "| `a < b` | `True`, якщо значення `a` менше ніж значення `b`, `False` в інших випадках |\n",
    "| `a <= b` | `True`, якщо значення `a` менше ніж значення `b` або дорівнює йому, `False` в інших випадках |\n"
   ]
  },
  {
   "cell_type": "markdown",
   "id": "486cf41bbee9b4bf",
   "metadata": {},
   "source": [
    "Приклади:"
   ]
  },
  {
   "cell_type": "code",
   "execution_count": 12,
   "id": "af6d798271b1cb8d",
   "metadata": {
    "ExecuteTime": {
     "end_time": "2025-09-26T08:59:44.677197Z",
     "start_time": "2025-09-26T08:59:44.673653Z"
    }
   },
   "outputs": [
    {
     "data": {
      "text/plain": [
       "True"
      ]
     },
     "execution_count": 12,
     "metadata": {},
     "output_type": "execute_result"
    }
   ],
   "source": [
    "5 == 5"
   ]
  },
  {
   "cell_type": "code",
   "execution_count": 13,
   "id": "1ff30fb52e89d3b1",
   "metadata": {
    "ExecuteTime": {
     "end_time": "2025-09-26T08:59:53.224730Z",
     "start_time": "2025-09-26T08:59:53.221041Z"
    }
   },
   "outputs": [
    {
     "data": {
      "text/plain": [
       "True"
      ]
     },
     "execution_count": 13,
     "metadata": {},
     "output_type": "execute_result"
    }
   ],
   "source": [
    "5 >= 5"
   ]
  },
  {
   "cell_type": "code",
   "execution_count": 14,
   "id": "712b7e071a920461",
   "metadata": {
    "ExecuteTime": {
     "end_time": "2025-09-26T09:00:02.125741Z",
     "start_time": "2025-09-26T09:00:02.122487Z"
    }
   },
   "outputs": [
    {
     "data": {
      "text/plain": [
       "True"
      ]
     },
     "execution_count": 14,
     "metadata": {},
     "output_type": "execute_result"
    }
   ],
   "source": [
    "5 != 'five'"
   ]
  },
  {
   "cell_type": "code",
   "execution_count": 15,
   "id": "4c0ebf546c7f63f1",
   "metadata": {
    "ExecuteTime": {
     "end_time": "2025-09-26T09:00:11.407408Z",
     "start_time": "2025-09-26T09:00:11.405445Z"
    }
   },
   "outputs": [],
   "source": [
    "s = 'Hi'"
   ]
  },
  {
   "cell_type": "code",
   "execution_count": 16,
   "id": "99dbdfc64c30bf52",
   "metadata": {
    "ExecuteTime": {
     "end_time": "2025-09-26T09:00:22.321407Z",
     "start_time": "2025-09-26T09:00:22.317991Z"
    }
   },
   "outputs": [
    {
     "data": {
      "text/plain": [
       "True"
      ]
     },
     "execution_count": 16,
     "metadata": {},
     "output_type": "execute_result"
    }
   ],
   "source": [
    "s == 'Hi'"
   ]
  },
  {
   "cell_type": "code",
   "execution_count": 17,
   "id": "734dddaaba3854c2",
   "metadata": {
    "ExecuteTime": {
     "end_time": "2025-09-26T09:00:31.119538Z",
     "start_time": "2025-09-26T09:00:31.116677Z"
    }
   },
   "outputs": [
    {
     "data": {
      "text/plain": [
       "False"
      ]
     },
     "execution_count": 17,
     "metadata": {},
     "output_type": "execute_result"
    }
   ],
   "source": [
    "s + '!' == 'Hi'"
   ]
  },
  {
   "cell_type": "markdown",
   "id": "90e50942f9f2baca",
   "metadata": {},
   "source": [
    "Зауважте: ми проводили порівняння значень різних типів. Але операції порівняння завжди повертають значення типу `bool`."
   ]
  },
  {
   "cell_type": "markdown",
   "id": "6e6f46382dbc1718",
   "metadata": {},
   "source": [
    "### Входження рядка в інший рядок\n",
    "За допомогою логічного оператора `in` можна перевірити чи входить один символьний рядок в інший:"
   ]
  },
  {
   "cell_type": "code",
   "execution_count": 18,
   "id": "96bc8be87b7acced",
   "metadata": {
    "ExecuteTime": {
     "end_time": "2025-09-26T09:01:24.597512Z",
     "start_time": "2025-09-26T09:01:24.595491Z"
    }
   },
   "outputs": [],
   "source": [
    "s = 'Hello Jane'"
   ]
  },
  {
   "cell_type": "code",
   "execution_count": 19,
   "id": "95379eaff64e000e",
   "metadata": {
    "ExecuteTime": {
     "end_time": "2025-09-26T09:01:34.345389Z",
     "start_time": "2025-09-26T09:01:34.341983Z"
    }
   },
   "outputs": [
    {
     "data": {
      "text/plain": [
       "True"
      ]
     },
     "execution_count": 19,
     "metadata": {},
     "output_type": "execute_result"
    }
   ],
   "source": [
    "'H' in s"
   ]
  },
  {
   "cell_type": "code",
   "execution_count": 20,
   "id": "d0f5a7f9a3d9fd1c",
   "metadata": {
    "ExecuteTime": {
     "end_time": "2025-09-26T09:01:42.414514Z",
     "start_time": "2025-09-26T09:01:42.411409Z"
    }
   },
   "outputs": [
    {
     "data": {
      "text/plain": [
       "True"
      ]
     },
     "execution_count": 20,
     "metadata": {},
     "output_type": "execute_result"
    }
   ],
   "source": [
    "'Jane' in s"
   ]
  },
  {
   "cell_type": "code",
   "execution_count": 21,
   "id": "926d848dbf31479b",
   "metadata": {
    "ExecuteTime": {
     "end_time": "2025-09-26T09:01:51.571139Z",
     "start_time": "2025-09-26T09:01:51.568032Z"
    }
   },
   "outputs": [
    {
     "data": {
      "text/plain": [
       "True"
      ]
     },
     "execution_count": 21,
     "metadata": {},
     "output_type": "execute_result"
    }
   ],
   "source": [
    "'Jane!' in s + '!'"
   ]
  },
  {
   "cell_type": "code",
   "execution_count": 22,
   "id": "8f15fe785618304d",
   "metadata": {
    "ExecuteTime": {
     "end_time": "2025-09-26T09:02:00.128168Z",
     "start_time": "2025-09-26T09:02:00.124984Z"
    }
   },
   "outputs": [
    {
     "data": {
      "text/plain": [
       "True"
      ]
     },
     "execution_count": 22,
     "metadata": {},
     "output_type": "execute_result"
    }
   ],
   "source": [
    "'' in s"
   ]
  },
  {
   "cell_type": "code",
   "execution_count": 23,
   "id": "43c049d576988a8f",
   "metadata": {
    "ExecuteTime": {
     "end_time": "2025-09-26T09:02:08.310527Z",
     "start_time": "2025-09-26T09:02:08.307455Z"
    }
   },
   "outputs": [
    {
     "data": {
      "text/plain": [
       "False"
      ]
     },
     "execution_count": 23,
     "metadata": {},
     "output_type": "execute_result"
    }
   ],
   "source": [
    "'John' in s"
   ]
  },
  {
   "cell_type": "markdown",
   "id": "bc24ab8905d1d6af",
   "metadata": {},
   "source": [
    "А оператор `not` in повертає `True` якщо один рядок не входить в інший:"
   ]
  },
  {
   "cell_type": "code",
   "execution_count": 24,
   "id": "6d673a214af77732",
   "metadata": {
    "ExecuteTime": {
     "end_time": "2025-09-26T09:02:43.329605Z",
     "start_time": "2025-09-26T09:02:43.326073Z"
    }
   },
   "outputs": [
    {
     "data": {
      "text/plain": [
       "True"
      ]
     },
     "execution_count": 24,
     "metadata": {},
     "output_type": "execute_result"
    }
   ],
   "source": [
    "'John' not in \"Hello Jane\""
   ]
  },
  {
   "cell_type": "markdown",
   "id": "4deed0ded0affda1",
   "metadata": {},
   "source": [
    "Зауважте: `not in` — це один оператор."
   ]
  },
  {
   "cell_type": "markdown",
   "id": "c59594221637015",
   "metadata": {},
   "source": [
    "## Інструкція if\n",
    "Хід виконання програми може бути лінійним, тобто таким, коли вирази виконуються, починаючи з першого і закінчуючи останнім рядком, по порядку, не пропускаючи жодного рядка коду. Але частіше буває зовсім не так. При виконанні програмного коду деякі його ділянки можуть бути пропущені.\n",
    "\n",
    "Щоб краще зрозуміти чому, проведемо аналогію з реальним життям. Припустимо, людина живе за розкладом (можна сказати, розклад - це своєрідний \"програмний код\", який слід виконати). У її розкладі о 19:00 запланований онлайн-заняття з програмування на Python. Але такі заняття відбуваються не кожного дня, а тільки щочетверга. Отже однією з умов участі людини в занятті о 19 годині є те, що сьогодні четвер, інакше в цей час доцільно виконувати інші дії.\n",
    "\n",
    "### if\n",
    "Схожа нелінійність дій може бути передбачена і в комп'ютерній програмі. Наприклад, частина коду повинна виконуватися лише при певному значенні конкретної змінної.\n",
    "\n",
    "В Python для цього існує інструкція `if`.\n",
    "\n",
    "Записується вона так:\n",
    "\n",
    "```python\n",
    "if condition:\n",
    "    block_of_code\n",
    "```\n",
    "Перший рядок — це заголовок інструкції. Він у свою чергу записується так:\n",
    "\n",
    "- ключове слово if\n",
    "- логічний вираз (у прикладі вище він позначений як `condition`)\n",
    "- символ двокрапки\n",
    "-\n",
    "З наступного після заголовка рядка йде блок коду (вище позначено як `block_of_code`). Блок коду — це одна або більше інструкцій записаних з відступом праворуч. Відступ означає те, що у кожен рядок програми з інструкцією на початку ми додаємо декілька символів пробіл. Кількість пробілів має бути однаковою. Рекомендується використовувати чотирма пробіли. Деколи у якості відступа вказуються символ табуляції, хоча такий спосіб зазвичай не є бажаним.\n",
    "\n",
    "Усі інструкії записані з відступом і є блок кода. Коли чергова інструкція буде записана без відступа, то говорять, що блок кода закінчився, а ця інструкція знаходиться на тому ж рівні, що і заголовок інструкції `if`.\n",
    "\n",
    "Тепер як це працює. Якщо логічний вираз після ключового слова if дає значення `True`, тоді і лише тоді виконуються усі інструкції розташовані у блоці кода.\n",
    "\n",
    "Розглянемо приклад:"
   ]
  },
  {
   "cell_type": "code",
   "execution_count": 25,
   "id": "993204ff6c6c9878",
   "metadata": {
    "ExecuteTime": {
     "end_time": "2025-09-26T09:07:53.725942Z",
     "start_time": "2025-09-26T09:07:53.721793Z"
    }
   },
   "outputs": [
    {
     "name": "stdout",
     "output_type": "stream",
     "text": [
      "change = 5\n"
     ]
    }
   ],
   "source": [
    "cash = 100\n",
    "total = 95\n",
    "if cash >= total:\n",
    "    change = cash - total\n",
    "    print(f\"{change = }\")"
   ]
  },
  {
   "cell_type": "markdown",
   "id": "ff22d900993163b2",
   "metadata": {},
   "source": [
    "Якщо вираз\n",
    "\n",
    "\n",
    "    cash >= total\n",
    "поверне `True`, або іншими словами якщо виконається вказана умова, тоді буде виконано блок коду. У наведеному прикладі блок коду складається з одної інструкції:\n",
    "\n",
    "\n",
    "    change = cash - total\n",
    "Вищенаведений код можна прочитати так:\n",
    "\n",
    "    Якщо cash більше або дорівнює total, то change слід присвоїти різницю між cash і total.\n",
    "\n",
    "Приклад з декільками рядками коду які будуть виконуватись при певній умові:"
   ]
  },
  {
   "cell_type": "code",
   "execution_count": 26,
   "id": "1437e060a21ada4e",
   "metadata": {
    "ExecuteTime": {
     "end_time": "2025-09-26T09:08:59.595708Z",
     "start_time": "2025-09-26T09:08:59.592220Z"
    }
   },
   "outputs": [
    {
     "name": "stdout",
     "output_type": "stream",
     "text": [
      "Дякуємо за покупку\n",
      "Решта: 5\n",
      "До побачення\n"
     ]
    }
   ],
   "source": [
    "if cash >= total:\n",
    "    print('Дякуємо за покупку')\n",
    "    change = cash - total\n",
    "    print('Решта:', change)\n",
    "print('До побачення')"
   ]
  },
  {
   "cell_type": "markdown",
   "id": "721affdf625a50b9",
   "metadata": {},
   "source": [
    "У вищенаведеному коді при виконанні умови виконається три інструкції. Але остання інструкція `print('До побачення')` виконається у будь-якому випадку тому що вона вже не входить в блок коду, який стосується інструкції `if`.\n",
    "\n",
    "Розгалуження можуть бути вкладеними:"
   ]
  },
  {
   "cell_type": "code",
   "execution_count": 27,
   "id": "1c578b61bbbba0f0",
   "metadata": {
    "ExecuteTime": {
     "end_time": "2025-09-26T09:09:56.045262Z",
     "start_time": "2025-09-26T09:09:56.042477Z"
    }
   },
   "outputs": [
    {
     "name": "stdout",
     "output_type": "stream",
     "text": [
      "Дякуємо за покупку\n",
      "Решта: 5\n",
      "До побачення\n"
     ]
    }
   ],
   "source": [
    "if cash >= total:\n",
    "    print('Дякуємо за покупку')\n",
    "    if cash != total:\n",
    "        change = cash - total\n",
    "        print('Решта:', change)\n",
    "print('До побачення')"
   ]
  },
  {
   "cell_type": "markdown",
   "id": "32a50eb2e64ba8f5",
   "metadata": {},
   "source": [
    "Зауважте: блок коду має містити хоча б одну інструкцію."
   ]
  },
  {
   "cell_type": "code",
   "execution_count": 28,
   "id": "633c94767fe23be4",
   "metadata": {
    "ExecuteTime": {
     "end_time": "2025-09-26T09:10:19.836460Z",
     "start_time": "2025-09-26T09:10:19.832112Z"
    }
   },
   "outputs": [
    {
     "ename": "IndentationError",
     "evalue": "expected an indented block after 'if' statement on line 1 (3003094358.py, line 5)",
     "output_type": "error",
     "traceback": [
      "  \u001b[36mCell\u001b[39m\u001b[36m \u001b[39m\u001b[32mIn[28]\u001b[39m\u001b[32m, line 5\u001b[39m\n\u001b[31m    \u001b[39m\u001b[31mprint('До побачення')\u001b[39m\n    ^\n\u001b[31mIndentationError\u001b[39m\u001b[31m:\u001b[39m expected an indented block after 'if' statement on line 1\n"
     ]
    }
   ],
   "source": [
    "if cash >= total:\n",
    "    # print('Дякуємо за покупку')\n",
    "    # change = cash - total\n",
    "    # print('Решта:', change)\n",
    "print('До побачення')"
   ]
  },
  {
   "cell_type": "markdown",
   "id": "cf331de4d7d2c5fe",
   "metadata": {},
   "source": [
    "У наведеному вище прикладі блок кода не містить жодної інструкції. Якщо виконати такий код, отримаємо:\n",
    "```python\n",
    "Cell In[28], line 5\n",
    "    print('До побачення')\n",
    "    ^\n",
    "IndentationError: expected an indented block after 'if' statement on line 1\n",
    "```"
   ]
  },
  {
   "cell_type": "markdown",
   "id": "f839a5430a653a66",
   "metadata": {},
   "source": [
    "Помилку можна прочитати так:\n",
    "\n",
    "    Помилка відступа: очікувався блок з відступом.\n",
    "\n",
    "У випадках, коли треба вказати, що у блоці кода нічого не потрібно виконувати, використовують інструкцію `pass`."
   ]
  },
  {
   "cell_type": "code",
   "execution_count": 29,
   "id": "e191dee333eafe1c",
   "metadata": {
    "ExecuteTime": {
     "end_time": "2025-09-26T09:12:19.138356Z",
     "start_time": "2025-09-26T09:12:19.135650Z"
    }
   },
   "outputs": [
    {
     "name": "stdout",
     "output_type": "stream",
     "text": [
      "До побачення\n"
     ]
    }
   ],
   "source": [
    "if cash >= total:\n",
    "    pass\n",
    "    # print('Дякуємо за покупку')\n",
    "    # change = cash - total\n",
    "    # print('Решта:', change)\n",
    "print('До побачення')"
   ]
  },
  {
   "cell_type": "markdown",
   "id": "d117f9b0a82ea7b1",
   "metadata": {},
   "source": [
    "## else\n",
    "\n",
    "Існує більш складна форма розгалуження: `if-else`. Якщо умова при інструкції `if` виявляється хибною, то виконується блок коду при інструкції `else`."
   ]
  },
  {
   "cell_type": "code",
   "execution_count": 30,
   "id": "b7ef6260022649cb",
   "metadata": {
    "ExecuteTime": {
     "end_time": "2025-09-26T09:13:45.646901Z",
     "start_time": "2025-09-26T09:13:45.644032Z"
    }
   },
   "outputs": [
    {
     "name": "stdout",
     "output_type": "stream",
     "text": [
      "Дякуємо за покупку\n",
      "Решта: 5\n",
      "До побачення\n"
     ]
    }
   ],
   "source": [
    "if cash >= total:\n",
    "    print('Дякуємо за покупку')\n",
    "    if cash != total:\n",
    "        change = cash - total\n",
    "        print('Решта:', change)\n",
    "else:\n",
    "    print('Не вистачає коштів')\n",
    "print('До побачення')"
   ]
  },
  {
   "cell_type": "markdown",
   "id": "eea27df78db62996",
   "metadata": {},
   "source": [
    "Інструкція `else` завжди відноситься до тої інструкції `if`, яка має такий самий рівень відступу у початковому коді."
   ]
  },
  {
   "cell_type": "code",
   "execution_count": 31,
   "id": "f6eb604a45e71be3",
   "metadata": {
    "ExecuteTime": {
     "end_time": "2025-09-26T09:14:29.539539Z",
     "start_time": "2025-09-26T09:14:29.536703Z"
    }
   },
   "outputs": [
    {
     "name": "stdout",
     "output_type": "stream",
     "text": [
      "Дякуємо за покупку\n",
      "Решта: 5\n",
      "До побачення\n"
     ]
    }
   ],
   "source": [
    "if cash >= total:\n",
    "    print('Дякуємо за покупку')\n",
    "    if cash != total:\n",
    "        change = cash - total\n",
    "        print('Решта:', change)\n",
    "    else:\n",
    "        print('Без решти')\n",
    "else:\n",
    "    print('Не вистачає коштів')\n",
    "print('До побачення')"
   ]
  },
  {
   "cell_type": "markdown",
   "id": "8ae5ba8594a6cdd3",
   "metadata": {},
   "source": [
    "## elif\n",
    "Логіка виконуваної програми може бути складніша, ніж вибір однієї з двох гілок. Наприклад, залежно від значення тієї чи іншої змінної, може виконуватися одна з трьох (або більше) гілок програми.\n",
    "\n",
    "Як організувати таке множинне розгалуження? Напевно, можна використовувати декілька інструкцій `if`: спочатку перевіряється умовний вираз у першій інструкції `if` (якщо він `True`, то буде виконуватися вкладений в неї блок коду), потім у другій інструкції `if` і т.д."
   ]
  },
  {
   "cell_type": "code",
   "execution_count": 32,
   "id": "dc2ea0d25d2448e0",
   "metadata": {
    "ExecuteTime": {
     "end_time": "2025-09-26T09:15:53.767106Z",
     "start_time": "2025-09-26T09:15:53.764426Z"
    }
   },
   "outputs": [
    {
     "name": "stdout",
     "output_type": "stream",
     "text": [
      "-1\n"
     ]
    }
   ],
   "source": [
    "x = - 5\n",
    "if x > 0:\n",
    "    print(1)\n",
    "if x < 0:\n",
    "    print(-1)\n",
    "if x == 0:\n",
    "    print(0)"
   ]
  },
  {
   "cell_type": "markdown",
   "id": "e6d9730a573c44c3",
   "metadata": {},
   "source": [
    "Однак при такому підході перевірка наступних інструкцій буде продовжуватися навіть тоді, коли перша умова була `True`, і блок коду при даній гілці був виконаний. Перевірка наступних умов може виявитися безглуздою.\n",
    "\n",
    "Можна побудувати логіку вибору за допомогою вкладених `if`:"
   ]
  },
  {
   "cell_type": "code",
   "execution_count": 33,
   "id": "ea2ba358713ed7ed",
   "metadata": {
    "ExecuteTime": {
     "end_time": "2025-09-26T09:16:32.331746Z",
     "start_time": "2025-09-26T09:16:32.329173Z"
    }
   },
   "outputs": [
    {
     "name": "stdout",
     "output_type": "stream",
     "text": [
      "-1\n"
     ]
    }
   ],
   "source": [
    "if x > 0:\n",
    "    print(1)\n",
    "else:\n",
    "    if x < 0:\n",
    "        print(-1)\n",
    "    else:\n",
    "        print(0)"
   ]
  },
  {
   "cell_type": "markdown",
   "id": "e2b7ffa52618fa6f",
   "metadata": {
    "ExecuteTime": {
     "end_time": "2025-09-26T09:17:28.167115Z",
     "start_time": "2025-09-26T09:17:28.161885Z"
    }
   },
   "source": [
    "Але такий код читається і сприймається вже складніше. А тут лише один рівень вкладеності `if`. А якщо варіантів вибору буде, припустимо, 5, наскільки легко буде сприймати такий код? Здається, що не дуже... Перший варіант був сприймався набагато краще, хоча виявився неефективним.\n",
    "\n",
    "В Python передбачено спеціальне розширення інструкції `if`, що дозволяє направити потік виконання програми з одній гілок. Дана розширена інструкція, крім необов'язкової частини `else`, містить ряд гілок `elif` (скорочення від `else if` - \"інакше якщо\"). Частин `elif` може бути як завгодно багато (в межах розумного, звичайно).\n",
    "\n",
    "Приклад:"
   ]
  },
  {
   "cell_type": "code",
   "execution_count": 34,
   "id": "853fab684d9e0c7",
   "metadata": {
    "ExecuteTime": {
     "end_time": "2025-09-26T09:17:47.953777Z",
     "start_time": "2025-09-26T09:17:47.950850Z"
    }
   },
   "outputs": [
    {
     "name": "stdout",
     "output_type": "stream",
     "text": [
      "-1\n"
     ]
    }
   ],
   "source": [
    "if x > 0:\n",
    "    print(1)\n",
    "elif x < 0:\n",
    "    print(-1)\n",
    "else:\n",
    "    print(0)"
   ]
  },
  {
   "cell_type": "markdown",
   "id": "3d6c162d22474f1",
   "metadata": {},
   "source": [
    "Зауважте: інструкція `else` може бути відсутня."
   ]
  },
  {
   "cell_type": "markdown",
   "id": "74280a5fada1af",
   "metadata": {},
   "source": [
    "## Тернарний вираз if-else\n",
    "Доволі часто зустрічається конструкція наступного вигляду:\n",
    "\n",
    "\n",
    "    if condition:\n",
    "        result = expression1\n",
    "    else:\n",
    "        result = expression2\n",
    "Сама по собі конструкція доволі проста, але займає аж 4 рядки коду. Спеціально для таких випадків в Python є конструкція з більш коротким записом:\n",
    "\n",
    "\n",
    "    result = expression1 if condition else expression2\n",
    "Тобто якщо виконується умова `condition`, то a присвоїти значення виразу `X`, інакше a присвоїти значення виразу `Y`.\n",
    "\n",
    "Приклад:"
   ]
  },
  {
   "cell_type": "code",
   "execution_count": 35,
   "id": "503c9b8602b783ad",
   "metadata": {},
   "outputs": [],
   "source": [
    "answer = 121\n",
    "right_answer = 122"
   ]
  },
  {
   "cell_type": "code",
   "execution_count": 36,
   "id": "2326435f9009d8ff",
   "metadata": {},
   "outputs": [
    {
     "name": "stdout",
     "output_type": "stream",
     "text": [
      "result = 'Not good'\n"
     ]
    }
   ],
   "source": [
    "result = 'Good' if answer == right_answer else 'Not good'\n",
    "print(f\"{result = }\")"
   ]
  },
  {
   "cell_type": "markdown",
   "id": "9f84d4d858a04744",
   "metadata": {},
   "source": [
    "Цей код еквівалентний наступному:"
   ]
  },
  {
   "cell_type": "code",
   "execution_count": 37,
   "id": "e9d36bcf71cd1f97",
   "metadata": {
    "ExecuteTime": {
     "end_time": "2025-09-26T09:20:28.110709Z",
     "start_time": "2025-09-26T09:20:28.107771Z"
    }
   },
   "outputs": [
    {
     "name": "stdout",
     "output_type": "stream",
     "text": [
      "result = 'Not good'\n"
     ]
    }
   ],
   "source": [
    "if answer == right_answer:\n",
    "    result = 'Good'\n",
    "else:\n",
    "    result = 'Not good'\n",
    "print(f\"{result = }\")"
   ]
  },
  {
   "cell_type": "markdown",
   "id": "fa1955ac452d20b8",
   "metadata": {},
   "source": [
    "## Оператор match-case\n",
    "**Теоретична частина**\n",
    "Оператор `match-case` з'явився в Python 3.10 і є альтернативою для множинних `if-elif` конструкцій. Він особливо корисний, коли потрібно порівняти одну змінну з багатьма можливими значеннями.\n",
    "\n",
    "```python\n",
    "match змінна:\n",
    "    case значення1:\n",
    "        # код для значення1\n",
    "    case значення2:\n",
    "        # код для значення2\n",
    "    case _:\n",
    "        # код за замовчуванням\n",
    "```\n",
    "`case _` - це `wildcard`, який спрацьовує для всіх інших випадків (аналог `else`)."
   ]
  },
  {
   "cell_type": "markdown",
   "id": "92e42a74-ccc6-47dd-abfa-2fb75f01c83a",
   "metadata": {},
   "source": [
    "### Приклади для розуміння\n",
    "**Приклад 1: Дні тижня**"
   ]
  },
  {
   "cell_type": "code",
   "execution_count": 38,
   "id": "32209e27-5c5b-4a23-ae21-9c4015b06d0f",
   "metadata": {},
   "outputs": [
    {
     "name": "stdin",
     "output_type": "stream",
     "text": [
      "Введіть номер дня тижня (1-7):  5\n"
     ]
    },
    {
     "name": "stdout",
     "output_type": "stream",
     "text": [
      "П'ятниця - останній робочий день!\n"
     ]
    }
   ],
   "source": [
    "# Визначення дня тижня\n",
    "day = int(input(\"Введіть номер дня тижня (1-7): \"))\n",
    "\n",
    "match day:\n",
    "    case 1:\n",
    "        print(\"Понеділок - початок робочого тижня\")\n",
    "    case 2:\n",
    "        print(\"Вівторок\")\n",
    "    case 3:\n",
    "        print(\"Середа\")\n",
    "    case 4:\n",
    "        print(\"Четвер\")\n",
    "    case 5:\n",
    "        print(\"П'ятниця - останній робочий день!\")\n",
    "    case 6:\n",
    "        print(\"Субота - вихідний!\")\n",
    "    case 7:\n",
    "        print(\"Неділя - вихідний!\")\n",
    "    case _:\n",
    "        print(\"Некоректний номер дня\")"
   ]
  },
  {
   "cell_type": "code",
   "execution_count": 39,
   "id": "c091f8a1-da73-40e2-ac16-fcb7fd43e679",
   "metadata": {},
   "outputs": [
    {
     "name": "stdin",
     "output_type": "stream",
     "text": [
      "Введіть номер дня тижня (1-7):  5\n"
     ]
    },
    {
     "name": "stdout",
     "output_type": "stream",
     "text": [
      "Робочій день\n"
     ]
    }
   ],
   "source": [
    "# Визначення дня тижня\n",
    "day = int(input(\"Введіть номер дня тижня (1-7): \"))\n",
    "\n",
    "match day:\n",
    "    case 1|2|3|4|5:\n",
    "        print(\"Робочій день\")\n",
    "    case 6|7:\n",
    "        print(\"Вихідний день\")\n",
    "    case _:\n",
    "        print(\"Некоректний номер дня\")"
   ]
  },
  {
   "cell_type": "markdown",
   "id": "803044c7-ca25-4ddb-9553-491b717b4e43",
   "metadata": {},
   "source": [
    "**Приклад 2: Калькулятор**"
   ]
  },
  {
   "cell_type": "code",
   "execution_count": 40,
   "id": "f2ada0b5-d922-4249-b31e-a63b8668e6c7",
   "metadata": {},
   "outputs": [
    {
     "name": "stdin",
     "output_type": "stream",
     "text": [
      "Введіть перше число:  1\n",
      "Введіть друге число:  2\n",
      "Введіть операцію (+, -, *, /):  +\n"
     ]
    },
    {
     "name": "stdout",
     "output_type": "stream",
     "text": [
      "Результат: 1.0 + 2.0 = 3.0\n"
     ]
    }
   ],
   "source": [
    "# Простий калькулятор\n",
    "num1 = float(input(\"Введіть перше число: \"))\n",
    "num2 = float(input(\"Введіть друге число: \"))\n",
    "operation = input(\"Введіть операцію (+, -, *, /): \")\n",
    "\n",
    "match operation:\n",
    "    case \"+\":\n",
    "        result = num1 + num2\n",
    "        print(f\"Результат: {num1} + {num2} = {result}\")\n",
    "    case \"-\":\n",
    "        result = num1 - num2\n",
    "        print(f\"Результат: {num1} - {num2} = {result}\")\n",
    "    case \"*\":\n",
    "        result = num1 * num2\n",
    "        print(f\"Результат: {num1} * {num2} = {result}\")\n",
    "    case \"/\":\n",
    "        if num2 != 0:\n",
    "            result = num1 / num2\n",
    "            print(f\"Результат: {num1} / {num2} = {result}\")\n",
    "        else:\n",
    "            print(\"Помилка: ділення на нуль!\")\n",
    "    case _:\n",
    "        print(\"Невідома операція!\")"
   ]
  },
  {
   "cell_type": "markdown",
   "id": "e4feb743-56bd-4cd3-bd9f-04dbe4c1958d",
   "metadata": {},
   "source": [
    "**Приклад 3: Меню ресторану**"
   ]
  },
  {
   "cell_type": "code",
   "execution_count": 41,
   "id": "71b5f6cf-babf-4301-b23f-44fa8b3f4757",
   "metadata": {},
   "outputs": [
    {
     "name": "stdout",
     "output_type": "stream",
     "text": [
      "=== Меню ресторану ===\n",
      "1. Піца - 150 грн\n",
      "2. Бургер - 120 грн\n",
      "3. Салат - 80 грн\n",
      "4. Суп - 60 грн\n"
     ]
    },
    {
     "name": "stdin",
     "output_type": "stream",
     "text": [
      "Оберіть страву (1-4):  1\n"
     ]
    },
    {
     "name": "stdout",
     "output_type": "stream",
     "text": [
      "Ви обрали Піцу\n",
      "Ціна: 150 грн\n",
      "Час приготування: 15 хвилин\n"
     ]
    }
   ],
   "source": [
    "# Система замовлення в ресторані\n",
    "print(\"=== Меню ресторану ===\")\n",
    "print(\"1. Піца - 150 грн\")\n",
    "print(\"2. Бургер - 120 грн\") \n",
    "print(\"3. Салат - 80 грн\")\n",
    "print(\"4. Суп - 60 грн\")\n",
    "\n",
    "choice = int(input(\"Оберіть страву (1-4): \"))\n",
    "\n",
    "match choice:\n",
    "    case 1:\n",
    "        print(\"Ви обрали Піцу\")\n",
    "        print(\"Ціна: 150 грн\")\n",
    "        print(\"Час приготування: 15 хвилин\")\n",
    "    case 2:\n",
    "        print(\"Ви обрали Бургер\")\n",
    "        print(\"Ціна: 120 грн\")\n",
    "        print(\"Час приготування: 10 хвилин\")\n",
    "    case 3:\n",
    "        print(\"Ви обрали Салат\")\n",
    "        print(\"Ціна: 80 грн\")\n",
    "        print(\"Час приготування: 5 хвилин\")\n",
    "    case 4:\n",
    "        print(\"Ви обрали Суп\")\n",
    "        print(\"Ціна: 60 грн\")\n",
    "        print(\"Час приготування: 12 хвилин\")\n",
    "    case _:\n",
    "        print(\"Невірний вибір!\")"
   ]
  },
  {
   "cell_type": "markdown",
   "id": "bbf2028d-debb-4e90-982b-96b44dab1d9b",
   "metadata": {},
   "source": [
    "**Приклад 4: Множинні значення в одному case**"
   ]
  },
  {
   "cell_type": "code",
   "execution_count": 42,
   "id": "5ff802c3-1d53-4a3e-8acb-c091ef33eaf4",
   "metadata": {},
   "outputs": [
    {
     "name": "stdin",
     "output_type": "stream",
     "text": [
      "Введіть символ:  *\n"
     ]
    },
    {
     "name": "stdout",
     "output_type": "stream",
     "text": [
      "Це математичний оператор\n"
     ]
    }
   ],
   "source": [
    "# Визначення типу символу\n",
    "char = input(\"Введіть символ: \")\n",
    "\n",
    "match char:\n",
    "    case 'a' | 'e' | 'i' | 'o' | 'u':\n",
    "        print(\"Це голосна літера\")\n",
    "    case '0' | '1' | '2' | '3' | '4' | '5' | '6' | '7' | '8' | '9':\n",
    "        print(\"Це цифра\")\n",
    "    case '+' | '-' | '*' | '/':\n",
    "        print(\"Це математичний оператор\")\n",
    "    case _:\n",
    "        print(\"Це інший символ\")"
   ]
  },
  {
   "cell_type": "markdown",
   "id": "16a9bdea-55a4-4e6f-b75e-9beb545357b7",
   "metadata": {},
   "source": [
    "### Висновок по match-case\n",
    "Оператор `match-case` надає елегантний спосіб обробки множинних варіантів вибору. Основні переваги:\n",
    "\n",
    "- Читабельніший код порівняно з довгими `if-elif` конструкціями\n",
    "- Можливість обробки кількох значень в одному `case`\n",
    "- Автоматична перевірка на всі можливі випадки\n",
    "- `case _` як універсальний варіант за замовчування"
   ]
  },
  {
   "cell_type": "markdown",
   "id": "ccc227bda582083f",
   "metadata": {},
   "source": [
    "## Цикли у програмуванні\n",
    "\n",
    "    Цикл — це інструкції, що виконують одну і ту ж саму послідовність дій, поки діє задана умова.\n",
    "\n",
    "У реальному житті ми досить часто стикаємося з циклами. Наприклад, ходьба людини до цілі — цілком циклічне явище: крок лівою, крок правою, знову лівою-правою і т.д., поки не буде досягнута певна мета (наприклад, зупинка чи магазин).\n",
    "\n",
    "У комп'ютерних програмах поряд з інструкціями розгалуження (тобто вибором шляху дії) також існують інструкції циклів (повторення дії).\n",
    "\n",
    "Якби інструкцій циклу не існувало, довелося б багато разів вставляти в програму один і той же код підряд стільки разів, скільки потрібно виконати однакову послідовність дій.\n",
    "\n",
    "Послідовність дій, яка виконується циклічно, називається `проходом циклу` або `ітерація циклу`."
   ]
  },
  {
   "cell_type": "markdown",
   "id": "ee67474f37ef877a",
   "metadata": {},
   "source": [
    "##Інструкція `while`\n",
    "Універсальним організатором циклу в Python є інструкція `while`. Записується так:\n",
    "\n",
    "\n",
    "    while condition:\n",
    "        block_of_code\n",
    "Перший рядок — це заголовок інструкції. Складається з ключового слова `while` після якого іде булевий вираз `condition` і символ двокрапки.\n",
    "\n",
    "За заголовком інструкції `while` йде її тіло, `block_of_code`. Це блок коду, який буде виконуватись циклічно.\n",
    "\n",
    "Слово `while` з англійської мови перекладається як `доки`. А увесь цикл можна пояснити словами:\n",
    "\n",
    "    доки логічний вираз має значення True, доти будуть виконуватись певні інструкції\n",
    "\n",
    "Розглянемо приклад. Треба вивести цілі числа у діапазоні від 0 до 5 включно. Якби не існувало циклів, нам довелось би шість раз викликати функцію `print()`:"
   ]
  },
  {
   "cell_type": "code",
   "execution_count": 43,
   "id": "dc56ad00b483ff36",
   "metadata": {
    "ExecuteTime": {
     "end_time": "2025-09-26T09:23:59.242344Z",
     "start_time": "2025-09-26T09:23:59.239528Z"
    }
   },
   "outputs": [
    {
     "name": "stdout",
     "output_type": "stream",
     "text": [
      "0\n",
      "1\n",
      "2\n",
      "3\n",
      "4\n",
      "5\n"
     ]
    }
   ],
   "source": [
    "print(0)\n",
    "print(1)\n",
    "print(2)\n",
    "print(3)\n",
    "print(4)\n",
    "print(5)"
   ]
  },
  {
   "cell_type": "markdown",
   "id": "a41b3c94dec6ce09",
   "metadata": {},
   "source": [
    "Спробуємо вирішіти цю задачу за допомогою цикла:"
   ]
  },
  {
   "cell_type": "code",
   "execution_count": 44,
   "id": "b5ab6ab2340973cd",
   "metadata": {
    "ExecuteTime": {
     "end_time": "2025-09-26T09:24:19.176464Z",
     "start_time": "2025-09-26T09:24:19.173641Z"
    }
   },
   "outputs": [
    {
     "name": "stdout",
     "output_type": "stream",
     "text": [
      "0\n",
      "1\n",
      "2\n",
      "3\n",
      "4\n",
      "5\n",
      "Закінчено\n"
     ]
    }
   ],
   "source": [
    "number = 0\n",
    "while number <= 5:\n",
    "    print(number)\n",
    "    number = number + 1\n",
    "print(\"Закінчено\")"
   ]
  },
  {
   "cell_type": "markdown",
   "id": "a7253e08b42e966b",
   "metadata": {},
   "source": [
    "Як це працює:\n",
    "\n",
    "1. Коли інтерпретатор зустрічає `while`, він перевіряє умову, записану після цього ключового слова\n",
    "2. Якщо вираз повертає `True`, інтерпретатор виконує увесь блок кода\n",
    "3. У тілі цикла виконуються певні дії: вивід значення змінної і модифікація значення змінної\n",
    "4. Після того, як блок буде виконано, інтерпретатор повертається знову до інструкції `while`. Знову перевіряється умова\n",
    "5. Коли ж умовний вираз поверне `False`, почнуть виконуватись інструкції після тіла цикла, тобто `print(\"Закінчено\")`"
   ]
  },
  {
   "cell_type": "markdown",
   "id": "a19b057bc38580fa",
   "metadata": {},
   "source": [
    "Давайте розширимо задачу. Напишемо програму, яка буде виводити усі парні числа у певному діапазоні. Діапазон будемо задавати двома значеннями: початок і кінець. Числа будемо брати з діапазона включно початок, але не включно кінець."
   ]
  },
  {
   "cell_type": "code",
   "execution_count": 45,
   "id": "c9e74b4ec1c9b5ba",
   "metadata": {
    "ExecuteTime": {
     "end_time": "2025-09-26T09:27:22.942095Z",
     "start_time": "2025-09-26T09:27:22.938662Z"
    }
   },
   "outputs": [
    {
     "name": "stdout",
     "output_type": "stream",
     "text": [
      "0\n",
      "2\n",
      "4\n",
      "6\n",
      "8\n",
      "10\n",
      "12\n",
      "14\n"
     ]
    }
   ],
   "source": [
    "from_inclusive, to_exclusive = 0, 15\n",
    "number = from_inclusive\n",
    "while number < to_exclusive:\n",
    "    if number % 2 == 0:\n",
    "        print(number)\n",
    "    number = number + 1"
   ]
  },
  {
   "cell_type": "markdown",
   "id": "12baec2f4bf20095",
   "metadata": {},
   "source": [
    "З циклом `while` можливі дві виняткові ситуації:\n",
    "\n",
    "1. Якщо при першому заході в цикл логічний вираз поверне `False`, то тіло цикла не виконається жодного разу. Таку ситуацію можна вважати нормальною, адже при певних умовах логіка програми може передбачати відсутність необхідності у виконанні тіла цикла.\n",
    "2. Якщо логічний вираз у заголовку цикла ніколи не поверне `False`, то такий цикл може ніколи не завершитись, Кажуть що \"у програмі відбувається зациклювання\" або \"програма зависає\". Самостійно програма завершитись не може, її виконання можна тільки перервати примусово."
   ]
  },
  {
   "cell_type": "markdown",
   "id": "778200b0f9220a95",
   "metadata": {},
   "source": [
    "## Прийоми використання циклів\n",
    "Цикли використовують для багатьох класів задач. Розглянемо зараз деякі з них.\n",
    "\n",
    "### Агрегація даних\n",
    "Окремий клас задач, який не може обійтись без циклів, має назву \"агрегування даних\". До таких задач відносяться, наприклад, пошук максимального або мінімального значення серед певного набору даних, суми або середнього арифметичного набору чисел і таке інше. Їх головна особливість полягає у тому, що результат залежить від усього набору даних. Наприклад щоб обчислити суму необхідно скласти усі числа з набору, а щоб знайти максимальне потрібно порівняти усі числа.\n",
    "\n",
    "Розглянемо приклад: необхідно створити програму, яка буде знаходити суму чисел у вказаному діапазоні.\n",
    "\n",
    "Для реалізації такого кода нам знадобиться цикл, оскільки додавання чисел — це ітеративний процес, тобто він повторюється для кожного числа, а кількість ітерацій залежить від розміру діапазона."
   ]
  },
  {
   "cell_type": "code",
   "execution_count": 46,
   "id": "f3cded46f0033d20",
   "metadata": {
    "ExecuteTime": {
     "end_time": "2025-09-26T09:31:03.746472Z",
     "start_time": "2025-09-26T09:31:03.742687Z"
    }
   },
   "outputs": [
    {
     "name": "stdout",
     "output_type": "stream",
     "text": [
      "summa = 105\n"
     ]
    }
   ],
   "source": [
    "from_inclusive, to_exclusive = 0, 15\n",
    "summa = 0\n",
    "number = from_inclusive\n",
    "while number < to_exclusive:\n",
    "    summa += number\n",
    "    number += 1\n",
    "print(f\"{summa = }\")"
   ]
  },
  {
   "cell_type": "markdown",
   "id": "bcb95fb114550a3f",
   "metadata": {},
   "source": [
    "У задачах на агрегацію завжди є якась змінна, у якій зберігається результат роботи цикла. У нашому прикладі це змінна `summa`. При кожній ітерації цикла відбувається її модифікація: додавання чергового числа з діапазона.\n",
    "\n",
    "Змінній `summa` задається початкове значення, а саме 0. Будь-яка операція, що повторюється, починається з якогось значення. В математиці є таке понятие нейтральний елемент операції.\n",
    "Це означає, що операція з цим елементом не змінює те значення, над яким відбувається операція. При додаванні будь-якого числа і 0 отримаємо саме число, при відніманні — так само.\n",
    "\n",
    "У кожної операції свій нейтральний елемент. Спробуйте визначити який нейтральний елемент у операції множення.\n",
    "\n",
    "Агрегацію можна застосовувати не лише для чисел. Давайте реалізуємо свою власну мультиплікацію символьних рядків. Будемо використовувати конкатенацію, нейтральний елемент для останньої — пустий символьний рядок."
   ]
  },
  {
   "cell_type": "code",
   "execution_count": 47,
   "id": "93922d769cb9d9e6",
   "metadata": {
    "ExecuteTime": {
     "end_time": "2025-09-26T09:33:27.862827Z",
     "start_time": "2025-09-26T09:33:27.859455Z"
    }
   },
   "outputs": [
    {
     "name": "stdout",
     "output_type": "stream",
     "text": [
      "result = 'Hi!Hi!Hi!Hi!Hi!Hi!Hi!Hi!Hi!Hi!'\n"
     ]
    }
   ],
   "source": [
    "string, times = 'Hi!', 10\n",
    "result = ''\n",
    "while times > 0:\n",
    "    result += string\n",
    "    times -= 1\n",
    "print(f\"{result = }\")"
   ]
  },
  {
   "cell_type": "markdown",
   "id": "e4f95424d81ca0fa",
   "metadata": {},
   "source": [
    "### Обхід символьних рядків\n",
    "До окремого символа рядка можна дістатись знаючи його індекс. Для будь-якого символьного рядка індексом першого символа буде 0, а для останнього — довжина рядка мінус 1.\n",
    "\n",
    "Створимо функцію, яка виводить усі символи з рядка:"
   ]
  },
  {
   "cell_type": "code",
   "execution_count": 48,
   "id": "5638aa1fb7e8c235",
   "metadata": {
    "ExecuteTime": {
     "end_time": "2025-09-26T09:35:08.773769Z",
     "start_time": "2025-09-26T09:35:08.771301Z"
    }
   },
   "outputs": [
    {
     "name": "stdout",
     "output_type": "stream",
     "text": [
      "P\n",
      "y\n",
      "t\n",
      "h\n",
      "o\n",
      "n\n"
     ]
    }
   ],
   "source": [
    "string = 'Python'\n",
    "i = 0\n",
    "while i < len(string):\n",
    "    print(string[i])\n",
    "    i += 1"
   ]
  },
  {
   "cell_type": "markdown",
   "id": "b9d0968621dab4e1",
   "metadata": {},
   "source": [
    "При проході символьних рядків змінній, яка відповідає індексу, часто дають назву `i` від англійського `index`."
   ]
  },
  {
   "cell_type": "markdown",
   "id": "6b0d786a66e570ac",
   "metadata": {},
   "source": [
    "## Інструкція for\n",
    "Перебір послідовностей по елементах — доволі розповсюджена задача у програмуванні. І в Python для зручного перебору послідовностей існує ще один вид циклів: цикл `for`.\n",
    "\n",
    "Цикл for виглядає так:\n",
    "\n",
    "\n",
    "    for variable in sequence:\n",
    "        block_of_code\n",
    "Перший рядок — заголовок цикла:\n",
    "\n",
    "- `sequence` — послідовність, яку треба перебрати по елементах.\n",
    "- `variable` — змінна цикла.\n",
    "За заголовком інструкції `for` йде її тіло — блок коду `block_of_code`, який буде виконуватись при кожній ітерації.\n",
    "\n",
    "Як це працює. Змінній `variable` присвоюється перший елемент послідовності `sequence`. Виконується тіло цикла. Далі змінній `variable` присвоюється другий елемент послідовності `sequence`, знову виконується тіло цикла. І так до тих пір, доки у послідовності `sequence` не будуть \"пройдені\" усі елементи включно з останнім.\n",
    "\n",
    "Розглянемо простий приклад: треба вивести усі елементи певної послідовності, а саме рядка. У цій послідовності ми переберемо усі елементи, один за одним, і виведемо значення кожного елемента:"
   ]
  },
  {
   "cell_type": "code",
   "execution_count": 49,
   "id": "7a0424c2636f290f",
   "metadata": {
    "ExecuteTime": {
     "end_time": "2025-09-26T10:03:12.936886Z",
     "start_time": "2025-09-26T10:03:12.930194Z"
    }
   },
   "outputs": [
    {
     "name": "stdout",
     "output_type": "stream",
     "text": [
      "U\n",
      "k\n",
      "r\n",
      "a\n",
      "i\n",
      "n\n",
      "e\n"
     ]
    }
   ],
   "source": [
    "country = 'Ukraine'\n",
    "for char in country:  # при кожній ітерації в 'char' буде черговий елемент рядку 'country'\n",
    "    print(char)"
   ]
  },
  {
   "cell_type": "markdown",
   "id": "cd60ef4480888b91",
   "metadata": {},
   "source": [
    "Розглянемо ще приклад.\n",
    "Є набір цілих чисел. Треба знайти середнє арифметичне усіх від'ємних чисел з цього набору."
   ]
  },
  {
   "cell_type": "code",
   "execution_count": 50,
   "id": "6622b4399b994859",
   "metadata": {
    "ExecuteTime": {
     "end_time": "2025-09-26T10:06:17.493694Z",
     "start_time": "2025-09-26T10:06:17.489571Z"
    }
   },
   "outputs": [
    {
     "name": "stdout",
     "output_type": "stream",
     "text": [
      "average = -4.0\n"
     ]
    }
   ],
   "source": [
    "numbers = 1, -2, 3, -4, 5, -6, 7\n",
    "summa = 0\n",
    "counter = 0\n",
    "for number in numbers:\n",
    "    if number < 0:\n",
    "        summa += number\n",
    "        counter += 1\n",
    "average = summa / counter\n",
    "print(f\"{average = }\")"
   ]
  },
  {
   "cell_type": "markdown",
   "id": "fdc8f7181d7fd5bd",
   "metadata": {},
   "source": [
    "## Тип даних range\n",
    "Робота з послідовностями цілих чисел — доволі розповсюджена задача. В Python для цього є спеціальний тип даних: `range`.\n",
    "\n",
    "З англійської `range` перекладається як `діапазон`. Власне `range` і являє собою послідовність цілих чисел у певному діапазоні.\n",
    "\n",
    "Створити діапазон можна за допомогою функції `range()`. Першим параметром цієї функції є початкове значення діапазону чисел, це число буде включено у послідовність цілих чисел. Другий параметр — кінцеве значення діапазону, це число не буде включене у послідовність.\n",
    "\n",
    "Створимо послідовність чисел 1, 2, ... 5:"
   ]
  },
  {
   "cell_type": "code",
   "execution_count": 51,
   "id": "f29306111bcf687",
   "metadata": {
    "ExecuteTime": {
     "end_time": "2025-09-26T10:07:44.636841Z",
     "start_time": "2025-09-26T10:07:44.634466Z"
    }
   },
   "outputs": [],
   "source": [
    "r = range(1, 6)"
   ]
  },
  {
   "cell_type": "code",
   "execution_count": 52,
   "id": "65beb944ea57b23",
   "metadata": {
    "ExecuteTime": {
     "end_time": "2025-09-26T10:07:46.167137Z",
     "start_time": "2025-09-26T10:07:46.161478Z"
    }
   },
   "outputs": [
    {
     "data": {
      "text/plain": [
       "range(1, 6)"
      ]
     },
     "execution_count": 52,
     "metadata": {},
     "output_type": "execute_result"
    }
   ],
   "source": [
    "r"
   ]
  },
  {
   "cell_type": "code",
   "execution_count": 53,
   "id": "5a4f6b526b688f69",
   "metadata": {
    "ExecuteTime": {
     "end_time": "2025-09-26T10:08:13.152706Z",
     "start_time": "2025-09-26T10:08:13.150187Z"
    }
   },
   "outputs": [
    {
     "name": "stdout",
     "output_type": "stream",
     "text": [
      "<class 'range'>\n"
     ]
    }
   ],
   "source": [
    "print(type(r))"
   ]
  },
  {
   "cell_type": "markdown",
   "id": "b3cc9c3a8ad9d321",
   "metadata": {},
   "source": [
    "Якщо діапазон починається з 0, то при його створенні можна вказати лише кінцеве значення:"
   ]
  },
  {
   "cell_type": "code",
   "execution_count": 54,
   "id": "5729f0e9b2a14348",
   "metadata": {
    "ExecuteTime": {
     "end_time": "2025-09-26T10:08:49.443449Z",
     "start_time": "2025-09-26T10:08:49.441312Z"
    }
   },
   "outputs": [],
   "source": [
    "r = range(5)"
   ]
  },
  {
   "cell_type": "code",
   "execution_count": 55,
   "id": "97c8cb8070461c22",
   "metadata": {
    "ExecuteTime": {
     "end_time": "2025-09-26T10:08:51.948108Z",
     "start_time": "2025-09-26T10:08:51.945074Z"
    }
   },
   "outputs": [
    {
     "data": {
      "text/plain": [
       "range(0, 5)"
      ]
     },
     "execution_count": 55,
     "metadata": {},
     "output_type": "execute_result"
    }
   ],
   "source": [
    "r"
   ]
  },
  {
   "cell_type": "markdown",
   "id": "de806c79dc5fea4e",
   "metadata": {},
   "source": [
    "Більш того — ще можна вказати крок послідовності:"
   ]
  },
  {
   "cell_type": "code",
   "execution_count": 56,
   "id": "17ace86ce3029189",
   "metadata": {
    "ExecuteTime": {
     "end_time": "2025-09-26T10:09:23.229071Z",
     "start_time": "2025-09-26T10:09:23.227063Z"
    }
   },
   "outputs": [],
   "source": [
    "r = range(1, 10, 2)"
   ]
  },
  {
   "cell_type": "code",
   "execution_count": 57,
   "id": "67fefa7265e22f7c",
   "metadata": {
    "ExecuteTime": {
     "end_time": "2025-09-26T10:09:24.701576Z",
     "start_time": "2025-09-26T10:09:24.698417Z"
    }
   },
   "outputs": [
    {
     "data": {
      "text/plain": [
       "range(1, 10, 2)"
      ]
     },
     "execution_count": 57,
     "metadata": {},
     "output_type": "execute_result"
    }
   ],
   "source": [
    "r"
   ]
  },
  {
   "cell_type": "markdown",
   "id": "944a0481af717ae3",
   "metadata": {},
   "source": [
    "У послідовності має бути довжина. Перевіримо:"
   ]
  },
  {
   "cell_type": "code",
   "execution_count": 58,
   "id": "6fac7639348e5661",
   "metadata": {
    "ExecuteTime": {
     "end_time": "2025-09-26T10:09:54.079672Z",
     "start_time": "2025-09-26T10:09:54.076949Z"
    }
   },
   "outputs": [
    {
     "data": {
      "text/plain": [
       "5"
      ]
     },
     "execution_count": 58,
     "metadata": {},
     "output_type": "execute_result"
    }
   ],
   "source": [
    "len(r)"
   ]
  },
  {
   "cell_type": "markdown",
   "id": "a99398eaa8518886",
   "metadata": {},
   "source": [
    "Доступ до елементів послідовності по індексам:"
   ]
  },
  {
   "cell_type": "code",
   "execution_count": 59,
   "id": "c0aa96840c8e613a",
   "metadata": {
    "ExecuteTime": {
     "end_time": "2025-09-26T10:10:14.003670Z",
     "start_time": "2025-09-26T10:10:14.000411Z"
    }
   },
   "outputs": [
    {
     "data": {
      "text/plain": [
       "1"
      ]
     },
     "execution_count": 59,
     "metadata": {},
     "output_type": "execute_result"
    }
   ],
   "source": [
    "r[0]"
   ]
  },
  {
   "cell_type": "code",
   "execution_count": 60,
   "id": "6c2076816c9c3729",
   "metadata": {
    "ExecuteTime": {
     "end_time": "2025-09-26T10:10:25.380764Z",
     "start_time": "2025-09-26T10:10:25.377854Z"
    }
   },
   "outputs": [
    {
     "data": {
      "text/plain": [
       "3"
      ]
     },
     "execution_count": 60,
     "metadata": {},
     "output_type": "execute_result"
    }
   ],
   "source": [
    "r[1]"
   ]
  },
  {
   "cell_type": "code",
   "execution_count": 61,
   "id": "e8012d83cd8426f0",
   "metadata": {
    "ExecuteTime": {
     "end_time": "2025-09-26T10:10:34.294180Z",
     "start_time": "2025-09-26T10:10:34.291275Z"
    }
   },
   "outputs": [
    {
     "data": {
      "text/plain": [
       "9"
      ]
     },
     "execution_count": 61,
     "metadata": {},
     "output_type": "execute_result"
    }
   ],
   "source": [
    "r[-1]"
   ]
  },
  {
   "cell_type": "markdown",
   "id": "f273f060132a85af",
   "metadata": {},
   "source": [
    "`range` — послідовність немутабельна:"
   ]
  },
  {
   "cell_type": "code",
   "execution_count": 62,
   "id": "29b73b054635e9ca",
   "metadata": {
    "ExecuteTime": {
     "end_time": "2025-09-26T10:11:01.877687Z",
     "start_time": "2025-09-26T10:11:01.633505Z"
    }
   },
   "outputs": [
    {
     "ename": "TypeError",
     "evalue": "'range' object does not support item assignment",
     "output_type": "error",
     "traceback": [
      "\u001b[31m---------------------------------------------------------------------------\u001b[39m",
      "\u001b[31mTypeError\u001b[39m                                 Traceback (most recent call last)",
      "\u001b[36mCell\u001b[39m\u001b[36m \u001b[39m\u001b[32mIn[62]\u001b[39m\u001b[32m, line 1\u001b[39m\n\u001b[32m----> \u001b[39m\u001b[32m1\u001b[39m \u001b[43mr\u001b[49m\u001b[43m[\u001b[49m\u001b[32;43m0\u001b[39;49m\u001b[43m]\u001b[49m = \u001b[32m7\u001b[39m\n",
      "\u001b[31mTypeError\u001b[39m: 'range' object does not support item assignment"
     ]
    }
   ],
   "source": [
    "r[0] = 7"
   ]
  },
  {
   "cell_type": "markdown",
   "id": "bf6e25ef7f91cca2",
   "metadata": {},
   "source": [
    "Перевірити чи входить число у діапазон:"
   ]
  },
  {
   "cell_type": "code",
   "execution_count": 63,
   "id": "799ff94598b90b54",
   "metadata": {
    "ExecuteTime": {
     "end_time": "2025-09-26T10:11:33.687562Z",
     "start_time": "2025-09-26T10:11:33.684633Z"
    }
   },
   "outputs": [
    {
     "data": {
      "text/plain": [
       "True"
      ]
     },
     "execution_count": 63,
     "metadata": {},
     "output_type": "execute_result"
    }
   ],
   "source": [
    "0 in range(100)"
   ]
  },
  {
   "cell_type": "code",
   "execution_count": 64,
   "id": "cbf86069f755194",
   "metadata": {
    "ExecuteTime": {
     "end_time": "2025-09-26T10:11:45.063604Z",
     "start_time": "2025-09-26T10:11:45.060134Z"
    }
   },
   "outputs": [
    {
     "data": {
      "text/plain": [
       "False"
      ]
     },
     "execution_count": 64,
     "metadata": {},
     "output_type": "execute_result"
    }
   ],
   "source": [
    "100 in range(100)"
   ]
  },
  {
   "cell_type": "code",
   "execution_count": null,
   "id": "a5d2a34226faf608",
   "metadata": {
    "ExecuteTime": {
     "end_time": "2025-09-26T10:11:53.800654Z",
     "start_time": "2025-09-26T10:11:53.797703Z"
    }
   },
   "outputs": [],
   "source": [
    "3 in range(0, 100, 3)"
   ]
  },
  {
   "cell_type": "markdown",
   "id": "8321f34d22924dc5",
   "metadata": {},
   "source": [
    "Ну і перебрати у циклі `for` таку послідовність теж можна:"
   ]
  },
  {
   "cell_type": "code",
   "execution_count": 65,
   "id": "c3340c5e90a166bf",
   "metadata": {
    "ExecuteTime": {
     "end_time": "2025-09-26T10:12:29.543132Z",
     "start_time": "2025-09-26T10:12:29.540502Z"
    }
   },
   "outputs": [
    {
     "name": "stdout",
     "output_type": "stream",
     "text": [
      "1\n",
      "3\n",
      "5\n",
      "7\n",
      "9\n"
     ]
    }
   ],
   "source": [
    "for n in r:\n",
    "    print(n)"
   ]
  },
  {
   "cell_type": "markdown",
   "id": "cbc953798660c4b8",
   "metadata": {},
   "source": [
    "## Керування потоком виконання циклів\n",
    "Деколи виникає потреба змінити звичний хід виконання цикла. Для цього у циклах (як `while` так і `for`) використовують спеціальні інструкції.\n",
    "\n",
    "### continue\n",
    "Коли у циклі зустрічається інструкція `continue`, то виконання усіх інструкцій тіла циклу які йдуть за цим словом припиняється, і починається наступний прохід циклу.\n",
    "\n",
    "Розглянемо на прикладі: є набір чисел, треба вивести усі числа з цього списку які лежать у діапазоні від 50 до 100."
   ]
  },
  {
   "cell_type": "code",
   "execution_count": 66,
   "id": "e18d45f8d0dcdb17",
   "metadata": {
    "ExecuteTime": {
     "end_time": "2025-09-26T10:16:22.189462Z",
     "start_time": "2025-09-26T10:16:22.186651Z"
    }
   },
   "outputs": [
    {
     "name": "stdout",
     "output_type": "stream",
     "text": [
      "57\n",
      "81\n",
      "65\n",
      "82\n",
      "98\n"
     ]
    }
   ],
   "source": [
    "numbers = 33, 57, 81, 976, 65, 710, 82, 98, 774, 6\n",
    "\n",
    "for number in numbers:\n",
    "    if number < 50 or number > 100:\n",
    "        continue\n",
    "    print(number)"
   ]
  },
  {
   "cell_type": "markdown",
   "id": "70a83fddb8ec99e2",
   "metadata": {},
   "source": [
    "### break\n",
    "Інструкція `break` перериває виконання циклу. Керування переходить до наступної після тіла цикла інструкцї.\n",
    "\n",
    "Приклад: у наборі чисел знайти яким за порядком стоїть число зі значенням `7`:"
   ]
  },
  {
   "cell_type": "code",
   "execution_count": 67,
   "id": "d6a8587a647b99ea",
   "metadata": {
    "ExecuteTime": {
     "end_time": "2025-09-26T10:22:05.545941Z",
     "start_time": "2025-09-26T10:22:05.543067Z"
    }
   },
   "outputs": [
    {
     "name": "stdout",
     "output_type": "stream",
     "text": [
      "Індекс елемента зі значенням 7: 9\n"
     ]
    }
   ],
   "source": [
    "numbers = 33, 57, 81, 976, 65, 710, 82, 98, 7, 66\n",
    "index = 0\n",
    "while index < len(numbers)-1:\n",
    "    if numbers[index] == 7:\n",
    "        break\n",
    "    index = index + 1\n",
    "print('Індекс елемента зі значенням 7:', index+1)"
   ]
  },
  {
   "cell_type": "markdown",
   "id": "f7c4e330758bd7cb",
   "metadata": {},
   "source": [
    "### else\n",
    "Блок інструкцій після `else` буде виконано лише у тому випадку, якщо вихід з циклу відбувся \"природнім шляхом\", тобто не був перерваний інструкцією `break`.\n",
    "\n",
    "Приклад: у наборі чисел знайти індекс елемента зі значенням 7 і присвоїти його змінній `index`. Якщо це число не знайдено у списку, тоді змінній `index` присвоїти значення -1."
   ]
  },
  {
   "cell_type": "code",
   "execution_count": 68,
   "id": "27dc6de9d94e91f5",
   "metadata": {
    "ExecuteTime": {
     "end_time": "2025-09-26T10:25:34.353947Z",
     "start_time": "2025-09-26T10:25:34.350710Z"
    }
   },
   "outputs": [
    {
     "name": "stdout",
     "output_type": "stream",
     "text": [
      "Індекс елемента зі значенням 7: -1\n"
     ]
    }
   ],
   "source": [
    "numbers = 33, 57, 81, 976, 65, 710, 82, 98, 17, 66\n",
    "for index in range(len(numbers)):\n",
    "    if numbers[index] == 7:\n",
    "        break\n",
    "else:\n",
    "    index = -1\n",
    "print('Індекс елемента зі значенням 7:', index)"
   ]
  },
  {
   "cell_type": "markdown",
   "id": "0ba7b886-c304-4cf8-814e-7b354e7f455f",
   "metadata": {},
   "source": [
    "## Загальний висновок\n",
    "Керуючі структури є основою програмування, що дозволяє:\n",
    "\n",
    "1. Умовні оператори (`if`, `elif`, `else`) створюють розгалужені обчислення\n",
    "2. `match`-`case` надає елегантний спосіб обробки множинних варіантів\n",
    "3. Цикл `while` підходить для невизначеної кількості ітерацій\n",
    "4. Цикл `for` ідеальний для роботи з послідовностями та відомою кількістю повторень\n",
    "5. Вкладені структури дозволяють створювати складну логіку\n",
    "\n",
    "Правильне використання цих структур дозволяє створювати ефективні та читабельні програми, які можуть приймати рішення та виконувати повторювані операції."
   ]
  }
 ],
 "metadata": {
  "kernelspec": {
   "display_name": "Python 3 (ipykernel)",
   "language": "python",
   "name": "python3"
  },
  "language_info": {
   "codemirror_mode": {
    "name": "ipython",
    "version": 3
   },
   "file_extension": ".py",
   "mimetype": "text/x-python",
   "name": "python",
   "nbconvert_exporter": "python",
   "pygments_lexer": "ipython3",
   "version": "3.13.5"
  }
 },
 "nbformat": 4,
 "nbformat_minor": 5
}
