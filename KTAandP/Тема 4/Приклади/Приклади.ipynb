{
 "cells": [
  {
   "metadata": {},
   "cell_type": "markdown",
   "source": "# Приклади до теми № 4",
   "id": "be9d9b2909405bf0"
  },
  {
   "metadata": {},
   "cell_type": "markdown",
   "source": "## Приклади if, elif, else",
   "id": "a16ab6f169a20239"
  },
  {
   "metadata": {
    "collapsed": true
   },
   "cell_type": "markdown",
   "source": "### Приклад 1: Простий if",
   "id": "e293a0e0dd6ba33"
  },
  {
   "metadata": {},
   "cell_type": "code",
   "outputs": [],
   "execution_count": null,
   "source": [
    "# Перевірка віку для допуску до фільму\n",
    "age = int(input(\"Введіть ваш вік: \"))\n",
    "\n",
    "if age >= 18:\n",
    "    print(\"Ви можете дивитися фільм\")\n",
    "print(\"Дякуємо за відвідування кінотеатру\")"
   ],
   "id": "45d00021b156617d"
  },
  {
   "metadata": {},
   "cell_type": "markdown",
   "source": "### Приклад 2: if-else для розгалуження",
   "id": "7a1b71dfb3fa2981"
  },
  {
   "metadata": {},
   "cell_type": "code",
   "outputs": [],
   "execution_count": null,
   "source": [
    "# Визначення парності числа\n",
    "number = int(input(\"Введіть число: \"))\n",
    "\n",
    "if number % 2 == 0:\n",
    "    print(f\"Число {number} є парним\")\n",
    "else:\n",
    "    print(f\"Число {number} є непарним\")"
   ],
   "id": "4ed05e45fa1151b3"
  },
  {
   "metadata": {},
   "cell_type": "markdown",
   "source": "### Приклад 3: if-elif-else для множинного вибору",
   "id": "e8b71d439a643eaf"
  },
  {
   "metadata": {},
   "cell_type": "code",
   "outputs": [],
   "execution_count": null,
   "source": [
    "# Визначення оцінки за балами\n",
    "score = float(input(\"Введіть кількість балів (0-100): \"))\n",
    "\n",
    "if score >= 90:\n",
    "    grade = \"Відмінно\"\n",
    "elif score >= 75:\n",
    "    grade = \"Добре\"\n",
    "elif score >= 60:\n",
    "    grade = \"Задовільно\"\n",
    "else:\n",
    "    grade = \"Незадовільно\"\n",
    "\n",
    "print(f\"Ваша оцінка: {grade}\")"
   ],
   "id": "d6cebeb072145cdb"
  },
  {
   "metadata": {},
   "cell_type": "markdown",
   "source": "### Приклад 4: Використання логічних операторів",
   "id": "2bb10ac7d11de866"
  },
  {
   "metadata": {},
   "cell_type": "code",
   "outputs": [],
   "execution_count": null,
   "source": [
    "# Перевірка доступу до ресурсу\n",
    "username = input(\"Введіть ім'я користувача: \")\n",
    "password = input(\"Введіть пароль: \")\n",
    "\n",
    "# Перевірка логіну та паролю\n",
    "if username == \"admin\" and password == \"12345\":\n",
    "    print(\"Доступ дозволено\")\n",
    "elif username == \"admin\" and password != \"12345\":\n",
    "    print(\"Невірний пароль\")\n",
    "elif username != \"admin\":\n",
    "    print(\"Користувача не знайдено\")"
   ],
   "id": "f69b58e7c79385b8"
  },
  {
   "metadata": {},
   "cell_type": "markdown",
   "source": "### Приклад 5: Вкладені умови",
   "id": "33a8b51988b68f42"
  },
  {
   "metadata": {},
   "cell_type": "code",
   "outputs": [],
   "execution_count": null,
   "source": [
    "# Калькулятор знижки в магазині\n",
    "purchase_amount = float(input(\"Введіть суму покупки: \"))\n",
    "is_member = input(\"Ви є членом клубу? (так/ні): \").lower()\n",
    "\n",
    "if purchase_amount > 0:\n",
    "    if is_member == \"так\":\n",
    "        if purchase_amount >= 1000:\n",
    "            discount = 0.20  # 20% знижка\n",
    "        else:\n",
    "            discount = 0.10  # 10% знижка\n",
    "    else:\n",
    "        if purchase_amount >= 1500:\n",
    "            discount = 0.05  # 5% знижка\n",
    "        else:\n",
    "            discount = 0  # без знижки\n",
    "\n",
    "    final_amount = purchase_amount * (1 - discount)\n",
    "    print(f\"Початкова сума: {purchase_amount} грн\")\n",
    "    print(f\"Знижка: {discount * 100}%\")\n",
    "    print(f\"До сплати: {final_amount} грн\")\n",
    "else:\n",
    "    print(\"Некоректна сума покупки\")"
   ],
   "id": "b4cce2fc724a0031"
  },
  {
   "metadata": {},
   "cell_type": "markdown",
   "source": "### Приклад 6: Обчислення з похибкою",
   "id": "727d157232c0e294"
  },
  {
   "metadata": {},
   "cell_type": "code",
   "outputs": [],
   "execution_count": null,
   "source": [
    "# Розв'язання лінійного рівняння ax + b = 0\n",
    "a = float(input(\"Введіть коефіцієнт a: \"))\n",
    "b = float(input(\"Введіть коефіцієнт b: \"))\n",
    "\n",
    "# Визначаємо похибку для порівняння з нулем\n",
    "epsilon = 1e-10\n",
    "\n",
    "if abs(a) < epsilon:  # a практично дорівнює 0\n",
    "    if abs(b) < epsilon:  # b також практично дорівнює 0\n",
    "        print(\"Рівняння має безліч розв'язків\")\n",
    "    else:\n",
    "        print(\"Рівняння не має розв'язків\")\n",
    "else:\n",
    "    x = -b / a\n",
    "    print(f\"Розв'язок рівняння: x = {x}\")\n",
    "\n",
    "    # Перевірка правильності розв'язку\n",
    "    result = a * x + b\n",
    "    if abs(result) < epsilon:\n",
    "        print(\"Перевірка: розв'язок правильний\")\n",
    "    else:\n",
    "        print(f\"Похибка обчислення: {result}\")"
   ],
   "id": "3fd286546058adbd"
  },
  {
   "metadata": {},
   "cell_type": "markdown",
   "source": "## Приклади match-case",
   "id": "5798594883db44ef"
  },
  {
   "metadata": {},
   "cell_type": "markdown",
   "source": "### Приклад 1: Базове використання",
   "id": "23cac3fea697eeea"
  },
  {
   "metadata": {},
   "cell_type": "code",
   "outputs": [],
   "execution_count": null,
   "source": [
    "# Вибір дня тижня\n",
    "day_number = int(input(\"Введіть номер дня тижня (1-7): \"))\n",
    "\n",
    "match day_number:\n",
    "    case 1:\n",
    "        day_name = \"Понеділок\"\n",
    "    case 2:\n",
    "        day_name = \"Вівторок\"\n",
    "    case 3:\n",
    "        day_name = \"Середа\"\n",
    "    case 4:\n",
    "        day_name = \"Четвер\"\n",
    "    case 5:\n",
    "        day_name = \"П'ятниця\"\n",
    "    case 6:\n",
    "        day_name = \"Субота\"\n",
    "    case 7:\n",
    "        day_name = \"Неділя\"\n",
    "    case _:\n",
    "        day_name = \"Некоректний номер дня\"\n",
    "\n",
    "print(f\"День тижня: {day_name}\")"
   ],
   "id": "51cf5dac935c59db"
  },
  {
   "metadata": {},
   "cell_type": "markdown",
   "source": "### Приклад 2: Використання декількох значень в одному case",
   "id": "fdd3ae5399f5a710"
  },
  {
   "metadata": {},
   "cell_type": "code",
   "outputs": [],
   "execution_count": null,
   "source": [
    "# Класифікація місяців за порами року\n",
    "month = int(input(\"Введіть номер місяця (1-12): \"))\n",
    "\n",
    "match month:\n",
    "    case 12 | 1 | 2:\n",
    "        season = \"Зима\"\n",
    "    case 3 | 4 | 5:\n",
    "        season = \"Весна\"\n",
    "    case 6 | 7 | 8:\n",
    "        season = \"Літо\"\n",
    "    case 9 | 10 | 11:\n",
    "        season = \"Осінь\"\n",
    "    case _:\n",
    "        season = \"Некоректний номер місяця\"\n",
    "\n",
    "print(f\"Пора року: {season}\")"
   ],
   "id": "3587b6491294b0e5"
  },
  {
   "metadata": {},
   "cell_type": "markdown",
   "source": "### Приклад 3: Використання умов охорони (guards)",
   "id": "79e3f2b8c126b9d9"
  },
  {
   "metadata": {},
   "cell_type": "code",
   "outputs": [],
   "execution_count": null,
   "source": [
    "# Категоризація віку\n",
    "age = int(input(\"Введіть вік: \"))\n",
    "\n",
    "match age:\n",
    "    case n if n < 0:\n",
    "        category = \"Некоректний вік\"\n",
    "    case n if n < 6:\n",
    "        category = \"Дошкільнята\"\n",
    "    case n if n < 18:\n",
    "        category = \"Школярі\"\n",
    "    case n if n < 25:\n",
    "        category = \"Студенти\"\n",
    "    case n if n < 60:\n",
    "        category = \"Дорослі\"\n",
    "    case _:\n",
    "        category = \"Пенсіонери\"\n",
    "\n",
    "print(f\"Вікова категорія: {category}\")"
   ],
   "id": "e2e19b15251eaea3"
  },
  {
   "metadata": {},
   "cell_type": "markdown",
   "source": "### Приклад 4: Простий калькулятор",
   "id": "d7a11117dfd0abc0"
  },
  {
   "metadata": {},
   "cell_type": "code",
   "outputs": [],
   "execution_count": null,
   "source": [
    "# Калькулятор для базових операцій\n",
    "print(\"Оберіть операцію:\")\n",
    "print(\"1. Додавання\")\n",
    "print(\"2. Віднімання\")\n",
    "print(\"3. Множення\")\n",
    "print(\"4. Ділення\")\n",
    "\n",
    "choice = input(\"Введіть номер операції (1-4): \")\n",
    "num1 = float(input(\"Введіть перше число: \"))\n",
    "num2 = float(input(\"Введіть друге число: \"))\n",
    "\n",
    "match choice:\n",
    "    case \"1\":\n",
    "        result = num1 + num2\n",
    "        operation = \"+\"\n",
    "    case \"2\":\n",
    "        result = num1 - num2\n",
    "        operation = \"-\"\n",
    "    case \"3\":\n",
    "        result = num1 * num2\n",
    "        operation = \"*\"\n",
    "    case \"4\":\n",
    "        if num2 != 0:\n",
    "            result = num1 / num2\n",
    "            operation = \"/\"\n",
    "        else:\n",
    "            result = \"Помилка: ділення на нуль\"\n",
    "            operation = \"/\"\n",
    "    case _:\n",
    "        result = \"Некоректна операція\"\n",
    "        operation = \"?\"\n",
    "\n",
    "if choice in [\"1\", \"2\", \"3\", \"4\"] and (choice != \"4\" or num2 != 0):\n",
    "    print(f\"{num1} {operation} {num2} = {result}\")\n",
    "else:\n",
    "    print(result)"
   ],
   "id": "882963d5be2646d1"
  },
  {
   "metadata": {},
   "cell_type": "markdown",
   "source": "## Приклади циклу while",
   "id": "b22fd3bab39d7535"
  },
  {
   "metadata": {},
   "cell_type": "markdown",
   "source": "### Приклад 1: Базовий цикл while",
   "id": "7acb6e36be92ed35"
  },
  {
   "metadata": {},
   "cell_type": "code",
   "outputs": [],
   "execution_count": null,
   "source": [
    "# Зворотний відлік\n",
    "counter = 10\n",
    "print(\"Починаємо зворотний відлік:\")\n",
    "\n",
    "while counter > 0:\n",
    "    print(counter)\n",
    "    counter = counter - 1\n",
    "\n",
    "print(\"Старт!\")"
   ],
   "id": "25349ef87833def3"
  },
  {
   "metadata": {},
   "cell_type": "markdown",
   "source": "### Приклад 2: Цикл з невідомою кількістю ітерацій",
   "id": "1f97bddc8a92e099"
  },
  {
   "metadata": {},
   "cell_type": "code",
   "outputs": [],
   "execution_count": null,
   "source": [
    "# Гра \"Вгадай число\"\n",
    "secret_number = 42\n",
    "attempts = 0\n",
    "\n",
    "print(\"Я загадав число від 1 до 100. Спробуйте вгадати!\")\n",
    "\n",
    "guess = 0\n",
    "while guess != secret_number:\n",
    "    guess = int(input(\"Ваша спроба: \"))\n",
    "    attempts = attempts + 1\n",
    "\n",
    "    if guess < secret_number:\n",
    "        print(\"Моє число більше\")\n",
    "    elif guess > secret_number:\n",
    "        print(\"Моє число менше\")\n",
    "\n",
    "print(f\"Вітаю! Ви вгадали число {secret_number} за {attempts} спроб\")"
   ],
   "id": "8a5282d743430e52"
  },
  {
   "metadata": {},
   "cell_type": "markdown",
   "source": "### Приклад 3: Використання break та continue",
   "id": "3d68ed52842d7d7"
  },
  {
   "metadata": {},
   "cell_type": "code",
   "outputs": [],
   "execution_count": null,
   "source": [
    "# Обробка введення користувача\n",
    "total_sum = 0\n",
    "count = 0\n",
    "\n",
    "print(\"Введіть числа для підрахунку суми\")\n",
    "print(\"Введіть 0 для завершення\")\n",
    "print(\"Від'ємні числа будуть пропущені\")\n",
    "\n",
    "while True:\n",
    "    number = float(input(\"Число: \"))\n",
    "\n",
    "    if number == 0:\n",
    "        break  # Вихід з циклу\n",
    "\n",
    "    if number < 0:\n",
    "        print(\"Від'ємне число пропущено\")\n",
    "        continue  # Перехід до наступної ітерації\n",
    "\n",
    "    total_sum = total_sum + number\n",
    "    count = count + 1\n",
    "\n",
    "if count > 0:\n",
    "    average = total_sum / count\n",
    "    print(f\"Сума: {total_sum}\")\n",
    "    print(f\"Середнє: {average}\")\n",
    "else:\n",
    "    print(\"Не було введено жодного додатного числа\")"
   ],
   "id": "3b8c32e6a48a3473"
  },
  {
   "metadata": {},
   "cell_type": "markdown",
   "source": "### Приклад 4: Обчислення з заданою точністю",
   "id": "8ae78768a95bb7e0"
  },
  {
   "metadata": {},
   "cell_type": "code",
   "outputs": [],
   "execution_count": null,
   "source": [
    "# Наближене обчислення квадратного кореня методом Ньютона\n",
    "number = float(input(\"Введіть число для обчислення квадратного кореня: \"))\n",
    "\n",
    "if number < 0:\n",
    "    print(\"Квадратний корінь з від'ємного числа не визначений\")\n",
    "else:\n",
    "    # Початкове наближення\n",
    "    x = number\n",
    "    epsilon = 1e-6  # Точність обчислення\n",
    "    iteration = 0\n",
    "\n",
    "    while True:\n",
    "        iteration = iteration + 1\n",
    "        x_new = (x + number / x) / 2\n",
    "\n",
    "        # Перевірка досягнення необхідної точності\n",
    "        if abs(x_new - x) < epsilon:\n",
    "            break\n",
    "\n",
    "        x = x_new\n",
    "\n",
    "    print(f\"Квадратний корінь з {number} ≈ {x}\")\n",
    "    print(f\"Кількість ітерацій: {iteration}\")\n",
    "    print(f\"Перевірка: {x}² = {x * x}\")"
   ],
   "id": "9e33f781702b8e9d"
  },
  {
   "metadata": {},
   "cell_type": "markdown",
   "source": "### Приклад 5: Вкладені цикли while",
   "id": "c6293121c99c1d32"
  },
  {
   "metadata": {},
   "cell_type": "code",
   "outputs": [],
   "execution_count": null,
   "source": [
    "# Виведення таблиці множення\n",
    "print(\"Таблиця множення:\")\n",
    "print(\"-\" * 50)\n",
    "\n",
    "i = 1\n",
    "while i <= 5:\n",
    "    j = 1\n",
    "    row = \"\"\n",
    "    while j <= 5:\n",
    "        product = i * j\n",
    "        # Форматування для вирівнювання\n",
    "        if product < 10:\n",
    "            row = row + str(product) + \"   \"\n",
    "        else:\n",
    "            row = row + str(product) + \"  \"\n",
    "        j = j + 1\n",
    "    print(row)\n",
    "    i = i + 1"
   ],
   "id": "ceb48b7af2591f15"
  },
  {
   "metadata": {},
   "cell_type": "markdown",
   "source": "## Приклади циклу for",
   "id": "75ca37761a6f518e"
  },
  {
   "metadata": {},
   "cell_type": "markdown",
   "source": "### Приклад 1: Базове використання for з range",
   "id": "dc52aa8f62083962"
  },
  {
   "metadata": {},
   "cell_type": "code",
   "outputs": [],
   "execution_count": null,
   "source": [
    "# Виведення чисел від 1 до 10\n",
    "print(\"Числа від 1 до 10:\")\n",
    "for i in range(1, 11):\n",
    "    print(i, end=\" \")\n",
    "print()  # Перехід на новий рядок\n",
    "\n",
    "# Виведення парних чисел\n",
    "print(\"\\nПарні числа від 0 до 20:\")\n",
    "for i in range(0, 21, 2):\n",
    "    print(i, end=\" \")\n",
    "print()"
   ],
   "id": "df8fae94e7900244"
  },
  {
   "metadata": {},
   "cell_type": "markdown",
   "source": "### Приклад 2: Ітерація по рядку",
   "id": "980e9e41d0d06c0c"
  },
  {
   "metadata": {},
   "cell_type": "code",
   "outputs": [],
   "execution_count": null,
   "source": [
    "# Підрахунок голосних літер\n",
    "text = input(\"Введіть текст: \")\n",
    "vowels = \"аеєиіїоуюяАЕЄИІЇОУЮЯaeiouAEIOU\"\n",
    "vowel_count = 0\n",
    "\n",
    "for char in text:\n",
    "    if char in vowels:\n",
    "        vowel_count = vowel_count + 1\n",
    "\n",
    "print(f\"Кількість голосних: {vowel_count}\")"
   ],
   "id": "6baf729a8d07cfd5"
  },
  {
   "metadata": {},
   "cell_type": "markdown",
   "source": "### Приклад 3: Обчислення суми та добутку",
   "id": "14d84023893823f0"
  },
  {
   "metadata": {},
   "cell_type": "code",
   "outputs": [],
   "execution_count": null,
   "source": [
    "# Факторіал числа\n",
    "n = int(input(\"Введіть число для обчислення факторіалу: \"))\n",
    "\n",
    "if n < 0:\n",
    "    print(\"Факторіал не визначений для від'ємних чисел\")\n",
    "else:\n",
    "    factorial = 1\n",
    "    for i in range(1, n + 1):\n",
    "        factorial = factorial * i\n",
    "\n",
    "    print(f\"{n}! = {factorial}\")\n",
    "\n",
    "# Сума чисел від 1 до n\n",
    "sum_numbers = 0\n",
    "for i in range(1, n + 1):\n",
    "    sum_numbers = sum_numbers + i\n",
    "\n",
    "print(f\"Сума чисел від 1 до {n} = {sum_numbers}\")"
   ],
   "id": "394d16446af1763e"
  },
  {
   "metadata": {},
   "cell_type": "markdown",
   "source": "### Приклад 4: Вкладені цикли for",
   "id": "1d4b919a41411c74"
  },
  {
   "metadata": {},
   "cell_type": "code",
   "outputs": [],
   "execution_count": null,
   "source": [
    "# Виведення прямокутника з зірочок\n",
    "width = int(input(\"Введіть ширину: \"))\n",
    "height = int(input(\"Введіть висоту: \"))\n",
    "\n",
    "print(\"\\nПрямокутник:\")\n",
    "for i in range(height):\n",
    "    for j in range(width):\n",
    "        print(\"*\", end=\"\")\n",
    "    print()  # Перехід на новий рядок\n",
    "\n",
    "# Виведення трикутника\n",
    "print(\"\\nТрикутник:\")\n",
    "for i in range(1, height + 1):\n",
    "    for j in range(i):\n",
    "        print(\"*\", end=\"\")\n",
    "    print()"
   ],
   "id": "6f31073f28a988ad"
  },
  {
   "metadata": {},
   "cell_type": "markdown",
   "source": "### Приклад 5: Складні вкладені цикли",
   "id": "89e764215ae77db7"
  },
  {
   "metadata": {},
   "cell_type": "code",
   "outputs": [],
   "execution_count": null,
   "source": [
    "# Таблиця Піфагора\n",
    "size = 10\n",
    "print(\"Таблиця Піфагора:\")\n",
    "print(\"-\" * 60)\n",
    "\n",
    "# Заголовок\n",
    "print(\"   |\", end=\"\")\n",
    "for i in range(1, size + 1):\n",
    "    if i < 10:\n",
    "        print(f\"  {i}\", end=\"\")\n",
    "    else:\n",
    "        print(f\" {i}\", end=\"\")\n",
    "print()\n",
    "print(\"-\" * 60)\n",
    "\n",
    "# Тіло таблиці\n",
    "for i in range(1, size + 1):\n",
    "    # Номер рядка\n",
    "    if i < 10:\n",
    "        print(f\" {i} |\", end=\"\")\n",
    "    else:\n",
    "        print(f\"{i} |\", end=\"\")\n",
    "\n",
    "    # Значення в рядку\n",
    "    for j in range(1, size + 1):\n",
    "        product = i * j\n",
    "        if product < 10:\n",
    "            print(f\"  {product}\", end=\"\")\n",
    "        elif product < 100:\n",
    "            print(f\" {product}\", end=\"\")\n",
    "        else:\n",
    "            print(f\"{product}\", end=\"\")\n",
    "    print()"
   ],
   "id": "8c86acc1ff3fdaa3"
  },
  {
   "metadata": {},
   "cell_type": "markdown",
   "source": "### Приклад 6: Пошук простих чисел",
   "id": "8d77fbafea468658"
  },
  {
   "metadata": {},
   "cell_type": "code",
   "outputs": [],
   "execution_count": null,
   "source": [
    "# Знаходження простих чисел в діапазоні\n",
    "limit = int(input(\"Знайти прості числа до: \"))\n",
    "print(f\"Прості числа від 2 до {limit}:\")\n",
    "\n",
    "for num in range(2, limit + 1):\n",
    "    is_prime = True\n",
    "\n",
    "    # Перевірка на подільність\n",
    "    for divisor in range(2, num):\n",
    "        if num % divisor == 0:\n",
    "            is_prime = False\n",
    "            break\n",
    "\n",
    "    if is_prime:\n",
    "        print(num, end=\" \")\n",
    "\n",
    "print()"
   ],
   "id": "81ae643842681d29"
  },
  {
   "metadata": {},
   "cell_type": "markdown",
   "source": "### Приклад 7: Використання break та continue в for",
   "id": "1a0dd07c001338c5"
  },
  {
   "metadata": {},
   "cell_type": "code",
   "outputs": [],
   "execution_count": null,
   "source": [
    "# Пошук першого числа, що ділиться на 7 та 11\n",
    "print(\"Шукаємо перше число від 1 до 1000, що ділиться на 7 та 11:\")\n",
    "\n",
    "for num in range(1, 1001):\n",
    "    if num % 7 != 0:\n",
    "        continue  # Пропускаємо, якщо не ділиться на 7\n",
    "\n",
    "    if num % 11 == 0:\n",
    "        print(f\"Знайдено: {num}\")\n",
    "        break  # Виходимо з циклу\n",
    "else:\n",
    "    print(\"Число не знайдено\")"
   ],
   "id": "93f0c20fc1fdd8d9"
  }
 ],
 "metadata": {
  "kernelspec": {
   "display_name": "Python 3",
   "language": "python",
   "name": "python3"
  },
  "language_info": {
   "codemirror_mode": {
    "name": "ipython",
    "version": 2
   },
   "file_extension": ".py",
   "mimetype": "text/x-python",
   "name": "python",
   "nbconvert_exporter": "python",
   "pygments_lexer": "ipython2",
   "version": "2.7.6"
  }
 },
 "nbformat": 4,
 "nbformat_minor": 5
}
